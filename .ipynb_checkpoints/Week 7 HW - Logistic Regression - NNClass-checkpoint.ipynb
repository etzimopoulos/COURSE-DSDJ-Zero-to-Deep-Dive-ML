{
 "cells": [
  {
   "cell_type": "markdown",
   "metadata": {},
   "source": [
    "# Logistic Regression - Glass Type Classification\n",
    "\n",
    "## Import Libraries"
   ]
  },
  {
   "cell_type": "code",
   "execution_count": 1,
   "metadata": {},
   "outputs": [],
   "source": [
    "import numpy as np\n",
    "import pandas as pd\n",
    "from matplotlib import pyplot as plt\n",
    "from sklearn import datasets\n",
    "from numpy import array\n",
    "from numpy import argmax\n",
    "import math\n",
    "from sklearn import datasets"
   ]
  },
  {
   "cell_type": "markdown",
   "metadata": {},
   "source": [
    "## Data Set summary"
   ]
  },
  {
   "cell_type": "markdown",
   "metadata": {},
   "source": [
    "To get familiar with the data set and the objective of the classification here\n",
    "please see below the full Data Summary file published:\n",
    "https://archive.ics.uci.edu/ml/machine-learning-databases/glass/glass.names\n",
    "\n",
    "**Glass Types**\n",
    "As per glass type and glass distribution report we have the following:\n",
    "\n",
    "**Type of glass: (class attribute)**\n",
    "- 1 building_windows_float_processed\n",
    "- 2 building_windows_non_float_processed\n",
    "- 3 vehicle_windows_float_processed\n",
    "- 4 vehicle_windows_non_float_processed (none in this database)\n",
    "- 5 containers\n",
    "- 6 tableware\n",
    "- 7 headlamps\n",
    "\n",
    "**Class Distribution: (out of 214 total instances)**\n",
    "- **163 Window glass** (building windows and vehicle windows)\n",
    "  - 87 float processed  \n",
    "    - 70 building windows\n",
    "    - 17 vehicle windows\n",
    "  - 76 non-float processed\n",
    "    - 76 building windows\n",
    "    - 0 vehicle windows\n",
    "- **51 Non-window glass**\n",
    "   - 13 containers\n",
    "   - 9 tableware\n",
    "   - 29 headlamps\n",
    "\n"
   ]
  },
  {
   "cell_type": "markdown",
   "metadata": {},
   "source": [
    "### Classification objective (s)\n",
    "Based on the categories above, we can classify/predict either of the following\n",
    "- Predict A: **Window vs Non-window** glass OR\n",
    "- Predict B: **float vs non-float** processed window\n"
   ]
  },
  {
   "cell_type": "markdown",
   "metadata": {},
   "source": [
    "## Load the Glass Data Set"
   ]
  },
  {
   "cell_type": "code",
   "execution_count": 2,
   "metadata": {},
   "outputs": [
    {
     "data": {
      "text/html": [
       "<div>\n",
       "<style scoped>\n",
       "    .dataframe tbody tr th:only-of-type {\n",
       "        vertical-align: middle;\n",
       "    }\n",
       "\n",
       "    .dataframe tbody tr th {\n",
       "        vertical-align: top;\n",
       "    }\n",
       "\n",
       "    .dataframe thead th {\n",
       "        text-align: right;\n",
       "    }\n",
       "</style>\n",
       "<table border=\"1\" class=\"dataframe\">\n",
       "  <thead>\n",
       "    <tr style=\"text-align: right;\">\n",
       "      <th></th>\n",
       "      <th>ri</th>\n",
       "      <th>na</th>\n",
       "      <th>mg</th>\n",
       "      <th>al</th>\n",
       "      <th>si</th>\n",
       "      <th>k</th>\n",
       "      <th>ca</th>\n",
       "      <th>ba</th>\n",
       "      <th>fe</th>\n",
       "      <th>glass_type</th>\n",
       "    </tr>\n",
       "  </thead>\n",
       "  <tbody>\n",
       "    <tr>\n",
       "      <th>210</th>\n",
       "      <td>1.51623</td>\n",
       "      <td>14.14</td>\n",
       "      <td>0.0</td>\n",
       "      <td>2.88</td>\n",
       "      <td>72.61</td>\n",
       "      <td>0.08</td>\n",
       "      <td>9.18</td>\n",
       "      <td>1.06</td>\n",
       "      <td>0.0</td>\n",
       "      <td>7</td>\n",
       "    </tr>\n",
       "    <tr>\n",
       "      <th>211</th>\n",
       "      <td>1.51685</td>\n",
       "      <td>14.92</td>\n",
       "      <td>0.0</td>\n",
       "      <td>1.99</td>\n",
       "      <td>73.06</td>\n",
       "      <td>0.00</td>\n",
       "      <td>8.40</td>\n",
       "      <td>1.59</td>\n",
       "      <td>0.0</td>\n",
       "      <td>7</td>\n",
       "    </tr>\n",
       "    <tr>\n",
       "      <th>212</th>\n",
       "      <td>1.52065</td>\n",
       "      <td>14.36</td>\n",
       "      <td>0.0</td>\n",
       "      <td>2.02</td>\n",
       "      <td>73.42</td>\n",
       "      <td>0.00</td>\n",
       "      <td>8.44</td>\n",
       "      <td>1.64</td>\n",
       "      <td>0.0</td>\n",
       "      <td>7</td>\n",
       "    </tr>\n",
       "    <tr>\n",
       "      <th>213</th>\n",
       "      <td>1.51651</td>\n",
       "      <td>14.38</td>\n",
       "      <td>0.0</td>\n",
       "      <td>1.94</td>\n",
       "      <td>73.61</td>\n",
       "      <td>0.00</td>\n",
       "      <td>8.48</td>\n",
       "      <td>1.57</td>\n",
       "      <td>0.0</td>\n",
       "      <td>7</td>\n",
       "    </tr>\n",
       "    <tr>\n",
       "      <th>214</th>\n",
       "      <td>1.51711</td>\n",
       "      <td>14.23</td>\n",
       "      <td>0.0</td>\n",
       "      <td>2.08</td>\n",
       "      <td>73.36</td>\n",
       "      <td>0.00</td>\n",
       "      <td>8.62</td>\n",
       "      <td>1.67</td>\n",
       "      <td>0.0</td>\n",
       "      <td>7</td>\n",
       "    </tr>\n",
       "  </tbody>\n",
       "</table>\n",
       "</div>"
      ],
      "text/plain": [
       "          ri     na   mg    al     si     k    ca    ba   fe  glass_type\n",
       "210  1.51623  14.14  0.0  2.88  72.61  0.08  9.18  1.06  0.0           7\n",
       "211  1.51685  14.92  0.0  1.99  73.06  0.00  8.40  1.59  0.0           7\n",
       "212  1.52065  14.36  0.0  2.02  73.42  0.00  8.44  1.64  0.0           7\n",
       "213  1.51651  14.38  0.0  1.94  73.61  0.00  8.48  1.57  0.0           7\n",
       "214  1.51711  14.23  0.0  2.08  73.36  0.00  8.62  1.67  0.0           7"
      ]
     },
     "execution_count": 2,
     "metadata": {},
     "output_type": "execute_result"
    }
   ],
   "source": [
    "# For more background on the Glass Data set, have a look at the information link;\n",
    "# https://archive.ics.uci.edu/ml/datasets/glass+identification\n",
    "url = 'http://archive.ics.uci.edu/ml/machine-learning-databases/glass/glass.data'\n",
    "col_names = ['ri','na','mg','al','si','k','ca','ba','fe','glass_type']\n",
    "df = pd.read_csv(url, names=col_names)\n",
    "df.head()\n",
    "df.tail()"
   ]
  },
  {
   "cell_type": "markdown",
   "metadata": {},
   "source": [
    "### Predict A - Window vs Non-Window - Turn glass type into Feature"
   ]
  },
  {
   "cell_type": "code",
   "execution_count": 3,
   "metadata": {},
   "outputs": [
    {
     "data": {
      "text/html": [
       "<div>\n",
       "<style scoped>\n",
       "    .dataframe tbody tr th:only-of-type {\n",
       "        vertical-align: middle;\n",
       "    }\n",
       "\n",
       "    .dataframe tbody tr th {\n",
       "        vertical-align: top;\n",
       "    }\n",
       "\n",
       "    .dataframe thead th {\n",
       "        text-align: right;\n",
       "    }\n",
       "</style>\n",
       "<table border=\"1\" class=\"dataframe\">\n",
       "  <thead>\n",
       "    <tr style=\"text-align: right;\">\n",
       "      <th></th>\n",
       "      <th>ri</th>\n",
       "      <th>na</th>\n",
       "      <th>mg</th>\n",
       "      <th>al</th>\n",
       "      <th>si</th>\n",
       "      <th>k</th>\n",
       "      <th>ca</th>\n",
       "      <th>ba</th>\n",
       "      <th>fe</th>\n",
       "      <th>glass_type</th>\n",
       "      <th>Window</th>\n",
       "    </tr>\n",
       "  </thead>\n",
       "  <tbody>\n",
       "    <tr>\n",
       "      <th>1</th>\n",
       "      <td>1.52101</td>\n",
       "      <td>13.64</td>\n",
       "      <td>4.49</td>\n",
       "      <td>1.10</td>\n",
       "      <td>71.78</td>\n",
       "      <td>0.06</td>\n",
       "      <td>8.75</td>\n",
       "      <td>0.0</td>\n",
       "      <td>0.0</td>\n",
       "      <td>1</td>\n",
       "      <td>0</td>\n",
       "    </tr>\n",
       "    <tr>\n",
       "      <th>2</th>\n",
       "      <td>1.51761</td>\n",
       "      <td>13.89</td>\n",
       "      <td>3.60</td>\n",
       "      <td>1.36</td>\n",
       "      <td>72.73</td>\n",
       "      <td>0.48</td>\n",
       "      <td>7.83</td>\n",
       "      <td>0.0</td>\n",
       "      <td>0.0</td>\n",
       "      <td>1</td>\n",
       "      <td>0</td>\n",
       "    </tr>\n",
       "    <tr>\n",
       "      <th>3</th>\n",
       "      <td>1.51618</td>\n",
       "      <td>13.53</td>\n",
       "      <td>3.55</td>\n",
       "      <td>1.54</td>\n",
       "      <td>72.99</td>\n",
       "      <td>0.39</td>\n",
       "      <td>7.78</td>\n",
       "      <td>0.0</td>\n",
       "      <td>0.0</td>\n",
       "      <td>1</td>\n",
       "      <td>0</td>\n",
       "    </tr>\n",
       "    <tr>\n",
       "      <th>4</th>\n",
       "      <td>1.51766</td>\n",
       "      <td>13.21</td>\n",
       "      <td>3.69</td>\n",
       "      <td>1.29</td>\n",
       "      <td>72.61</td>\n",
       "      <td>0.57</td>\n",
       "      <td>8.22</td>\n",
       "      <td>0.0</td>\n",
       "      <td>0.0</td>\n",
       "      <td>1</td>\n",
       "      <td>0</td>\n",
       "    </tr>\n",
       "    <tr>\n",
       "      <th>5</th>\n",
       "      <td>1.51742</td>\n",
       "      <td>13.27</td>\n",
       "      <td>3.62</td>\n",
       "      <td>1.24</td>\n",
       "      <td>73.08</td>\n",
       "      <td>0.55</td>\n",
       "      <td>8.07</td>\n",
       "      <td>0.0</td>\n",
       "      <td>0.0</td>\n",
       "      <td>1</td>\n",
       "      <td>0</td>\n",
       "    </tr>\n",
       "  </tbody>\n",
       "</table>\n",
       "</div>"
      ],
      "text/plain": [
       "        ri     na    mg    al     si     k    ca   ba   fe  glass_type  Window\n",
       "1  1.52101  13.64  4.49  1.10  71.78  0.06  8.75  0.0  0.0           1       0\n",
       "2  1.51761  13.89  3.60  1.36  72.73  0.48  7.83  0.0  0.0           1       0\n",
       "3  1.51618  13.53  3.55  1.54  72.99  0.39  7.78  0.0  0.0           1       0\n",
       "4  1.51766  13.21  3.69  1.29  72.61  0.57  8.22  0.0  0.0           1       0\n",
       "5  1.51742  13.27  3.62  1.24  73.08  0.55  8.07  0.0  0.0           1       0"
      ]
     },
     "execution_count": 3,
     "metadata": {},
     "output_type": "execute_result"
    }
   ],
   "source": [
    "# glass_type 1, 2, 3 are window glass captured as \"0\"\n",
    "# glass_type 5, 6, 7 are non-window glass captured as \"1\"\n",
    "df['Window'] = df.glass_type.map({1:0, 2:0, 3:0, 4:0, 5:1, 6:1, 7:1})\n",
    "df.head()"
   ]
  },
  {
   "cell_type": "code",
   "execution_count": null,
   "metadata": {},
   "outputs": [],
   "source": []
  },
  {
   "cell_type": "markdown",
   "metadata": {},
   "source": [
    "### Predict B - Float vs Non-Float Windows - Turn Window glass type into a new Feature"
   ]
  },
  {
   "cell_type": "code",
   "execution_count": 4,
   "metadata": {},
   "outputs": [
    {
     "data": {
      "text/html": [
       "<div>\n",
       "<style scoped>\n",
       "    .dataframe tbody tr th:only-of-type {\n",
       "        vertical-align: middle;\n",
       "    }\n",
       "\n",
       "    .dataframe tbody tr th {\n",
       "        vertical-align: top;\n",
       "    }\n",
       "\n",
       "    .dataframe thead th {\n",
       "        text-align: right;\n",
       "    }\n",
       "</style>\n",
       "<table border=\"1\" class=\"dataframe\">\n",
       "  <thead>\n",
       "    <tr style=\"text-align: right;\">\n",
       "      <th></th>\n",
       "      <th>ri</th>\n",
       "      <th>na</th>\n",
       "      <th>mg</th>\n",
       "      <th>al</th>\n",
       "      <th>si</th>\n",
       "      <th>k</th>\n",
       "      <th>ca</th>\n",
       "      <th>ba</th>\n",
       "      <th>fe</th>\n",
       "      <th>glass_type</th>\n",
       "      <th>Window</th>\n",
       "      <th>Float</th>\n",
       "    </tr>\n",
       "  </thead>\n",
       "  <tbody>\n",
       "    <tr>\n",
       "      <th>1</th>\n",
       "      <td>1.52101</td>\n",
       "      <td>13.64</td>\n",
       "      <td>4.49</td>\n",
       "      <td>1.10</td>\n",
       "      <td>71.78</td>\n",
       "      <td>0.06</td>\n",
       "      <td>8.75</td>\n",
       "      <td>0.0</td>\n",
       "      <td>0.0</td>\n",
       "      <td>1</td>\n",
       "      <td>0</td>\n",
       "      <td>1</td>\n",
       "    </tr>\n",
       "    <tr>\n",
       "      <th>2</th>\n",
       "      <td>1.51761</td>\n",
       "      <td>13.89</td>\n",
       "      <td>3.60</td>\n",
       "      <td>1.36</td>\n",
       "      <td>72.73</td>\n",
       "      <td>0.48</td>\n",
       "      <td>7.83</td>\n",
       "      <td>0.0</td>\n",
       "      <td>0.0</td>\n",
       "      <td>1</td>\n",
       "      <td>0</td>\n",
       "      <td>1</td>\n",
       "    </tr>\n",
       "    <tr>\n",
       "      <th>3</th>\n",
       "      <td>1.51618</td>\n",
       "      <td>13.53</td>\n",
       "      <td>3.55</td>\n",
       "      <td>1.54</td>\n",
       "      <td>72.99</td>\n",
       "      <td>0.39</td>\n",
       "      <td>7.78</td>\n",
       "      <td>0.0</td>\n",
       "      <td>0.0</td>\n",
       "      <td>1</td>\n",
       "      <td>0</td>\n",
       "      <td>1</td>\n",
       "    </tr>\n",
       "    <tr>\n",
       "      <th>4</th>\n",
       "      <td>1.51766</td>\n",
       "      <td>13.21</td>\n",
       "      <td>3.69</td>\n",
       "      <td>1.29</td>\n",
       "      <td>72.61</td>\n",
       "      <td>0.57</td>\n",
       "      <td>8.22</td>\n",
       "      <td>0.0</td>\n",
       "      <td>0.0</td>\n",
       "      <td>1</td>\n",
       "      <td>0</td>\n",
       "      <td>1</td>\n",
       "    </tr>\n",
       "    <tr>\n",
       "      <th>5</th>\n",
       "      <td>1.51742</td>\n",
       "      <td>13.27</td>\n",
       "      <td>3.62</td>\n",
       "      <td>1.24</td>\n",
       "      <td>73.08</td>\n",
       "      <td>0.55</td>\n",
       "      <td>8.07</td>\n",
       "      <td>0.0</td>\n",
       "      <td>0.0</td>\n",
       "      <td>1</td>\n",
       "      <td>0</td>\n",
       "      <td>1</td>\n",
       "    </tr>\n",
       "  </tbody>\n",
       "</table>\n",
       "</div>"
      ],
      "text/plain": [
       "        ri     na    mg    al     si     k    ca   ba   fe  glass_type  \\\n",
       "1  1.52101  13.64  4.49  1.10  71.78  0.06  8.75  0.0  0.0           1   \n",
       "2  1.51761  13.89  3.60  1.36  72.73  0.48  7.83  0.0  0.0           1   \n",
       "3  1.51618  13.53  3.55  1.54  72.99  0.39  7.78  0.0  0.0           1   \n",
       "4  1.51766  13.21  3.69  1.29  72.61  0.57  8.22  0.0  0.0           1   \n",
       "5  1.51742  13.27  3.62  1.24  73.08  0.55  8.07  0.0  0.0           1   \n",
       "\n",
       "   Window  Float  \n",
       "1       0      1  \n",
       "2       0      1  \n",
       "3       0      1  \n",
       "4       0      1  \n",
       "5       0      1  "
      ]
     },
     "execution_count": 4,
     "metadata": {},
     "output_type": "execute_result"
    }
   ],
   "source": [
    "# Of all the Window type glasses above in A (glass type 1, 2 and 3)\n",
    "# distinguish between float and non-float ones\n",
    "# glass_type 1, 3 are window float glass captured as \"1\"\n",
    "# glass_type 2, 4 are windon non-float ones captured as \"0\"\n",
    "# glass_type 5, 6, 7 are non-window glass captured as \"2\"\n",
    "df['Float'] = df.glass_type.map({1:1, 2:0, 3:1, 4:0, 5:2, 6:2, 7:2})\n",
    "df.head()"
   ]
  },
  {
   "cell_type": "code",
   "execution_count": 5,
   "metadata": {},
   "outputs": [],
   "source": [
    "iris = datasets.load_iris()\n",
    "X = iris.data[:, :2]\n",
    "y = (iris.target != 0) * 1"
   ]
  },
  {
   "cell_type": "code",
   "execution_count": 6,
   "metadata": {},
   "outputs": [
    {
     "data": {
      "text/plain": [
       "(150, 2)"
      ]
     },
     "execution_count": 6,
     "metadata": {},
     "output_type": "execute_result"
    }
   ],
   "source": [
    "np.shape(X)"
   ]
  },
  {
   "cell_type": "code",
   "execution_count": null,
   "metadata": {},
   "outputs": [],
   "source": []
  },
  {
   "cell_type": "code",
   "execution_count": 7,
   "metadata": {},
   "outputs": [
    {
     "data": {
      "text/plain": [
       "array([0, 0, 0, 0, 0, 0, 0, 0, 0, 0, 0, 0, 0, 0, 0, 0, 0, 0, 0, 0, 0, 0,\n",
       "       0, 0, 0, 0, 0, 0, 0, 0, 0, 0, 0, 0, 0, 0, 0, 0, 0, 0, 0, 0, 0, 0,\n",
       "       0, 0, 0, 0, 0, 0, 1, 1, 1, 1, 1, 1, 1, 1, 1, 1, 1, 1, 1, 1, 1, 1,\n",
       "       1, 1, 1, 1, 1, 1, 1, 1, 1, 1, 1, 1, 1, 1, 1, 1, 1, 1, 1, 1, 1, 1,\n",
       "       1, 1, 1, 1, 1, 1, 1, 1, 1, 1, 1, 1, 1, 1, 1, 1, 1, 1, 1, 1, 1, 1,\n",
       "       1, 1, 1, 1, 1, 1, 1, 1, 1, 1, 1, 1, 1, 1, 1, 1, 1, 1, 1, 1, 1, 1,\n",
       "       1, 1, 1, 1, 1, 1, 1, 1, 1, 1, 1, 1, 1, 1, 1, 1, 1, 1])"
      ]
     },
     "execution_count": 7,
     "metadata": {},
     "output_type": "execute_result"
    }
   ],
   "source": [
    "y"
   ]
  },
  {
   "cell_type": "code",
   "execution_count": null,
   "metadata": {},
   "outputs": [],
   "source": []
  },
  {
   "cell_type": "code",
   "execution_count": 8,
   "metadata": {},
   "outputs": [
    {
     "data": {
      "text/plain": [
       "(214, 1)"
      ]
     },
     "execution_count": 8,
     "metadata": {},
     "output_type": "execute_result"
    }
   ],
   "source": [
    "X = df[['al']]\n",
    "\n",
    "#X = np.arange(len(X),)\n",
    "np.shape(X)\n",
    "\n",
    "\n"
   ]
  },
  {
   "cell_type": "code",
   "execution_count": 9,
   "metadata": {},
   "outputs": [
    {
     "data": {
      "text/plain": [
       "214"
      ]
     },
     "execution_count": 9,
     "metadata": {},
     "output_type": "execute_result"
    }
   ],
   "source": [
    "X.shape[0]"
   ]
  },
  {
   "cell_type": "code",
   "execution_count": 10,
   "metadata": {},
   "outputs": [
    {
     "data": {
      "text/plain": [
       "(214, 1)"
      ]
     },
     "execution_count": 10,
     "metadata": {},
     "output_type": "execute_result"
    }
   ],
   "source": [
    "y = df[['Window']].values\n",
    "#y = np.reshape(y, (-1,))\n",
    "#y\n",
    "np.shape(y)\n",
    "#y.shape[1]"
   ]
  },
  {
   "cell_type": "code",
   "execution_count": 11,
   "metadata": {},
   "outputs": [
    {
     "data": {
      "text/plain": [
       "Text(0, 0.5, 'Window vs Non-Window')"
      ]
     },
     "execution_count": 11,
     "metadata": {},
     "output_type": "execute_result"
    },
    {
     "data": {
      "image/png": "[encoded data removed]",
      "text/plain": [
       "<Figure size 432x288 with 1 Axes>"
      ]
     },
     "metadata": {
      "needs_background": "light"
     },
     "output_type": "display_data"
    }
   ],
   "source": [
    "plt.scatter(df.al, df.Window)\n",
    "plt.xlabel('al')\n",
    "plt.ylabel('Window vs Non-Window')"
   ]
  },
  {
   "cell_type": "code",
   "execution_count": null,
   "metadata": {},
   "outputs": [],
   "source": []
  },
  {
   "cell_type": "code",
   "execution_count": null,
   "metadata": {},
   "outputs": [],
   "source": []
  },
  {
   "cell_type": "markdown",
   "metadata": {},
   "source": [
    "# Define Parameters"
   ]
  },
  {
   "cell_type": "code",
   "execution_count": 12,
   "metadata": {},
   "outputs": [],
   "source": [
    "# Learning Rate\n",
    "eta = 0.001\n",
    "\n",
    "# Number of epochs for learning\n",
    "epochs = 30000\n",
    "\n",
    "# Input layer\n",
    "inputLayer = X.shape[1] + 1\n",
    "\n",
    "# Output Layer\n",
    "outputLayer = y.shape[1]\n",
    "\n",
    "# Number of Hidden Neurons\n",
    "#hidden = 1\n",
    "\n",
    "# Drop out rate probability (drp = 1 means no dropout)\n",
    "#drp = 1"
   ]
  },
  {
   "cell_type": "markdown",
   "metadata": {},
   "source": [
    "# Define Functions"
   ]
  },
  {
   "cell_type": "code",
   "execution_count": 13,
   "metadata": {},
   "outputs": [],
   "source": [
    "class Neural_Network(object):\n",
    "    def __init__(self, eta, inputL, outputL):\n",
    "\n",
    "        # Define NN structure parameters\n",
    "        self.inputLayer = inputL\n",
    "        #self.hidden = hiddenL\n",
    "        self.outputLayer = outputL\n",
    "        self.eta = eta\n",
    "        #self.drp = drp\n",
    "\n",
    "        # Initialise random weights based on NN structure\n",
    "        self.w = np.random.random((self.inputLayer, self.outputLayer))\n",
    "        #self.w = np.zeros(self.inputLayer+1, self.outputLayer)\n",
    "       \n",
    "        # Initialise Weights Learning lists to keep track of weights learning curve\n",
    "        #self.w01_list = []\n",
    "        self.w_list = []\n",
    "        #self.w01_curve = []\n",
    "        self.w_curve = []\n",
    "\n",
    "        # Initialise Error list to keep track of Error learning curve\n",
    "        self.E = []\n",
    "    \n",
    "    # Function to add the bias term of ones to the input (Bias or Intercept)\n",
    "    def add_bias(self, X):\n",
    "        bias = np.ones((X.shape[0], 1))\n",
    "        return np.concatenate((bias, X), axis=1)\n",
    "    \n",
    "    \n",
    "    def sigmoid(self, x, derivative=False):\n",
    "        if derivative:\n",
    "            return x * (1 - x)\n",
    "        return 1 / (1 + np.exp(-x))\n",
    "    \n",
    "    # Defininig the Cost function J(θ) (or else the Error) to minimise:\n",
    "    # Here using the Cross Entropy function\n",
    "    def error(self,h, y):\n",
    "        a_error = (-y * np.log(h) - (1 - y) * np.log(1 - h)).mean()\n",
    "        return a_error\n",
    "                \n",
    "        \n",
    "    def feedforward(self,X):\n",
    "        X = self.add_bias(X)\n",
    "        self.z = np.dot(X, self.w)\n",
    "        h = self.sigmoid(self.z)\n",
    "        return(h)\n",
    "  \n",
    "    \n",
    "    def backprop(self,X,y,h):\n",
    "        # Backpropagation for Single Perceptron using chain rule\n",
    "        # dE/dw = dE/dh * dh/dz * dz/dw\n",
    "        #          (1)     (2)     (3)\n",
    "        #\n",
    "        #\n",
    "        # Term (1) - dE/dh\n",
    "        # dE/dh: Partial derivative of the cost function J(Θ) towards h \n",
    "        #        (derived manually using simple derivatives rules)\n",
    "        #        (y-h) / (h*(1-h))\n",
    "        #\n",
    "        # Term (2) - dh/dz \n",
    "        # dh/dz: Derivative of Activation function (Sigmoid here)\n",
    "        #        h*(1-h)\n",
    "        # \n",
    "        # Term (3) - dz/dw\n",
    "        # dz/dw: Input X\n",
    "        # \n",
    "        # Final Result: dE/dq = (y-h)*X\n",
    "        \n",
    "        self.delta_E_w = np.dot(X.T,h-y) / self.outputLayer\n",
    "\n",
    "        \n",
    "        # Store All weights throughout learning\n",
    "        self.w_list.append(self.w)\n",
    "        #self.w12_list.append(self.w12)\n",
    "\n",
    "        # Adjust weights\n",
    "        self.w = self.w - eta * self.delta_E_w\n",
    "        #self.w12 = self.w12 - eta * self.delta_E_w12\n",
    "\n",
    "    def returnWeights(self):\n",
    "        return self.w\n",
    "        \n",
    "       \n",
    "    def errorCurve(self, error):\n",
    "        #print('E:', self.E)\n",
    "        #type(self.E)\n",
    "        #print('sum error:',sum(error))\n",
    "        self.E = np.append(self.E, error)\n",
    "        return self.E\n",
    "        \n",
    "    def train(self,X,y):\n",
    "        # Forward pass\n",
    "        #X = self.add_bias(X)\n",
    "        h = self.feedforward(X)\n",
    "        self.backprop(X,y,h)\n",
    "\n",
    "    def plot(self, E):\n",
    "        fig = plt.figure()\n",
    "        plt.plot(E)\n",
    "        \n",
    "        fig.suptitle('Error', fontsize=16)\n",
    "        plt.xlabel('Epochs', fontsize=12)\n",
    "        plt.ylabel('Error achieved', fontsize=12)\n",
    "        \n",
    "        # Save graphs\n",
    "        #fig.savefig('Error.jpg')\n",
    "      \n",
    "        plt.show()\n",
    "    \n",
    "    def decision(self, h):\n",
    "        if h >= 0.5:\n",
    "            return 1\n",
    "        else:\n",
    "            return 0\n",
    "        \n",
    "    #def classification(self, decision):\n",
    "        \n",
    "        \n",
    "    def predict(self, X):\n",
    "        # Forward pass\n",
    "        #X = self.add_bias(X)\n",
    "        a = self.feedforward(X)\n",
    "        \n",
    "        print(\"Minimum Error achieved:\", min(self.E)) \n",
    "        print(\"Epochs run:\", epochs)\n",
    "        #print(\"Hidden neurons\",self.hidden)\n",
    "        print(\"Learning Rate:\",self.eta)\n",
    "        #np.savetxt(\"Predicted_Output.csv\", a_o, delimiter=\",\")\n",
    "        #print(\"\\nPredicted Output based on trained weights:\")\n",
    "        #print(a_o)\n",
    "        #print(\"\\n\")\n",
    "    \n",
    "    \n",
    "    def classify(self, X, threshold):\n",
    "        return self.predict_prob(X) >= threshold\n",
    "    \n",
    "    ''' \n",
    "    # OLD functions used in prior examples\n",
    "    def plotWeights(self, epochs):\n",
    "        fig = plt.figure()\n",
    "        numberOfWeights = self.w01.shape[1]*self.w01.shape[0]\n",
    "        for k in range(numberOfWeights):\n",
    "            t= self.w01_curve[(epochs*k):(epochs*(k+1)-1)]\n",
    "            plt.plot(t)\n",
    "        if self.drp == 1:\n",
    "            fig.suptitle('W01 Weights learning', fontsize=16)\n",
    "        elif self.drp == 0.5:\n",
    "            fig.suptitle('W01 Weights learning WITH dropout', fontsize=16)\n",
    "        plt.xlabel('Epochs', fontsize=12)\n",
    "        plt.ylabel('W01', fontsize=12)\n",
    "        #fig.savefig('W01_curve.jpg')\n",
    "\n",
    "\n",
    "    def saveWeights(self):\n",
    "        np.savetxt(\"w.txt\", self.w, fmt=\"%s\")\n",
    "        #np.savetxt(\"w2.txt\", self.w12, fmt=\"%s\")\n",
    "        # print(\"Input-Hidden Layer weights:\\n\",self.w01)\n",
    "        # print(\"\\nHidden-Output Layer weights:\\n\",self.w12)\n",
    "\n",
    "    def weightsCurve(self):\n",
    "        for i in range(self.w01.shape[0]):\n",
    "            for j in range(self.w01.shape[1]):\n",
    "                for x in range(len(self.w01_list)):\n",
    "                    self.w01_curve.append(self.w01_list[x][i][j])\n",
    "                    #print(\"Weights w[\",x,\"],[\",i,\"],[\",j,\"] stored\")\n",
    "                    #print(w01_list[x][i][j])\n",
    "'''"
   ]
  },
  {
   "cell_type": "code",
   "execution_count": null,
   "metadata": {},
   "outputs": [],
   "source": []
  },
  {
   "cell_type": "markdown",
   "metadata": {},
   "source": [
    "# Start feeding forward and backpropagate *epochs* times."
   ]
  },
  {
   "cell_type": "code",
   "execution_count": 14,
   "metadata": {},
   "outputs": [],
   "source": [
    "\n",
    "# Initiating 2 NNs with the following function and input parameters\n",
    "# Neural_Network(eta, inputL, hiddenL, outputL, drp)\n",
    "# For initialization, can use direct values or the configuration parameters\n",
    "\n",
    "# Neural Network without Dropout\n",
    "NN1 = Neural_Network(eta, inputLayer, outputLayer)\n",
    "\n",
    "\n",
    "for epoch in range(epochs):\n",
    "    # Forward pass\n",
    "    h = NN1.feedforward(X)\n",
    "    \n",
    "    # Calculate the error and sub-type errors for NN1\n",
    "    a_error = NN1.error(h, y)\n",
    "    #print('a_error:',a_error)\n",
    "    \n",
    "    \n",
    "    # Create vector with error and expected output\n",
    "    a_err_y = np.concatenate((a_error,y), axis=213)\n",
    "    \n",
    "    \n",
    "    # Build NN1 error curve while learning\n",
    "    E = NN1.errorCurve(a_error)    \n",
    "    \n",
    "    # Train Neural Networks and construct weights learning curve as it learns\n",
    "    NN1.train(X, y)\n",
    "   "
   ]
  },
  {
   "cell_type": "code",
   "execution_count": 15,
   "metadata": {},
   "outputs": [
    {
     "data": {
      "text/plain": [
       "(214, 1)"
      ]
     },
     "execution_count": 15,
     "metadata": {},
     "output_type": "execute_result"
    }
   ],
   "source": [
    "np.shape(a_error)\n",
    "np.shape(y)"
   ]
  },
  {
   "cell_type": "markdown",
   "metadata": {},
   "source": [
    "## NN - Predict and Plot"
   ]
  },
  {
   "cell_type": "code",
   "execution_count": 16,
   "metadata": {},
   "outputs": [
    {
     "data": {
      "image/png": "[encoded data removed]",
      "text/plain": [
       "<Figure size 432x288 with 1 Axes>"
      ]
     },
     "metadata": {
      "needs_background": "light"
     },
     "output_type": "display_data"
    },
    {
     "name": "stdout",
     "output_type": "stream",
     "text": [
      "Minimum Error achieved: 0.6286401975561545\n",
      "Epochs run: 30000\n",
      "Learning Rate: 0.001\n"
     ]
    }
   ],
   "source": [
    "# Neural Network without Dropout\n",
    "NN1.plot(E)\n",
    "NN1.predict(X)\n",
    "\n",
    "# Build Weights curve using wxx_list and plot weights\n",
    "#NN1.weightsCurve()\n",
    "#NN1.plotWeights(epochs)\n"
   ]
  },
  {
   "cell_type": "code",
   "execution_count": 17,
   "metadata": {},
   "outputs": [
    {
     "data": {
      "text/plain": [
       "array([[-0.07568451],\n",
       "       [-0.41279683]])"
      ]
     },
     "execution_count": 17,
     "metadata": {},
     "output_type": "execute_result"
    }
   ],
   "source": [
    "weights = NN1.returnWeights()\n",
    "weights"
   ]
  },
  {
   "cell_type": "code",
   "execution_count": 18,
   "metadata": {},
   "outputs": [
    {
     "data": {
      "text/plain": [
       "Text(0, 0.5, 'Window')"
      ]
     },
     "execution_count": 18,
     "metadata": {},
     "output_type": "execute_result"
    },
    {
     "data": {
      "image/png": "[encoded data removed]",
      "text/plain": [
       "<Figure size 432x288 with 1 Axes>"
      ]
     },
     "metadata": {
      "needs_background": "light"
     },
     "output_type": "display_data"
    }
   ],
   "source": [
    "plt.scatter(df.al, df.Window)\n",
    "plt.xlabel('al')\n",
    "plt.ylabel('Window')"
   ]
  },
  {
   "cell_type": "markdown",
   "metadata": {},
   "source": [
    "# Show final total error, type contribution to error"
   ]
  },
  {
   "cell_type": "code",
   "execution_count": 19,
   "metadata": {},
   "outputs": [],
   "source": [
    "#print(\"Total error:\",sum(a_error))\n"
   ]
  },
  {
   "cell_type": "markdown",
   "metadata": {},
   "source": [
    "# Plot NN1 error"
   ]
  },
  {
   "cell_type": "code",
   "execution_count": 20,
   "metadata": {},
   "outputs": [
    {
     "data": {
      "text/plain": [
       "[<matplotlib.lines.Line2D at 0x25b78e0b198>]"
      ]
     },
     "execution_count": 20,
     "metadata": {},
     "output_type": "execute_result"
    },
    {
     "data": {
      "image/png": "[encoded data removed]",
      "text/plain": [
       "<Figure size 432x288 with 1 Axes>"
      ]
     },
     "metadata": {
      "needs_background": "light"
     },
     "output_type": "display_data"
    }
   ],
   "source": [
    "plt.plot(E)\n"
   ]
  },
  {
   "cell_type": "code",
   "execution_count": null,
   "metadata": {},
   "outputs": [],
   "source": []
  },
  {
   "cell_type": "markdown",
   "metadata": {},
   "source": [
    "# NN1 - Show independent, dependent, predicted values"
   ]
  },
  {
   "cell_type": "code",
   "execution_count": null,
   "metadata": {},
   "outputs": [],
   "source": []
  },
  {
   "cell_type": "code",
   "execution_count": 21,
   "metadata": {},
   "outputs": [],
   "source": [
    "y_pred = NN1.feedforward(X)\n",
    "#summary = np.concatenate((X,y,y_pred),axis=213)\n",
    "#plt.plot(y_pred)"
   ]
  },
  {
   "cell_type": "code",
   "execution_count": 22,
   "metadata": {},
   "outputs": [
    {
     "data": {
      "text/plain": [
       "(214, 1)"
      ]
     },
     "execution_count": 22,
     "metadata": {},
     "output_type": "execute_result"
    }
   ],
   "source": [
    "np.shape(y_pred)"
   ]
  },
  {
   "cell_type": "code",
   "execution_count": 23,
   "metadata": {},
   "outputs": [
    {
     "data": {
      "text/plain": [
       "array([[0.37057263],\n",
       "       [0.34590505],\n",
       "       [0.32929142],\n",
       "       [0.35247164],\n",
       "       [0.3571966 ],\n",
       "       [0.32203938],\n",
       "       [0.36672956],\n",
       "       [0.37539957],\n",
       "       [0.34497168],\n",
       "       [0.34590505],\n",
       "       [0.3274706 ],\n",
       "       [0.35435823],\n",
       "       [0.34217873],\n",
       "       [0.35435823],\n",
       "       [0.35058965],\n",
       "       [0.35814497],\n",
       "       [0.36481433],\n",
       "       [0.39100882],\n",
       "       [0.36290336],\n",
       "       [0.31576327],\n",
       "       [0.33386586],\n",
       "       [0.45130593],\n",
       "       [0.35247164],\n",
       "       [0.34683962],\n",
       "       [0.36577141],\n",
       "       [0.36004504],\n",
       "       [0.34125016],\n",
       "       [0.34871229],\n",
       "       [0.33939668],\n",
       "       [0.35341436],\n",
       "       [0.35153007],\n",
       "       [0.36672956],\n",
       "       [0.35814497],\n",
       "       [0.34403949],\n",
       "       [0.34777537],\n",
       "       [0.36004504],\n",
       "       [0.34965039],\n",
       "       [0.34683962],\n",
       "       [0.43298099],\n",
       "       [0.43298099],\n",
       "       [0.36864901],\n",
       "       [0.36099672],\n",
       "       [0.34871229],\n",
       "       [0.4078409 ],\n",
       "       [0.3619495 ],\n",
       "       [0.34683962],\n",
       "       [0.36290336],\n",
       "       [0.40883821],\n",
       "       [0.40088139],\n",
       "       [0.35814497],\n",
       "       [0.42893176],\n",
       "       [0.35341436],\n",
       "       [0.3619495 ],\n",
       "       [0.35341436],\n",
       "       [0.35247164],\n",
       "       [0.35247164],\n",
       "       [0.36864901],\n",
       "       [0.35247164],\n",
       "       [0.36385831],\n",
       "       [0.3619495 ],\n",
       "       [0.3696103 ],\n",
       "       [0.34965039],\n",
       "       [0.39199221],\n",
       "       [0.40187323],\n",
       "       [0.3900263 ],\n",
       "       [0.36864901],\n",
       "       [0.39297649],\n",
       "       [0.39297649],\n",
       "       [0.3900263 ],\n",
       "       [0.39791076],\n",
       "       [0.31132095],\n",
       "       [0.35435823],\n",
       "       [0.33111737],\n",
       "       [0.32656213],\n",
       "       [0.32929142],\n",
       "       [0.33203227],\n",
       "       [0.32929142],\n",
       "       [0.32929142],\n",
       "       [0.35624935],\n",
       "       [0.29733966],\n",
       "       [0.27872119],\n",
       "       [0.33939668],\n",
       "       [0.35624935],\n",
       "       [0.32838036],\n",
       "       [0.28205277],\n",
       "       [0.33386586],\n",
       "       [0.33570448],\n",
       "       [0.33111737],\n",
       "       [0.33478454],\n",
       "       [0.29993349],\n",
       "       [0.3696103 ],\n",
       "       [0.33754811],\n",
       "       [0.32565496],\n",
       "       [0.33570448],\n",
       "       [0.33386586],\n",
       "       [0.33939668],\n",
       "       [0.37443216],\n",
       "       [0.36481433],\n",
       "       [0.31398224],\n",
       "       [0.33939668],\n",
       "       [0.33847178],\n",
       "       [0.32113878],\n",
       "       [0.39692221],\n",
       "       [0.41383586],\n",
       "       [0.36385831],\n",
       "       [0.29906745],\n",
       "       [0.28038396],\n",
       "       [0.38025139],\n",
       "       [0.38025139],\n",
       "       [0.42388363],\n",
       "       [0.40286588],\n",
       "       [0.40485355],\n",
       "       [0.41283488],\n",
       "       [0.35530323],\n",
       "       [0.3619495 ],\n",
       "       [0.34871229],\n",
       "       [0.34125016],\n",
       "       [0.30515971],\n",
       "       [0.33020375],\n",
       "       [0.33570448],\n",
       "       [0.34965039],\n",
       "       [0.32203938],\n",
       "       [0.33478454],\n",
       "       [0.31398224],\n",
       "       [0.36577141],\n",
       "       [0.3274706 ],\n",
       "       [0.35530323],\n",
       "       [0.33939668],\n",
       "       [0.31754973],\n",
       "       [0.32113878],\n",
       "       [0.34590505],\n",
       "       [0.34590505],\n",
       "       [0.36290336],\n",
       "       [0.32929142],\n",
       "       [0.35624935],\n",
       "       [0.35153007],\n",
       "       [0.37250036],\n",
       "       [0.32656213],\n",
       "       [0.32929142],\n",
       "       [0.32023952],\n",
       "       [0.3229413 ],\n",
       "       [0.37346576],\n",
       "       [0.33847178],\n",
       "       [0.30691308],\n",
       "       [0.35814497],\n",
       "       [0.3571966 ],\n",
       "       [0.3696103 ],\n",
       "       [0.34777537],\n",
       "       [0.34403949],\n",
       "       [0.34683962],\n",
       "       [0.30955363],\n",
       "       [0.39692221],\n",
       "       [0.41483756],\n",
       "       [0.35909445],\n",
       "       [0.35058965],\n",
       "       [0.35530323],\n",
       "       [0.35341436],\n",
       "       [0.42186875],\n",
       "       [0.33111737],\n",
       "       [0.32113878],\n",
       "       [0.32929142],\n",
       "       [0.40485355],\n",
       "       [0.38904468],\n",
       "       [0.17939182],\n",
       "       [0.30080097],\n",
       "       [0.3274706 ],\n",
       "       [0.3274706 ],\n",
       "       [0.31934158],\n",
       "       [0.30341196],\n",
       "       [0.30955363],\n",
       "       [0.32565496],\n",
       "       [0.20906231],\n",
       "       [0.21043075],\n",
       "       [0.34217873],\n",
       "       [0.27459086],\n",
       "       [0.33203227],\n",
       "       [0.3274706 ],\n",
       "       [0.3619495 ],\n",
       "       [0.32203938],\n",
       "       [0.31844499],\n",
       "       [0.32929142],\n",
       "       [0.31132095],\n",
       "       [0.28121761],\n",
       "       [0.42388363],\n",
       "       [0.44620022],\n",
       "       [0.30515971],\n",
       "       [0.27049878],\n",
       "       [0.35814497],\n",
       "       [0.28372759],\n",
       "       [0.35058965],\n",
       "       [0.30691308],\n",
       "       [0.25766488],\n",
       "       [0.22663897],\n",
       "       [0.28878791],\n",
       "       [0.29048654],\n",
       "       [0.23469637],\n",
       "       [0.2452352 ],\n",
       "       [0.26083578],\n",
       "       [0.2361825 ],\n",
       "       [0.24753462],\n",
       "       [0.26806203],\n",
       "       [0.3619495 ],\n",
       "       [0.25451925],\n",
       "       [0.28963649],\n",
       "       [0.26644528],\n",
       "       [0.30603569],\n",
       "       [0.29993349],\n",
       "       [0.30428513],\n",
       "       [0.23027699],\n",
       "       [0.22019345],\n",
       "       [0.28963649],\n",
       "       [0.28709518],\n",
       "       [0.29390144],\n",
       "       [0.28205277]])"
      ]
     },
     "execution_count": 23,
     "metadata": {},
     "output_type": "execute_result"
    }
   ],
   "source": [
    "y_pred"
   ]
  },
  {
   "cell_type": "code",
   "execution_count": null,
   "metadata": {},
   "outputs": [],
   "source": []
  }
 ],
 "metadata": {
  "kernelspec": {
   "display_name": "Python 3",
   "language": "python",
   "name": "python3"
  },
  "language_info": {
   "codemirror_mode": {
    "name": "ipython",
    "version": 3
   },
   "file_extension": ".py",
   "mimetype": "text/x-python",
   "name": "python",
   "nbconvert_exporter": "python",
   "pygments_lexer": "ipython3",
   "version": "3.7.6"
  }
 },
 "nbformat": 4,
 "nbformat_minor": 2
}
