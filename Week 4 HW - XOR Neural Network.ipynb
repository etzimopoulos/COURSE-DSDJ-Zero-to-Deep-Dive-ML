{
 "cells": [
  {
   "cell_type": "markdown",
   "metadata": {},
   "source": [
    "# Import Libraries"
   ]
  },
  {
   "cell_type": "code",
   "execution_count": 1,
   "metadata": {},
   "outputs": [],
   "source": [
    "import numpy as np\n",
    "from matplotlib import pyplot as plt"
   ]
  },
  {
   "cell_type": "markdown",
   "metadata": {},
   "source": [
    "# Define the XOR Data Set"
   ]
  },
  {
   "cell_type": "code",
   "execution_count": 2,
   "metadata": {},
   "outputs": [],
   "source": [
    "\n",
    "X = np.array([\n",
    "    [1, 1, 1],\n",
    "    [1, 0, 1],\n",
    "    [0, 1, 1],\n",
    "    [0, 0, 1],\n",
    "])\n",
    "\n",
    "y = np.array([[0],\n",
    "              [1],\n",
    "              [1],\n",
    "              [0]\n",
    "             ])"
   ]
  },
  {
   "cell_type": "markdown",
   "metadata": {},
   "source": [
    "# Define Functions"
   ]
  },
  {
   "cell_type": "code",
   "execution_count": 3,
   "metadata": {},
   "outputs": [],
   "source": [
    "def sigmoid(x, derivative=False):\n",
    "    if derivative:\n",
    "        return x * (1 - x)\n",
    "    return 1 / (1 + np.exp(-x))"
   ]
  },
  {
   "cell_type": "code",
   "execution_count": 4,
   "metadata": {},
   "outputs": [],
   "source": [
    "def feedforward(X):\n",
    "    z_h = np.dot(X, w01)\n",
    "    a_h = sigmoid(z_h)\n",
    "\n",
    "    z_o = np.dot(a_h, w12)\n",
    "    a_o = sigmoid(z_o)\n",
    "    return(a_o,a_h)"
   ]
  },
  {
   "cell_type": "markdown",
   "metadata": {},
   "source": [
    "# Define Parameters"
   ]
  },
  {
   "cell_type": "code",
   "execution_count": 5,
   "metadata": {},
   "outputs": [],
   "source": [
    "# Learning Rate\n",
    "eta = 3\n",
    "\n",
    "# Number of epochs for learning\n",
    "epochs = 300\n",
    "\n",
    "# Number of Hidden Neurons\n",
    "hidden = 5"
   ]
  },
  {
   "cell_type": "markdown",
   "metadata": {},
   "source": [
    "# Initialize the weights"
   ]
  },
  {
   "cell_type": "code",
   "execution_count": 6,
   "metadata": {},
   "outputs": [],
   "source": [
    "w01 = np.random.random((len(X[0]), hidden))\n",
    "w12 = np.random.random((hidden, 1))\n",
    "\n",
    "w01_list = []\n",
    "w12_list = []"
   ]
  },
  {
   "cell_type": "markdown",
   "metadata": {},
   "source": [
    "## Start feeding forward and backpropagate *epochs* times."
   ]
  },
  {
   "cell_type": "code",
   "execution_count": 7,
   "metadata": {},
   "outputs": [
    {
     "name": "stdout",
     "output_type": "stream",
     "text": [
      "******** Error after  0 epochs is  [0.79821657] *********\n",
      "******** Error after  1 epochs is  [0.59069037] *********\n",
      "******** Error after  2 epochs is  [0.51984675] *********\n",
      "******** Error after  3 epochs is  [0.51308781] *********\n",
      "******** Error after  4 epochs is  [0.50883481] *********\n",
      "******** Error after  5 epochs is  [0.50644731] *********\n",
      "******** Error after  6 epochs is  [0.50469034] *********\n",
      "******** Error after  7 epochs is  [0.50355048] *********\n",
      "******** Error after  8 epochs is  [0.50266675] *********\n",
      "******** Error after  9 epochs is  [0.50204296] *********\n",
      "******** Error after  10 epochs is  [0.50154324] *********\n",
      "******** Error after  11 epochs is  [0.50116585] *********\n",
      "******** Error after  12 epochs is  [0.50085332] *********\n",
      "******** Error after  13 epochs is  [0.50060196] *********\n",
      "******** Error after  14 epochs is  [0.50038568] *********\n",
      "******** Error after  15 epochs is  [0.50020104] *********\n",
      "******** Error after  16 epochs is  [0.50003557] *********\n",
      "******** Error after  17 epochs is  [0.49988663] *********\n",
      "******** Error after  18 epochs is  [0.49974799] *********\n",
      "******** Error after  19 epochs is  [0.49961774] *********\n",
      "******** Error after  20 epochs is  [0.49949259] *********\n",
      "******** Error after  21 epochs is  [0.49937119] *********\n",
      "******** Error after  22 epochs is  [0.49925166] *********\n",
      "******** Error after  23 epochs is  [0.499133] *********\n",
      "******** Error after  24 epochs is  [0.499014] *********\n",
      "******** Error after  25 epochs is  [0.49889388] *********\n",
      "******** Error after  26 epochs is  [0.49877174] *********\n",
      "******** Error after  27 epochs is  [0.49864688] *********\n",
      "******** Error after  28 epochs is  [0.49851854] *********\n",
      "******** Error after  29 epochs is  [0.49838604] *********\n",
      "******** Error after  30 epochs is  [0.49824863] *********\n",
      "******** Error after  31 epochs is  [0.49810561] *********\n",
      "******** Error after  32 epochs is  [0.49795617] *********\n",
      "******** Error after  33 epochs is  [0.49779956] *********\n",
      "******** Error after  34 epochs is  [0.49763485] *********\n",
      "******** Error after  35 epochs is  [0.4974612] *********\n",
      "******** Error after  36 epochs is  [0.49727755] *********\n",
      "******** Error after  37 epochs is  [0.49708292] *********\n",
      "******** Error after  38 epochs is  [0.49687608] *********\n",
      "******** Error after  39 epochs is  [0.49665588] *********\n",
      "******** Error after  40 epochs is  [0.4964209] *********\n",
      "******** Error after  41 epochs is  [0.4961698] *********\n",
      "******** Error after  42 epochs is  [0.49590092] *********\n",
      "******** Error after  43 epochs is  [0.49561269] *********\n",
      "******** Error after  44 epochs is  [0.4953032] *********\n",
      "******** Error after  45 epochs is  [0.49497061] *********\n",
      "******** Error after  46 epochs is  [0.49461273] *********\n",
      "******** Error after  47 epochs is  [0.49422743] *********\n",
      "******** Error after  48 epochs is  [0.49381221] *********\n",
      "******** Error after  49 epochs is  [0.49336466] *********\n",
      "******** Error after  50 epochs is  [0.49288192] *********\n",
      "******** Error after  51 epochs is  [0.49236127] *********\n",
      "******** Error after  52 epochs is  [0.49179952] *********\n",
      "******** Error after  53 epochs is  [0.49119361] *********\n",
      "******** Error after  54 epochs is  [0.49054002] *********\n",
      "******** Error after  55 epochs is  [0.48983536] *********\n",
      "******** Error after  56 epochs is  [0.48907575] *********\n",
      "******** Error after  57 epochs is  [0.48825752] *********\n",
      "******** Error after  58 epochs is  [0.48737641] *********\n",
      "******** Error after  59 epochs is  [0.48642848] *********\n",
      "******** Error after  60 epochs is  [0.48540911] *********\n",
      "******** Error after  61 epochs is  [0.48431409] *********\n",
      "******** Error after  62 epochs is  [0.48313845] *********\n",
      "******** Error after  63 epochs is  [0.48187776] *********\n",
      "******** Error after  64 epochs is  [0.48052671] *********\n",
      "******** Error after  65 epochs is  [0.47908069] *********\n",
      "******** Error after  66 epochs is  [0.47753412] *********\n",
      "******** Error after  67 epochs is  [0.47588236] *********\n",
      "******** Error after  68 epochs is  [0.47411968] *********\n",
      "******** Error after  69 epochs is  [0.47224172] *********\n",
      "******** Error after  70 epochs is  [0.47024289] *********\n",
      "******** Error after  71 epochs is  [0.4681197] *********\n",
      "******** Error after  72 epochs is  [0.46586737] *********\n",
      "******** Error after  73 epochs is  [0.46348456] *********\n",
      "******** Error after  74 epochs is  [0.46096862] *********\n",
      "******** Error after  75 epochs is  [0.45832336] *********\n",
      "******** Error after  76 epochs is  [0.4555509] *********\n",
      "******** Error after  77 epochs is  [0.4526681] *********\n",
      "******** Error after  78 epochs is  [0.44968696] *********\n",
      "******** Error after  79 epochs is  [0.44666017] *********\n",
      "******** Error after  80 epochs is  [0.44361667] *********\n",
      "******** Error after  81 epochs is  [0.44071595] *********\n",
      "******** Error after  82 epochs is  [0.43798851] *********\n",
      "******** Error after  83 epochs is  [0.43592588] *********\n",
      "******** Error after  84 epochs is  [0.43432745] *********\n",
      "******** Error after  85 epochs is  [0.43469501] *********\n",
      "******** Error after  86 epochs is  [0.43508727] *********\n",
      "******** Error after  87 epochs is  [0.43993245] *********\n",
      "******** Error after  88 epochs is  [0.43990067] *********\n",
      "******** Error after  89 epochs is  [0.44827037] *********\n",
      "******** Error after  90 epochs is  [0.44015568] *********\n",
      "******** Error after  91 epochs is  [0.44831772] *********\n",
      "******** Error after  92 epochs is  [0.43160802] *********\n",
      "******** Error after  93 epochs is  [0.43862768] *********\n",
      "******** Error after  94 epochs is  [0.41959875] *********\n",
      "******** Error after  95 epochs is  [0.42578243] *********\n",
      "******** Error after  96 epochs is  [0.40736339] *********\n",
      "******** Error after  97 epochs is  [0.41304633] *********\n",
      "******** Error after  98 epochs is  [0.39569759] *********\n",
      "******** Error after  99 epochs is  [0.40120598] *********\n",
      "******** Error after  100 epochs is  [0.38471406] *********\n",
      "******** Error after  101 epochs is  [0.3903522] *********\n",
      "******** Error after  102 epochs is  [0.37435329] *********\n",
      "******** Error after  103 epochs is  [0.38040095] *********\n",
      "******** Error after  104 epochs is  [0.36451121] *********\n",
      "******** Error after  105 epochs is  [0.37123034] *********\n",
      "******** Error after  106 epochs is  [0.355076] *********\n",
      "******** Error after  107 epochs is  [0.36271844] *********\n",
      "******** Error after  108 epochs is  [0.34593971] *********\n",
      "******** Error after  109 epochs is  [0.35475162] *********\n",
      "******** Error after  110 epochs is  [0.33700238] *********\n",
      "******** Error after  111 epochs is  [0.34722432] *********\n",
      "******** Error after  112 epochs is  [0.32817453] *********\n",
      "******** Error after  113 epochs is  [0.34003746] *********\n",
      "******** Error after  114 epochs is  [0.31937977] *********\n",
      "******** Error after  115 epochs is  [0.33309766] *********\n",
      "******** Error after  116 epochs is  [0.31055717] *********\n",
      "******** Error after  117 epochs is  [0.32631662] *********\n",
      "******** Error after  118 epochs is  [0.30166253] *********\n",
      "******** Error after  119 epochs is  [0.31960937] *********\n",
      "******** Error after  120 epochs is  [0.29266826] *********\n",
      "******** Error after  121 epochs is  [0.31289128] *********\n",
      "******** Error after  122 epochs is  [0.28356211] *********\n",
      "******** Error after  123 epochs is  [0.3060746] *********\n",
      "******** Error after  124 epochs is  [0.2743454] *********\n",
      "******** Error after  125 epochs is  [0.29906547] *********\n",
      "******** Error after  126 epochs is  [0.26503035] *********\n",
      "******** Error after  127 epochs is  [0.29176181] *********\n",
      "******** Error after  128 epochs is  [0.25563636] *********\n",
      "******** Error after  129 epochs is  [0.28405161] *********\n",
      "******** Error after  130 epochs is  [0.24618467] *********\n",
      "******** Error after  131 epochs is  [0.27581134] *********\n",
      "******** Error after  132 epochs is  [0.23669124] *********\n",
      "******** Error after  133 epochs is  [0.26690444] *********\n",
      "******** Error after  134 epochs is  [0.22715738] *********\n",
      "******** Error after  135 epochs is  [0.25718] *********\n",
      "******** Error after  136 epochs is  [0.21755767] *********\n",
      "******** Error after  137 epochs is  [0.24647214] *********\n",
      "******** Error after  138 epochs is  [0.207825] *********\n",
      "******** Error after  139 epochs is  [0.23460096] *********\n",
      "******** Error after  140 epochs is  [0.19783294] *********\n",
      "******** Error after  141 epochs is  [0.22137762] *********\n",
      "******** Error after  142 epochs is  [0.18737776] *********\n",
      "******** Error after  143 epochs is  [0.20661792] *********\n",
      "******** Error after  144 epochs is  [0.17616722] *********\n",
      "******** Error after  145 epochs is  [0.19017419] *********\n",
      "******** Error after  146 epochs is  [0.16383396] *********\n",
      "******** Error after  147 epochs is  [0.17200474] *********\n",
      "******** Error after  148 epochs is  [0.15001215] *********\n",
      "******** Error after  149 epochs is  [0.15231555] *********\n",
      "******** Error after  150 epochs is  [0.13454572] *********\n",
      "******** Error after  151 epochs is  [0.13180805] *********\n",
      "******** Error after  152 epochs is  [0.11788678] *********\n",
      "******** Error after  153 epochs is  [0.11195974] *********\n",
      "******** Error after  154 epochs is  [0.10151542] *********\n",
      "******** Error after  155 epochs is  [0.09490633] *********\n",
      "******** Error after  156 epochs is  [0.08764372] *********\n",
      "******** Error after  157 epochs is  [0.082315] *********\n",
      "******** Error after  158 epochs is  [0.0776527] *********\n",
      "******** Error after  159 epochs is  [0.07400706] *********\n",
      "******** Error after  160 epochs is  [0.07095696] *********\n",
      "******** Error after  161 epochs is  [0.068368] *********\n",
      "******** Error after  162 epochs is  [0.0660632] *********\n",
      "******** Error after  163 epochs is  [0.06394728] *********\n",
      "******** Error after  164 epochs is  [0.06196019] *********\n",
      "******** Error after  165 epochs is  [0.06007192] *********\n",
      "******** Error after  166 epochs is  [0.05826703] *********\n",
      "******** Error after  167 epochs is  [0.05653766] *********\n",
      "******** Error after  168 epochs is  [0.05487901] *********\n",
      "******** Error after  169 epochs is  [0.0532875] *********\n",
      "******** Error after  170 epochs is  [0.05176003] *********\n",
      "******** Error after  171 epochs is  [0.05029373] *********\n",
      "******** Error after  172 epochs is  [0.04888585] *********\n",
      "******** Error after  173 epochs is  [0.04753377] *********\n",
      "******** Error after  174 epochs is  [0.04623498] *********\n",
      "******** Error after  175 epochs is  [0.04498708] *********\n",
      "******** Error after  176 epochs is  [0.04378775] *********\n",
      "******** Error after  177 epochs is  [0.04263481] *********\n",
      "******** Error after  178 epochs is  [0.04152616] *********\n",
      "******** Error after  179 epochs is  [0.04045979] *********\n",
      "******** Error after  180 epochs is  [0.03943378] *********\n",
      "******** Error after  181 epochs is  [0.03844633] *********\n",
      "******** Error after  182 epochs is  [0.03749569] *********\n",
      "******** Error after  183 epochs is  [0.0365802] *********\n",
      "******** Error after  184 epochs is  [0.03569829] *********\n",
      "******** Error after  185 epochs is  [0.03484847] *********\n",
      "******** Error after  186 epochs is  [0.0340293] *********\n",
      "******** Error after  187 epochs is  [0.03323943] *********\n",
      "******** Error after  188 epochs is  [0.03247756] *********\n",
      "******** Error after  189 epochs is  [0.03174246] *********\n",
      "******** Error after  190 epochs is  [0.03103296] *********\n"
     ]
    },
    {
     "name": "stdout",
     "output_type": "stream",
     "text": [
      "******** Error after  191 epochs is  [0.03034796] *********\n",
      "******** Error after  192 epochs is  [0.02968638] *********\n",
      "******** Error after  193 epochs is  [0.02904723] *********\n",
      "******** Error after  194 epochs is  [0.02842954] *********\n",
      "******** Error after  195 epochs is  [0.02783241] *********\n",
      "******** Error after  196 epochs is  [0.02725496] *********\n",
      "******** Error after  197 epochs is  [0.02669637] *********\n",
      "******** Error after  198 epochs is  [0.02615585] *********\n",
      "******** Error after  199 epochs is  [0.02563266] *********\n",
      "******** Error after  200 epochs is  [0.02512608] *********\n",
      "******** Error after  201 epochs is  [0.02463543] *********\n",
      "******** Error after  202 epochs is  [0.02416007] *********\n",
      "******** Error after  203 epochs is  [0.02369939] *********\n",
      "******** Error after  204 epochs is  [0.02325279] *********\n",
      "******** Error after  205 epochs is  [0.02281972] *********\n",
      "******** Error after  206 epochs is  [0.02239964] *********\n",
      "******** Error after  207 epochs is  [0.02199205] *********\n",
      "******** Error after  208 epochs is  [0.02159646] *********\n",
      "******** Error after  209 epochs is  [0.02121241] *********\n",
      "******** Error after  210 epochs is  [0.02083945] *********\n",
      "******** Error after  211 epochs is  [0.02047718] *********\n",
      "******** Error after  212 epochs is  [0.02012518] *********\n",
      "******** Error after  213 epochs is  [0.01978306] *********\n",
      "******** Error after  214 epochs is  [0.01945048] *********\n",
      "******** Error after  215 epochs is  [0.01912707] *********\n",
      "******** Error after  216 epochs is  [0.01881249] *********\n",
      "******** Error after  217 epochs is  [0.01850643] *********\n",
      "******** Error after  218 epochs is  [0.01820859] *********\n",
      "******** Error after  219 epochs is  [0.01791867] *********\n",
      "******** Error after  220 epochs is  [0.01763638] *********\n",
      "******** Error after  221 epochs is  [0.01736147] *********\n",
      "******** Error after  222 epochs is  [0.01709366] *********\n",
      "******** Error after  223 epochs is  [0.01683273] *********\n",
      "******** Error after  224 epochs is  [0.01657843] *********\n",
      "******** Error after  225 epochs is  [0.01633053] *********\n",
      "******** Error after  226 epochs is  [0.01608883] *********\n",
      "******** Error after  227 epochs is  [0.0158531] *********\n",
      "******** Error after  228 epochs is  [0.01562316] *********\n",
      "******** Error after  229 epochs is  [0.01539881] *********\n",
      "******** Error after  230 epochs is  [0.01517987] *********\n",
      "******** Error after  231 epochs is  [0.01496616] *********\n",
      "******** Error after  232 epochs is  [0.01475752] *********\n",
      "******** Error after  233 epochs is  [0.01455378] *********\n",
      "******** Error after  234 epochs is  [0.01435478] *********\n",
      "******** Error after  235 epochs is  [0.01416039] *********\n",
      "******** Error after  236 epochs is  [0.01397044] *********\n",
      "******** Error after  237 epochs is  [0.01378481] *********\n",
      "******** Error after  238 epochs is  [0.01360336] *********\n",
      "******** Error after  239 epochs is  [0.01342596] *********\n",
      "******** Error after  240 epochs is  [0.01325249] *********\n",
      "******** Error after  241 epochs is  [0.01308284] *********\n",
      "******** Error after  242 epochs is  [0.01291688] *********\n",
      "******** Error after  243 epochs is  [0.01275451] *********\n",
      "******** Error after  244 epochs is  [0.01259562] *********\n",
      "******** Error after  245 epochs is  [0.01244011] *********\n",
      "******** Error after  246 epochs is  [0.01228789] *********\n",
      "******** Error after  247 epochs is  [0.01213885] *********\n",
      "******** Error after  248 epochs is  [0.0119929] *********\n",
      "******** Error after  249 epochs is  [0.01184996] *********\n",
      "******** Error after  250 epochs is  [0.01170995] *********\n",
      "******** Error after  251 epochs is  [0.01157278] *********\n",
      "******** Error after  252 epochs is  [0.01143837] *********\n",
      "******** Error after  253 epochs is  [0.01130664] *********\n",
      "******** Error after  254 epochs is  [0.01117752] *********\n",
      "******** Error after  255 epochs is  [0.01105095] *********\n",
      "******** Error after  256 epochs is  [0.01092685] *********\n",
      "******** Error after  257 epochs is  [0.01080515] *********\n",
      "******** Error after  258 epochs is  [0.01068579] *********\n",
      "******** Error after  259 epochs is  [0.01056872] *********\n",
      "******** Error after  260 epochs is  [0.01045386] *********\n",
      "******** Error after  261 epochs is  [0.01034116] *********\n",
      "******** Error after  262 epochs is  [0.01023057] *********\n",
      "******** Error after  263 epochs is  [0.01012203] *********\n",
      "******** Error after  264 epochs is  [0.01001548] *********\n",
      "******** Error after  265 epochs is  [0.00991088] *********\n",
      "******** Error after  266 epochs is  [0.00980819] *********\n",
      "******** Error after  267 epochs is  [0.00970734] *********\n",
      "******** Error after  268 epochs is  [0.00960829] *********\n",
      "******** Error after  269 epochs is  [0.00951101] *********\n",
      "******** Error after  270 epochs is  [0.00941544] *********\n",
      "******** Error after  271 epochs is  [0.00932154] *********\n",
      "******** Error after  272 epochs is  [0.00922928] *********\n",
      "******** Error after  273 epochs is  [0.00913861] *********\n",
      "******** Error after  274 epochs is  [0.0090495] *********\n",
      "******** Error after  275 epochs is  [0.00896191] *********\n",
      "******** Error after  276 epochs is  [0.0088758] *********\n",
      "******** Error after  277 epochs is  [0.00879114] *********\n",
      "******** Error after  278 epochs is  [0.00870789] *********\n",
      "******** Error after  279 epochs is  [0.00862602] *********\n",
      "******** Error after  280 epochs is  [0.0085455] *********\n",
      "******** Error after  281 epochs is  [0.0084663] *********\n",
      "******** Error after  282 epochs is  [0.00838839] *********\n",
      "******** Error after  283 epochs is  [0.00831174] *********\n",
      "******** Error after  284 epochs is  [0.00823631] *********\n",
      "******** Error after  285 epochs is  [0.00816209] *********\n",
      "******** Error after  286 epochs is  [0.00808905] *********\n",
      "******** Error after  287 epochs is  [0.00801716] *********\n",
      "******** Error after  288 epochs is  [0.00794639] *********\n",
      "******** Error after  289 epochs is  [0.00787672] *********\n",
      "******** Error after  290 epochs is  [0.00780813] *********\n",
      "******** Error after  291 epochs is  [0.00774059] *********\n",
      "******** Error after  292 epochs is  [0.00767408] *********\n",
      "******** Error after  293 epochs is  [0.00760858] *********\n",
      "******** Error after  294 epochs is  [0.00754407] *********\n",
      "******** Error after  295 epochs is  [0.00748053] *********\n",
      "******** Error after  296 epochs is  [0.00741793] *********\n",
      "******** Error after  297 epochs is  [0.00735625] *********\n",
      "******** Error after  298 epochs is  [0.00729549] *********\n",
      "******** Error after  299 epochs is  [0.00723561] *********\n"
     ]
    }
   ],
   "source": [
    "E_o = []\n",
    "for epoch in range(epochs):\n",
    "    a_o, a_h = feedforward(X)\n",
    "    \n",
    "    # Calculate the error\n",
    "    a_o_error = ((1 / 2) * (np.power((a_o - y), 2)))\n",
    "    print(\"******** Error after \", epoch, \"epochs is \", sum(a_o_error), \"*********\")\n",
    "    #print(sum(a_o_error))\n",
    "    E_o = np.append(E_o, sum(a_o_error))\n",
    "    \n",
    "    \n",
    "    # Backpropagation\n",
    "    ## Output to Hidden Layer weights\n",
    "    delta_E_o = a_o - y\n",
    "    delta_a_o = sigmoid(a_o,derivative=True)\n",
    "    delta_z_o = a_h\n",
    "    delta_E_w12 = np.dot(delta_z_o.T,(delta_E_o * delta_a_o))\n",
    "    \n",
    "\n",
    "    ## Hidden to Input Layer weights\n",
    "    delta_E_h = np.dot(delta_E_o * delta_a_o, w12.T)\n",
    "    delta_a_h = sigmoid(a_h,derivative=True)\n",
    "    delta_z_h = X\n",
    "    delta_E_w01 = np.dot(delta_z_h.T, delta_E_h * delta_a_h)\n",
    "    \n",
    "\n",
    "    # Store All weights throughout learning\n",
    "    w01_list.append(w01)\n",
    "    w12_list.append(w12)\n",
    "\n",
    "    # Adjust weights\n",
    "    w01 = w01 - eta * delta_E_w01\n",
    "    w12 = w12 - eta * delta_E_w12\n",
    "    \n"
   ]
  },
  {
   "cell_type": "markdown",
   "metadata": {},
   "source": [
    "# Checking dimensions across calculations"
   ]
  },
  {
   "cell_type": "code",
   "execution_count": 8,
   "metadata": {},
   "outputs": [
    {
     "name": "stdout",
     "output_type": "stream",
     "text": [
      "\n",
      "E_o dimension is  (4, 1)\n",
      "delta_a_o dimension is  (4, 1)\n",
      "delta_z_o dimension is  (4, 5)\n",
      "delta_E_o times delta_a_o dimension is  (4, 1)\n",
      "delta_z_o Transpose dimension is (5, 4)\n",
      "Output layer dimension is  (5, 1)\n",
      "\n",
      "delta_E_o times delta_a_o dimension is  (4, 1)\n",
      "w12 Transpose dimension is (1, 5)\n",
      "delta_E_h dimension is  (4, 5)\n",
      "delta_a_h dimension is  (4, 5)\n",
      "delta_z_h dimension is  (4, 3)\n",
      "Hidden Layer dimension is  (3, 5)\n"
     ]
    }
   ],
   "source": [
    "    print(\"\")\n",
    "    print(\"E_o dimension is \", delta_E_o.shape)\n",
    "    print(\"delta_a_o dimension is \", delta_a_o.shape)\n",
    "    print(\"delta_z_o dimension is \", delta_z_o.shape)\n",
    "    print(\"delta_E_o times delta_a_o dimension is \", (delta_E_o * delta_a_o).shape)\n",
    "    print(\"delta_z_o Transpose dimension is\", (delta_z_o.T).shape)\n",
    "    print(\"Output layer dimension is \", delta_E_w12.shape)\n",
    "    print(\"\")\n",
    "    print(\"delta_E_o times delta_a_o dimension is \", (delta_E_o * delta_a_o).shape)\n",
    "    print(\"w12 Transpose dimension is\", (w12.T).shape)    \n",
    "    print(\"delta_E_h dimension is \", delta_E_h.shape)\n",
    "    print(\"delta_a_h dimension is \", delta_a_h.shape)\n",
    "    print(\"delta_z_h dimension is \", delta_z_h.shape)\n",
    "    print(\"Hidden Layer dimension is \", delta_E_w01.shape)"
   ]
  },
  {
   "cell_type": "markdown",
   "metadata": {},
   "source": [
    "# Sample learned output"
   ]
  },
  {
   "cell_type": "code",
   "execution_count": 9,
   "metadata": {},
   "outputs": [
    {
     "name": "stdout",
     "output_type": "stream",
     "text": [
      "[[0.06924601]\n",
      " [0.94299169]\n",
      " [0.93380576]\n",
      " [0.04389273]]\n"
     ]
    }
   ],
   "source": [
    "a_o, a_h = feedforward(X)\n",
    "print(a_o)"
   ]
  },
  {
   "cell_type": "code",
   "execution_count": 10,
   "metadata": {},
   "outputs": [
    {
     "name": "stdout",
     "output_type": "stream",
     "text": [
      "3\n",
      "5\n",
      "300\n"
     ]
    },
    {
     "data": {
      "text/plain": [
       "array([[0.75634691, 0.9556234 , 0.70224738, 0.89781142, 0.13838488],\n",
       "       [0.64419549, 0.32222208, 0.22558193, 0.59604421, 0.39798663],\n",
       "       [0.81067087, 0.0542989 , 0.13923502, 0.64167314, 0.64505976]])"
      ]
     },
     "execution_count": 10,
     "metadata": {},
     "output_type": "execute_result"
    }
   ],
   "source": [
    "#w01_list[0][0][0]\n",
    "len(w01)\n",
    "#len(w01.columns)\n",
    "print(w01.shape[0])\n",
    "print(w01.shape[1])\n",
    "print(len(w01_list))\n",
    "w01_list[0]\n"
   ]
  },
  {
   "cell_type": "code",
   "execution_count": 11,
   "metadata": {},
   "outputs": [
    {
     "name": "stdout",
     "output_type": "stream",
     "text": [
      "5\n",
      "1\n",
      "300\n"
     ]
    }
   ],
   "source": [
    "len(w12)\n",
    "#len(w12.columns)\n",
    "print(w12.shape[0])\n",
    "print(w12.shape[1])\n",
    "print(len(w12_list))\n",
    "w12_curve=[]\n",
    "\n",
    "for j in range(w12.shape[0]):\n",
    "    for x in range(len(w12_list)):\n",
    "        w12_curve.append(w12_list[x][j])"
   ]
  },
  {
   "cell_type": "markdown",
   "metadata": {},
   "source": [
    "# Neural Network weights: stored and plotted"
   ]
  },
  {
   "cell_type": "code",
   "execution_count": 12,
   "metadata": {},
   "outputs": [],
   "source": [
    "w01_curve = []\n",
    "for i in range(w01.shape[0]):\n",
    "    for j in range(w01.shape[1]):\n",
    "        for x in range(len(w01_list)):\n",
    "            #print(w01_list[x][i][j])\n",
    "            w01_curve.append(w01_list[x][i][j])\n",
    "            #print(\"Weights w[\",x,\"],[\",i,\"],[\",j,\"] stored\")"
   ]
  },
  {
   "cell_type": "code",
   "execution_count": 13,
   "metadata": {},
   "outputs": [
    {
     "data": {
      "text/plain": [
       "15"
      ]
     },
     "execution_count": 13,
     "metadata": {},
     "output_type": "execute_result"
    }
   ],
   "source": [
    "len(w01_curve)\n",
    "w01_curve\n",
    "#w01_curve\n",
    "numberOfWeights = w01.shape[1]*w01.shape[0]\n",
    "numberOfWeights\n",
    "#w01_curve[0:w01.shape[0]]\n",
    "#w01_curve[0:epochs]"
   ]
  },
  {
   "cell_type": "code",
   "execution_count": 14,
   "metadata": {},
   "outputs": [
    {
     "data": {
      "image/png": "[encoded data removed]",
      "text/plain": [
       "<Figure size 432x288 with 1 Axes>"
      ]
     },
     "metadata": {
      "needs_background": "light"
     },
     "output_type": "display_data"
    }
   ],
   "source": [
    "for k in range(numberOfWeights):\n",
    "    t= w01_curve[(epochs*k):(epochs*(k+1)-1)]\n",
    "    plt.plot(t)"
   ]
  },
  {
   "cell_type": "markdown",
   "metadata": {},
   "source": [
    "\n",
    "# Plot Error"
   ]
  },
  {
   "cell_type": "code",
   "execution_count": 15,
   "metadata": {},
   "outputs": [
    {
     "name": "stdout",
     "output_type": "stream",
     "text": [
      "Minimum Error achieved after 300 iterations with 5 hidden neurons and 3 Learning Rate is: 0.007235610764258698\n"
     ]
    },
    {
     "data": {
      "image/png": "[encoded data removed]",
      "text/plain": [
       "<Figure size 432x288 with 1 Axes>"
      ]
     },
     "metadata": {
      "needs_background": "light"
     },
     "output_type": "display_data"
    }
   ],
   "source": [
    "\n",
    "print(\"Minimum Error achieved after\", epochs, \"iterations with\", hidden, \"hidden neurons and\", eta, \"Learning Rate is:\",min(E_o))\n",
    "   \n",
    "plt.plot(E_o)\n",
    "#plt.axis([0, epochs, 0, 100])\n",
    "plt.show()"
   ]
  },
  {
   "cell_type": "code",
   "execution_count": null,
   "metadata": {},
   "outputs": [],
   "source": []
  },
  {
   "cell_type": "markdown",
   "metadata": {},
   "source": [
    "# Sample Learned Output"
   ]
  },
  {
   "cell_type": "code",
   "execution_count": 16,
   "metadata": {},
   "outputs": [
    {
     "name": "stdout",
     "output_type": "stream",
     "text": [
      "[[0.06924601]\n",
      " [0.94299169]\n",
      " [0.93380576]\n",
      " [0.04389273]]\n"
     ]
    }
   ],
   "source": [
    "a_o, a_h = feedforward(X)\n",
    "print(a_o)"
   ]
  },
  {
   "cell_type": "code",
   "execution_count": null,
   "metadata": {},
   "outputs": [],
   "source": []
  }
 ],
 "metadata": {
  "kernelspec": {
   "display_name": "Python 3",
   "language": "python",
   "name": "python3"
  },
  "language_info": {
   "codemirror_mode": {
    "name": "ipython",
    "version": 3
   },
   "file_extension": ".py",
   "mimetype": "text/x-python",
   "name": "python",
   "nbconvert_exporter": "python",
   "pygments_lexer": "ipython3",
   "version": "3.7.1"
  }
 },
 "nbformat": 4,
 "nbformat_minor": 2
}
