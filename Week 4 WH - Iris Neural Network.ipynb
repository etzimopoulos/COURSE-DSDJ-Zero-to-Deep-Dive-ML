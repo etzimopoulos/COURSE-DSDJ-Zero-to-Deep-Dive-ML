{
 "cells": [
  {
   "cell_type": "markdown",
   "metadata": {},
   "source": [
    "# Neural Network over Iris Dataset\n",
    "\n",
    "## Import Libraries"
   ]
  },
  {
   "cell_type": "code",
   "execution_count": 1,
   "metadata": {},
   "outputs": [],
   "source": [
    "import numpy as np\n",
    "from matplotlib import pyplot as plt\n",
    "from sklearn import datasets"
   ]
  },
  {
   "cell_type": "markdown",
   "metadata": {},
   "source": [
    "# Load the Iris Data Set"
   ]
  },
  {
   "cell_type": "code",
   "execution_count": 2,
   "metadata": {},
   "outputs": [],
   "source": [
    "iris = datasets.load_iris()\n",
    "X = iris.data\n",
    "y = np.atleast_2d(iris.target).T\n",
    "\n",
    "\n"
   ]
  },
  {
   "cell_type": "markdown",
   "metadata": {},
   "source": [
    "# Define Parameters"
   ]
  },
  {
   "cell_type": "code",
   "execution_count": 3,
   "metadata": {},
   "outputs": [],
   "source": [
    "# Learning Rate\n",
    "eta = 0.015\n",
    "\n",
    "# Number of epochs for learning\n",
    "epochs = 1000\n",
    "\n",
    "# Number of Hidden Neurons\n",
    "hidden = 10\n",
    "\n",
    "# Drop out rate probability (drp = 1 means no dropout)\n",
    "drp = 1"
   ]
  },
  {
   "cell_type": "markdown",
   "metadata": {},
   "source": [
    "# Define Functions"
   ]
  },
  {
   "cell_type": "code",
   "execution_count": 4,
   "metadata": {},
   "outputs": [],
   "source": [
    "def sigmoid(x, derivative=False):\n",
    "    if derivative:\n",
    "        return x * (1 - x)\n",
    "    return 1 / (1 + np.exp(-x))"
   ]
  },
  {
   "cell_type": "code",
   "execution_count": 5,
   "metadata": {},
   "outputs": [],
   "source": [
    "def softmax(x):\n",
    "    \"\"\"Compute softmax values for each sets of scores in x.\"\"\"\n",
    "    e_x = np.exp(x - np.max(x))\n",
    "    return e_x / e_x.sum()"
   ]
  },
  {
   "cell_type": "markdown",
   "metadata": {},
   "source": [
    "def feedforward(X):\n",
    "    z_h = np.dot(X, w01)\n",
    "    a_h = sigmoid(z_h)\n",
    "\n",
    "    z_o = np.dot(a_h, w12)\n",
    "    a_o = sigmoid(z_o)\n",
    "    return(a_o,a_h)"
   ]
  },
  {
   "cell_type": "code",
   "execution_count": 6,
   "metadata": {},
   "outputs": [],
   "source": [
    "def feedforward(X,mode,k=drp):\n",
    "    # When training (mode=\"0\") Drop out applies for the hidden layer outputs a_h\n",
    "    if mode == 0:\n",
    "        #print(\"Testing mode activated\")\n",
    "        z_h = np.dot(X, w01)\n",
    "        a_h = sigmoid(z_h)\n",
    "        #print(\"a_h before drop out:\", a_h)\n",
    "        r = np.random.binomial(size=a_h.shape,n=1,p=k)\n",
    "        a_h *= r\n",
    "        #print(\"a_h AFTER drop out, a_h:\", a_h)\n",
    "        #print(\"\\n\")\n",
    "        z_o = np.dot(a_h, w12)\n",
    "        a_o = sigmoid(z_o)\n",
    "    \n",
    "    # When Testing (mode = \"1\") we use the normal weights w12 (not scaled with p)\n",
    "    elif mode == 1:\n",
    "        #print(\"Training mode activated\")\n",
    "        z_h = np.dot(X, w01)\n",
    "        a_h = sigmoid(z_h)\n",
    "        z_o = np.dot(a_h, w12)\n",
    "        a_o = sigmoid(z_o)\n",
    "    else:\n",
    "        print(\"Must specify 2nd argument '0' for Training or '1' for Test\")\n",
    "        \n",
    "    return(a_o,a_h)"
   ]
  },
  {
   "cell_type": "markdown",
   "metadata": {},
   "source": [
    "# Initialize the weights"
   ]
  },
  {
   "cell_type": "code",
   "execution_count": 7,
   "metadata": {},
   "outputs": [],
   "source": [
    "w01 = np.random.random((len(X[0]), hidden))\n",
    "w12 = np.random.random((hidden, 1))"
   ]
  },
  {
   "cell_type": "markdown",
   "metadata": {},
   "source": [
    "# Start feeding forward and backpropagate *epochs* times."
   ]
  },
  {
   "cell_type": "code",
   "execution_count": 8,
   "metadata": {},
   "outputs": [],
   "source": [
    "error_total=[]\n",
    "error_total0=[]\n",
    "error_total1=[]\n",
    "error_total2=[]\n",
    "\n",
    "for epoch in range(epochs):\n",
    "    a_o, a_h = feedforward(X,0,drp)\n",
    "     # Calculate the error\n",
    "    a_o_error = ((1 / 2) * (np.power((a_o - y), 2)))\n",
    "\n",
    "    \n",
    "   \n",
    "    a_o_err_y = np.concatenate((a_o_error,y), axis=1)\n",
    "    a_o_err_y0 = a_o_err_y[a_o_err_y[:,1]==0][:,0]\n",
    "    a_o_err_y1 = a_o_err_y[a_o_err_y[:,1]==1][:,0]\n",
    "    a_o_err_y2 = a_o_err_y[a_o_err_y[:,1]==2][:,0]\n",
    "    \n",
    "    error_total = np.append(error_total,sum(a_o_error))\n",
    "    error_total0 = np.append(error_total0,sum(a_o_err_y0))\n",
    "    error_total1 = np.append(error_total1,sum(a_o_err_y1))\n",
    "    error_total2 = np.append(error_total2,sum(a_o_err_y2))\n",
    "\n",
    "    #print(sum(a_o_error))\n",
    "\n",
    "    # Backpropagation\n",
    "    ## Output to Hidden Layer weights\n",
    "    delta_a_o_error = a_o - y\n",
    "    delta_z_o = sigmoid(a_o,derivative=True)\n",
    "    delta_w12 = a_h\n",
    "    delta_output_layer = np.dot(delta_w12.T,(delta_a_o_error * delta_z_o))\n",
    "\n",
    "    ## Hidden to Input Layer weights\n",
    "    delta_a_h = np.dot(delta_a_o_error * delta_z_o, w12.T)\n",
    "    delta_z_h = sigmoid(a_h,derivative=True)\n",
    "    delta_w01 = X\n",
    "    delta_hidden_layer = np.dot(delta_w01.T, delta_a_h * delta_z_h)\n",
    "\n",
    "    # Adjust weights\n",
    "    w01 = w01 - eta * delta_hidden_layer\n",
    "    w12 = w12 - eta * delta_output_layer"
   ]
  },
  {
   "cell_type": "markdown",
   "metadata": {},
   "source": [
    "# Show final total error, type contribution to error"
   ]
  },
  {
   "cell_type": "code",
   "execution_count": 9,
   "metadata": {},
   "outputs": [
    {
     "name": "stdout",
     "output_type": "stream",
     "text": [
      "Total error: [25.10066008]\n",
      "Type 0 error: 0.03681353885244181\n",
      "Type 1 error: 0.0012628201343054027\n",
      "Type 2 error: 25.062583723014725\n"
     ]
    }
   ],
   "source": [
    "print(\"Total error:\",sum(a_o_error))\n",
    "print(\"Type 0 error:\",sum(a_o_err_y0))\n",
    "print(\"Type 1 error:\",sum(a_o_err_y1))\n",
    "print(\"Type 2 error:\",sum(a_o_err_y2))"
   ]
  },
  {
   "cell_type": "markdown",
   "metadata": {},
   "source": [
    "# Plot error after each epoch"
   ]
  },
  {
   "cell_type": "code",
   "execution_count": 10,
   "metadata": {},
   "outputs": [
    {
     "data": {
      "text/plain": [
       "[<matplotlib.lines.Line2D at 0x214a7ad3ac8>]"
      ]
     },
     "execution_count": 10,
     "metadata": {},
     "output_type": "execute_result"
    },
    {
     "data": {
      "image/png": "[encoded data removed]",
      "text/plain": [
       "<Figure size 432x288 with 1 Axes>"
      ]
     },
     "metadata": {
      "needs_background": "light"
     },
     "output_type": "display_data"
    }
   ],
   "source": [
    "plt.plot(error_total)\n",
    "plt.plot(error_total0)\n",
    "plt.plot(error_total1)\n",
    "plt.plot(error_total2)"
   ]
  },
  {
   "cell_type": "markdown",
   "metadata": {},
   "source": [
    "# Show independent, dependent, predicted values"
   ]
  },
  {
   "cell_type": "code",
   "execution_count": 11,
   "metadata": {},
   "outputs": [
    {
     "name": "stdout",
     "output_type": "stream",
     "text": [
      "[[5.1        3.5        1.4        0.2        0.         0.0357081 ]\n",
      " [4.9        3.         1.4        0.2        0.         0.03875962]\n",
      " [4.7        3.2        1.3        0.2        0.         0.03781777]\n",
      " [4.6        3.1        1.5        0.2        0.         0.04204257]\n",
      " [5.         3.6        1.4        0.2        0.         0.03575886]\n",
      " [5.4        3.9        1.7        0.4        0.         0.03666225]\n",
      " [4.6        3.4        1.4        0.3        0.         0.0395541 ]\n",
      " [5.         3.4        1.5        0.2        0.         0.03726793]\n",
      " [4.4        2.9        1.4        0.2        0.         0.04406972]\n",
      " [4.9        3.1        1.5        0.1        0.         0.03840025]\n",
      " [5.4        3.7        1.5        0.2        0.         0.03481911]\n",
      " [4.8        3.4        1.6        0.2        0.         0.03970362]\n",
      " [4.8        3.         1.4        0.1        0.         0.03841678]\n",
      " [4.3        3.         1.1        0.1        0.         0.03822436]\n",
      " [5.8        4.         1.2        0.2        0.         0.03296948]\n",
      " [5.7        4.4        1.5        0.4        0.         0.03361098]\n",
      " [5.4        3.9        1.3        0.4        0.         0.03427983]\n",
      " [5.1        3.5        1.4        0.3        0.         0.03628776]\n",
      " [5.7        3.8        1.7        0.3        0.         0.0352269 ]\n",
      " [5.1        3.8        1.5        0.3        0.         0.03601284]\n",
      " [5.4        3.4        1.7        0.2        0.         0.03714997]\n",
      " [5.1        3.7        1.5        0.4        0.         0.03707577]\n",
      " [4.6        3.6        1.         0.2        0.         0.03491097]\n",
      " [5.1        3.3        1.7        0.5        0.         0.04440777]\n",
      " [4.8        3.4        1.9        0.2        0.         0.04597894]\n",
      " [5.         3.         1.6        0.2        0.         0.04087604]\n",
      " [5.         3.4        1.6        0.4        0.         0.04071399]\n",
      " [5.2        3.5        1.5        0.2        0.         0.03600776]\n",
      " [5.2        3.4        1.4        0.2        0.         0.03566007]\n",
      " [4.7        3.2        1.6        0.2        0.         0.04210165]\n",
      " [4.8        3.1        1.6        0.2        0.         0.04195447]\n",
      " [5.4        3.4        1.5        0.4        0.         0.03685426]\n",
      " [5.2        4.1        1.5        0.1        0.         0.03414603]\n",
      " [5.5        4.2        1.4        0.2        0.         0.03345959]\n",
      " [4.9        3.1        1.5        0.2        0.         0.03945509]\n",
      " [5.         3.2        1.2        0.2        0.         0.03573511]\n",
      " [5.5        3.5        1.3        0.2        0.         0.03417996]\n",
      " [4.9        3.6        1.4        0.1        0.         0.03558413]\n",
      " [4.4        3.         1.3        0.2        0.         0.04118004]\n",
      " [5.1        3.4        1.5        0.2        0.         0.0367853 ]\n",
      " [5.         3.5        1.3        0.3        0.         0.03596661]\n",
      " [4.5        2.3        1.3        0.3        0.         0.05008699]\n",
      " [4.4        3.2        1.3        0.2        0.         0.03975936]\n",
      " [5.         3.5        1.6        0.6        0.         0.04317323]\n",
      " [5.1        3.8        1.9        0.4        0.         0.04214663]\n",
      " [4.8        3.         1.4        0.3        0.         0.04069133]\n",
      " [5.1        3.8        1.6        0.2        0.         0.03612756]\n",
      " [4.6        3.2        1.4        0.2        0.         0.03965048]\n",
      " [5.3        3.7        1.5        0.2        0.         0.03509904]\n",
      " [5.         3.3        1.4        0.2        0.         0.03679359]\n",
      " [7.         3.2        4.7        1.4        1.         0.99624893]\n",
      " [6.4        3.2        4.5        1.5        1.         0.99724637]\n",
      " [6.9        3.1        4.9        1.5        1.         0.99784833]\n",
      " [5.5        2.3        4.         1.3        1.         0.99775375]\n",
      " [6.5        2.8        4.6        1.5        1.         0.99790175]\n",
      " [5.7        2.8        4.5        1.3        1.         0.99814334]\n",
      " [6.3        3.3        4.7        1.6        1.         0.99805133]\n",
      " [4.9        2.4        3.3        1.         1.         0.99074726]\n",
      " [6.6        2.9        4.6        1.3        1.         0.99706495]\n",
      " [5.2        2.7        3.9        1.4        1.         0.99766023]\n",
      " [5.         2.         3.5        1.         1.         0.99592496]\n",
      " [5.9        3.         4.2        1.5        1.         0.99736911]\n",
      " [6.         2.2        4.         1.         1.         0.99514902]\n",
      " [6.1        2.9        4.7        1.4        1.         0.99820723]\n",
      " [5.6        2.9        3.6        1.3        1.         0.99059809]\n",
      " [6.7        3.1        4.4        1.4        1.         0.99527713]\n",
      " [5.6        3.         4.5        1.5        1.         0.99832161]\n",
      " [5.8        2.7        4.1        1.         1.         0.99502843]\n",
      " [6.2        2.2        4.5        1.5        1.         0.99835681]\n",
      " [5.6        2.5        3.9        1.1        1.         0.99571787]\n",
      " [5.9        3.2        4.8        1.8        1.         0.9985743 ]\n",
      " [6.1        2.8        4.         1.3        1.         0.99454229]\n",
      " [6.3        2.5        4.9        1.5        1.         0.99853846]\n",
      " [6.1        2.8        4.7        1.2        1.         0.99799911]\n",
      " [6.4        2.9        4.3        1.3        1.         0.99575297]\n",
      " [6.6        3.         4.4        1.4        1.         0.99611207]\n",
      " [6.8        2.8        4.8        1.4        1.         0.99782576]\n",
      " [6.7        3.         5.         1.7        1.         0.99843828]\n",
      " [6.         2.9        4.5        1.5        1.         0.99810619]\n",
      " [5.7        2.6        3.5        1.         1.         0.97505767]\n",
      " [5.5        2.4        3.8        1.1        1.         0.99563901]\n",
      " [5.5        2.4        3.7        1.         1.         0.99316246]\n",
      " [5.8        2.7        3.9        1.2        1.         0.99462897]\n",
      " [6.         2.7        5.1        1.6        1.         0.99869091]\n",
      " [5.4        3.         4.5        1.5        1.         0.9984211 ]\n",
      " [6.         3.4        4.5        1.6        1.         0.9978617 ]\n",
      " [6.7        3.1        4.7        1.5        1.         0.99757732]\n",
      " [6.3        2.3        4.4        1.3        1.         0.99775793]\n",
      " [5.6        3.         4.1        1.3        1.         0.99683434]\n",
      " [5.5        2.5        4.         1.3        1.         0.99750866]\n",
      " [5.5        2.6        4.4        1.2        1.         0.99814175]\n",
      " [6.1        3.         4.6        1.4        1.         0.99796858]\n",
      " [5.8        2.6        4.         1.2        1.         0.99608137]\n",
      " [5.         2.3        3.3        1.         1.         0.99053917]\n",
      " [5.6        2.7        4.2        1.3        1.         0.99770924]\n",
      " [5.7        3.         4.2        1.2        1.         0.99664476]\n",
      " [5.7        2.9        4.2        1.3        1.         0.99726561]\n",
      " [6.2        2.9        4.3        1.3        1.         0.9965089 ]\n",
      " [5.1        2.5        3.         1.1        1.         0.96568937]\n",
      " [5.7        2.8        4.1        1.3        1.         0.99700905]\n",
      " [6.3        3.3        6.         2.5        2.         0.99882733]\n",
      " [5.8        2.7        5.1        1.9        2.         0.99876507]\n",
      " [7.1        3.         5.9        2.1        2.         0.99878816]\n",
      " [6.3        2.9        5.6        1.8        2.         0.99877608]\n",
      " [6.5        3.         5.8        2.2        2.         0.99881023]\n",
      " [7.6        3.         6.6        2.1        2.         0.99881823]\n",
      " [4.9        2.5        4.5        1.7        2.         0.99872215]\n",
      " [7.3        2.9        6.3        1.8        2.         0.99879624]\n",
      " [6.7        2.5        5.8        1.8        2.         0.99879328]\n",
      " [7.2        3.6        6.1        2.5        2.         0.99880745]\n",
      " [6.5        3.2        5.1        2.         2.         0.99865065]\n",
      " [6.4        2.7        5.3        1.9        2.         0.99874871]\n",
      " [6.8        3.         5.5        2.1        2.         0.99875615]\n",
      " [5.7        2.5        5.         2.         2.         0.99878029]\n",
      " [5.8        2.8        5.1        2.4        2.         0.99880408]\n",
      " [6.4        3.2        5.3        2.3        2.         0.99876911]\n",
      " [6.5        3.         5.5        1.8        2.         0.99873792]\n",
      " [7.7        3.8        6.7        2.2        2.         0.99880838]\n",
      " [7.7        2.6        6.9        2.3        2.         0.99883332]\n",
      " [6.         2.2        5.         1.5        2.         0.99869732]\n",
      " [6.9        3.2        5.7        2.3        2.         0.99878684]\n",
      " [5.6        2.8        4.9        2.         2.         0.99875634]\n",
      " [7.7        2.8        6.7        2.         2.         0.99882012]\n",
      " [6.3        2.7        4.9        1.8        2.         0.99862589]\n",
      " [6.7        3.3        5.7        2.1        2.         0.99877443]\n",
      " [7.2        3.2        6.         1.8        2.         0.9987503 ]\n",
      " [6.2        2.8        4.8        1.8        2.         0.99858271]\n",
      " [6.1        3.         4.9        1.8        2.         0.99861539]\n",
      " [6.4        2.8        5.6        2.1        2.         0.99880003]\n",
      " [7.2        3.         5.8        1.6        2.         0.99868338]\n",
      " [7.4        2.8        6.1        1.9        2.         0.99878426]\n",
      " [7.9        3.8        6.4        2.         2.         0.99874515]\n",
      " [6.4        2.8        5.6        2.2        2.         0.99880604]\n",
      " [6.3        2.8        5.1        1.5        2.         0.99858174]\n",
      " [6.1        2.6        5.6        1.4        2.         0.99876061]\n",
      " [7.7        3.         6.1        2.3        2.         0.99879433]\n",
      " [6.3        3.4        5.6        2.4        2.         0.99880416]\n",
      " [6.4        3.1        5.5        1.8        2.         0.9987397 ]\n",
      " [6.         3.         4.8        1.8        2.         0.99859152]\n",
      " [6.9        3.1        5.4        2.1        2.         0.99871842]\n",
      " [6.7        3.1        5.6        2.4        2.         0.99879829]\n",
      " [6.9        3.1        5.1        2.3        2.         0.9986825 ]\n",
      " [5.8        2.7        5.1        1.9        2.         0.99876507]\n",
      " [6.8        3.2        5.9        2.3        2.         0.99880725]\n",
      " [6.7        3.3        5.7        2.5        2.         0.99880578]\n",
      " [6.7        3.         5.2        2.3        2.         0.99874174]\n",
      " [6.3        2.5        5.         1.9        2.         0.99871351]\n",
      " [6.5        3.         5.2        2.         2.         0.99870792]\n",
      " [6.2        3.4        5.4        2.3        2.         0.9987836 ]\n",
      " [5.9        3.         5.1        1.8        2.         0.99871611]]\n"
     ]
    }
   ],
   "source": [
    "a_o, a_h = feedforward(X,1)\n",
    "print(np.concatenate((X,y,a_o),axis=1))"
   ]
  },
  {
   "cell_type": "code",
   "execution_count": null,
   "metadata": {},
   "outputs": [],
   "source": []
  }
 ],
 "metadata": {
  "kernelspec": {
   "display_name": "Python 3",
   "language": "python",
   "name": "python3"
  },
  "language_info": {
   "codemirror_mode": {
    "name": "ipython",
    "version": 3
   },
   "file_extension": ".py",
   "mimetype": "text/x-python",
   "name": "python",
   "nbconvert_exporter": "python",
   "pygments_lexer": "ipython3",
   "version": "3.7.1"
  }
 },
 "nbformat": 4,
 "nbformat_minor": 2
}
