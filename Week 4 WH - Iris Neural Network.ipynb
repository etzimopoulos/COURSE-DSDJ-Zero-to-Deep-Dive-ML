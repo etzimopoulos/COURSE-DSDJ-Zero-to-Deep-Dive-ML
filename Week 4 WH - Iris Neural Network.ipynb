{
 "cells": [
  {
   "cell_type": "markdown",
   "metadata": {},
   "source": [
    "# Neural Network over Iris Dataset\n",
    "\n",
    "## Import Libraries"
   ]
  },
  {
   "cell_type": "code",
   "execution_count": 1,
   "metadata": {},
   "outputs": [],
   "source": [
    "import numpy as np\n",
    "from matplotlib import pyplot as plt\n",
    "from sklearn import datasets"
   ]
  },
  {
   "cell_type": "markdown",
   "metadata": {},
   "source": [
    "# Load the Iris Data Set"
   ]
  },
  {
   "cell_type": "code",
   "execution_count": 2,
   "metadata": {},
   "outputs": [],
   "source": [
    "iris = datasets.load_iris()\n",
    "X = iris.data\n",
    "y = np.atleast_2d(iris.target).T"
   ]
  },
  {
   "cell_type": "markdown",
   "metadata": {},
   "source": [
    "# Define Parameters"
   ]
  },
  {
   "cell_type": "code",
   "execution_count": 3,
   "metadata": {},
   "outputs": [],
   "source": [
    "# Learning Rate\n",
    "eta = 0.01\n",
    "\n",
    "# Number of epochs for learning\n",
    "epochs = 1000\n",
    "\n",
    "# Number of Hidden Neurons\n",
    "hidden = 10\n",
    "\n",
    "# Drop out rate probability (drp = 1 means no dropout)\n",
    "drp = 1"
   ]
  },
  {
   "cell_type": "markdown",
   "metadata": {},
   "source": [
    "# Define Functions"
   ]
  },
  {
   "cell_type": "code",
   "execution_count": 4,
   "metadata": {},
   "outputs": [],
   "source": [
    "def sigmoid(x, derivative=False):\n",
    "    if derivative:\n",
    "        return x * (1 - x)\n",
    "    return 1 / (1 + np.exp(-x))"
   ]
  },
  {
   "cell_type": "code",
   "execution_count": 5,
   "metadata": {},
   "outputs": [],
   "source": [
    "def softmax(x):\n",
    "    \"\"\"Compute softmax values for each sets of scores in x.\"\"\"\n",
    "    e_x = np.exp(x - np.max(x))\n",
    "    return e_x / e_x.sum()"
   ]
  },
  {
   "cell_type": "markdown",
   "metadata": {},
   "source": [
    "def feedforward(X):\n",
    "    z_h = np.dot(X, w01)\n",
    "    a_h = sigmoid(z_h)\n",
    "\n",
    "    z_o = np.dot(a_h, w12)\n",
    "    a_o = sigmoid(z_o)\n",
    "    return(a_o,a_h)"
   ]
  },
  {
   "cell_type": "code",
   "execution_count": 6,
   "metadata": {},
   "outputs": [],
   "source": [
    "def feedforward(X,mode,k=drp):\n",
    "    # When training (mode=\"0\") Drop out applies for the hidden layer outputs a_h\n",
    "    if mode == 0:\n",
    "        #print(\"Testing mode activated\")\n",
    "        z_h = np.dot(X, w01)\n",
    "        a_h = sigmoid(z_h)\n",
    "        #print(\"a_h before drop out:\", a_h)\n",
    "        r = np.random.binomial(size=a_h.shape,n=1,p=k)\n",
    "        a_h *= r\n",
    "        #print(\"a_h AFTER drop out, a_h:\", a_h)\n",
    "        #print(\"\\n\")\n",
    "        z_o = np.dot(a_h, w12)\n",
    "        a_o = sigmoid(z_o)\n",
    "    \n",
    "    # When Testing (mode = \"1\") we use the normal weights w12 (not scaled with p)\n",
    "    elif mode == 1:\n",
    "        #print(\"Training mode activated\")\n",
    "        z_h = np.dot(X, w01)\n",
    "        a_h = sigmoid(z_h)\n",
    "        z_o = np.dot(a_h, w12)\n",
    "        a_o = sigmoid(z_o)\n",
    "    else:\n",
    "        print(\"Must specify 2nd argument '0' for Training or '1' for Test\")\n",
    "        \n",
    "    return(a_o,a_h)"
   ]
  },
  {
   "cell_type": "markdown",
   "metadata": {},
   "source": [
    "# Initialize the weights"
   ]
  },
  {
   "cell_type": "code",
   "execution_count": 7,
   "metadata": {},
   "outputs": [],
   "source": [
    "w01 = np.random.random((len(X[0]), hidden))\n",
    "w12 = np.random.random((hidden, 1))"
   ]
  },
  {
   "cell_type": "markdown",
   "metadata": {},
   "source": [
    "# Start feeding forward and backpropagate *epochs* times."
   ]
  },
  {
   "cell_type": "code",
   "execution_count": 8,
   "metadata": {},
   "outputs": [],
   "source": [
    "error_total=[]\n",
    "error_total0=[]\n",
    "error_total1=[]\n",
    "error_total2=[]\n",
    "\n",
    "for epoch in range(epochs):\n",
    "    a_o, a_h = feedforward(X,0,drp)\n",
    "    \n",
    "    # Calculate the error\n",
    "    a_o_error = ((1 / 2) * (np.power((a_o - y), 2)))\n",
    "\n",
    "    a_o_err_y = np.concatenate((a_o_error,y), axis=1)\n",
    "    a_o_err_y0 = a_o_err_y[a_o_err_y[:,1]==0][:,0]\n",
    "    a_o_err_y1 = a_o_err_y[a_o_err_y[:,1]==1][:,0]\n",
    "    a_o_err_y2 = a_o_err_y[a_o_err_y[:,1]==2][:,0]\n",
    "    \n",
    "    error_total = np.append(error_total,sum(a_o_error))\n",
    "    error_total0 = np.append(error_total0,sum(a_o_err_y0))\n",
    "    error_total1 = np.append(error_total1,sum(a_o_err_y1))\n",
    "    error_total2 = np.append(error_total2,sum(a_o_err_y2))\n",
    "\n",
    "    #print(sum(a_o_error))\n",
    "\n",
    "    # Backpropagation\n",
    "    ## Output to Hidden Layer weights\n",
    "    delta_a_o_error = a_o - y\n",
    "    delta_z_o = sigmoid(a_o,derivative=True)\n",
    "    delta_w12 = a_h\n",
    "    delta_output_layer = np.dot(delta_w12.T,(delta_a_o_error * delta_z_o))\n",
    "\n",
    "    ## Hidden to Input Layer weights\n",
    "    delta_a_h = np.dot(delta_a_o_error * delta_z_o, w12.T)\n",
    "    delta_z_h = sigmoid(a_h,derivative=True)\n",
    "    delta_w01 = X\n",
    "    delta_hidden_layer = np.dot(delta_w01.T, delta_a_h * delta_z_h)\n",
    "\n",
    "    # Adjust weights\n",
    "    w01 = w01 - eta * delta_hidden_layer\n",
    "    w12 = w12 - eta * delta_output_layer"
   ]
  },
  {
   "cell_type": "markdown",
   "metadata": {},
   "source": [
    "# Show final total error, type contribution to error"
   ]
  },
  {
   "cell_type": "code",
   "execution_count": 9,
   "metadata": {},
   "outputs": [
    {
     "name": "stdout",
     "output_type": "stream",
     "text": [
      "Total error: [25.14486629]\n",
      "Type 0 error: 0.05510312303452392\n",
      "Type 1 error: 0.002093825278438926\n",
      "Type 2 error: 25.087669337810816\n"
     ]
    }
   ],
   "source": [
    "print(\"Total error:\",sum(a_o_error))\n",
    "print(\"Type 0 error:\",sum(a_o_err_y0))\n",
    "print(\"Type 1 error:\",sum(a_o_err_y1))\n",
    "print(\"Type 2 error:\",sum(a_o_err_y2))"
   ]
  },
  {
   "cell_type": "markdown",
   "metadata": {},
   "source": [
    "# Plot error after each epoch"
   ]
  },
  {
   "cell_type": "code",
   "execution_count": 10,
   "metadata": {},
   "outputs": [
    {
     "data": {
      "text/plain": [
       "[<matplotlib.lines.Line2D at 0x1d27e72b358>]"
      ]
     },
     "execution_count": 10,
     "metadata": {},
     "output_type": "execute_result"
    },
    {
     "data": {
      "image/png": "[encoded data removed]",
      "text/plain": [
       "<Figure size 432x288 with 1 Axes>"
      ]
     },
     "metadata": {
      "needs_background": "light"
     },
     "output_type": "display_data"
    }
   ],
   "source": [
    "plt.plot(error_total)\n",
    "plt.plot(error_total0)\n",
    "plt.plot(error_total1)\n",
    "plt.plot(error_total2)"
   ]
  },
  {
   "cell_type": "markdown",
   "metadata": {},
   "source": [
    "# Show independent, dependent, predicted values"
   ]
  },
  {
   "cell_type": "code",
   "execution_count": 11,
   "metadata": {},
   "outputs": [
    {
     "name": "stdout",
     "output_type": "stream",
     "text": [
      "[[5.1        3.5        1.4        0.2        0.         0.04264893]\n",
      " [4.9        3.         1.4        0.2        0.         0.04730775]\n",
      " [4.7        3.2        1.3        0.2        0.         0.04598992]\n",
      " [4.6        3.1        1.5        0.2        0.         0.05208222]\n",
      " [5.         3.6        1.4        0.2        0.         0.04297852]\n",
      " [5.4        3.9        1.7        0.4        0.         0.04512393]\n",
      " [4.6        3.4        1.4        0.3        0.         0.04915903]\n",
      " [5.         3.4        1.5        0.2        0.         0.0450946 ]\n",
      " [4.4        2.9        1.4        0.2        0.         0.0550578 ]\n",
      " [4.9        3.1        1.5        0.1        0.         0.04639961]\n",
      " [5.4        3.7        1.5        0.2        0.         0.04112252]\n",
      " [4.8        3.4        1.6        0.2        0.         0.0487432 ]\n",
      " [4.8        3.         1.4        0.1        0.         0.04643112]\n",
      " [4.3        3.         1.1        0.1        0.         0.04630013]\n",
      " [5.8        4.         1.2        0.2        0.         0.03736744]\n",
      " [5.7        4.4        1.5        0.4        0.         0.04047397]\n",
      " [5.4        3.9        1.3        0.4        0.         0.04117907]\n",
      " [5.1        3.5        1.4        0.3        0.         0.0439605 ]\n",
      " [5.7        3.8        1.7        0.3        0.         0.04198514]\n",
      " [5.1        3.8        1.5        0.3        0.         0.04397604]\n",
      " [5.4        3.4        1.7        0.2        0.         0.04467743]\n",
      " [5.1        3.7        1.5        0.4        0.         0.04585802]\n",
      " [4.6        3.6        1.         0.2        0.         0.04201868]\n",
      " [5.1        3.3        1.7        0.5        0.         0.05642275]\n",
      " [4.8        3.4        1.9        0.2        0.         0.05681097]\n",
      " [5.         3.         1.6        0.2        0.         0.05061068]\n",
      " [5.         3.4        1.6        0.4        0.         0.0508767 ]\n",
      " [5.2        3.5        1.5        0.2        0.         0.04305157]\n",
      " [5.2        3.4        1.4        0.2        0.         0.04236303]\n",
      " [4.7        3.2        1.6        0.2        0.         0.05208074]\n",
      " [4.8        3.1        1.6        0.2        0.         0.05198759]\n",
      " [5.4        3.4        1.5        0.4        0.         0.044893  ]\n",
      " [5.2        4.1        1.5        0.1        0.         0.0405249 ]\n",
      " [5.5        4.2        1.4        0.2        0.         0.03928473]\n",
      " [4.9        3.1        1.5        0.2        0.         0.0483551 ]\n",
      " [5.         3.2        1.2        0.2        0.         0.0423974 ]\n",
      " [5.5        3.5        1.3        0.2        0.         0.03955602]\n",
      " [4.9        3.6        1.4        0.1        0.         0.04243792]\n",
      " [4.4        3.         1.3        0.2        0.         0.05096579]\n",
      " [5.1        3.4        1.5        0.2        0.         0.04427384]\n",
      " [5.         3.5        1.3        0.3        0.         0.04354804]\n",
      " [4.5        2.3        1.3        0.3        0.         0.06702418]\n",
      " [4.4        3.2        1.3        0.2        0.         0.04902638]\n",
      " [5.         3.5        1.6        0.6        0.         0.05511742]\n",
      " [5.1        3.8        1.9        0.4        0.         0.05266902]\n",
      " [4.8        3.         1.4        0.3        0.         0.05063975]\n",
      " [5.1        3.8        1.6        0.2        0.         0.04374391]\n",
      " [4.6        3.2        1.4        0.2        0.         0.04873549]\n",
      " [5.3        3.7        1.5        0.2        0.         0.04170867]\n",
      " [5.         3.3        1.4        0.2        0.         0.04427191]\n",
      " [7.         3.2        4.7        1.4        1.         0.99443535]\n",
      " [6.4        3.2        4.5        1.5        1.         0.99553406]\n",
      " [6.9        3.1        4.9        1.5        1.         0.99666827]\n",
      " [5.5        2.3        4.         1.3        1.         0.99656181]\n",
      " [6.5        2.8        4.6        1.5        1.         0.99679129]\n",
      " [5.7        2.8        4.5        1.3        1.         0.99702496]\n",
      " [6.3        3.3        4.7        1.6        1.         0.99683497]\n",
      " [4.9        2.4        3.3        1.         1.         0.98631287]\n",
      " [6.6        2.9        4.6        1.3        1.         0.99557262]\n",
      " [5.2        2.7        3.9        1.4        1.         0.9961297 ]\n",
      " [5.         2.         3.5        1.         1.         0.99420273]\n",
      " [5.9        3.         4.2        1.5        1.         0.99568314]\n",
      " [6.         2.2        4.         1.         1.         0.99383067]\n",
      " [6.1        2.9        4.7        1.4        1.         0.99717051]\n",
      " [5.6        2.9        3.6        1.3        1.         0.98505865]\n",
      " [6.7        3.1        4.4        1.4        1.         0.99309775]\n",
      " [5.6        3.         4.5        1.5        1.         0.9973248 ]\n",
      " [5.8        2.7        4.1        1.         1.         0.99258372]\n",
      " [6.2        2.2        4.5        1.5        1.         0.9975038 ]\n",
      " [5.6        2.5        3.9        1.1        1.         0.99366866]\n",
      " [5.9        3.2        4.8        1.8        1.         0.99786082]\n",
      " [6.1        2.8        4.         1.3        1.         0.99212045]\n",
      " [6.3        2.5        4.9        1.5        1.         0.99777096]\n",
      " [6.1        2.8        4.7        1.2        1.         0.99680765]\n",
      " [6.4        2.9        4.3        1.3        1.         0.99377064]\n",
      " [6.6        3.         4.4        1.4        1.         0.99424874]\n",
      " [6.8        2.8        4.8        1.4        1.         0.99669411]\n",
      " [6.7        3.         5.         1.7        1.         0.99762868]\n",
      " [6.         2.9        4.5        1.5        1.         0.99701152]\n",
      " [5.7        2.6        3.5        1.         1.         0.9722414 ]\n",
      " [5.5        2.4        3.8        1.1        1.         0.99365216]\n",
      " [5.5        2.4        3.7        1.         1.         0.99075066]\n",
      " [5.8        2.7        3.9        1.2        1.         0.99207565]\n",
      " [6.         2.7        5.1        1.6        1.         0.99808228]\n",
      " [5.4        3.         4.5        1.5        1.         0.99750484]\n",
      " [6.         3.4        4.5        1.6        1.         0.99632534]\n",
      " [6.7        3.1        4.7        1.5        1.         0.99623064]\n",
      " [6.3        2.3        4.4        1.3        1.         0.99666775]\n",
      " [5.6        3.         4.1        1.3        1.         0.99455439]\n",
      " [5.5        2.5        4.         1.3        1.         0.99610394]\n",
      " [5.5        2.6        4.4        1.2        1.         0.99703217]\n",
      " [6.1        3.         4.6        1.4        1.         0.99673902]\n",
      " [5.8        2.6        4.         1.2        1.         0.99415751]\n",
      " [5.         2.3        3.3        1.         1.         0.98698373]\n",
      " [5.6        2.7        4.2        1.3        1.         0.99632405]\n",
      " [5.7        3.         4.2        1.2        1.         0.9942988 ]\n",
      " [5.7        2.9        4.2        1.3        1.         0.99548129]\n",
      " [6.2        2.9        4.3        1.3        1.         0.99461873]\n",
      " [5.1        2.5        3.         1.1        1.         0.95753156]\n",
      " [5.7        2.8        4.1        1.3        1.         0.99516974]\n",
      " [6.3        3.3        6.         2.5        2.         0.99849719]\n",
      " [5.8        2.7        5.1        1.9        2.         0.99828741]\n",
      " [7.1        3.         5.9        2.1        2.         0.99832143]\n",
      " [6.3        2.9        5.6        1.8        2.         0.99828942]\n",
      " [6.5        3.         5.8        2.2        2.         0.99841368]\n",
      " [7.6        3.         6.6        2.1        2.         0.99838011]\n",
      " [4.9        2.5        4.5        1.7        2.         0.99819074]\n",
      " [7.3        2.9        6.3        1.8        2.         0.99828311]\n",
      " [6.7        2.5        5.8        1.8        2.         0.99828399]\n",
      " [7.2        3.6        6.1        2.5        2.         0.99842549]\n",
      " [6.5        3.2        5.1        2.         2.         0.99804777]\n",
      " [6.4        2.7        5.3        1.9        2.         0.99822663]\n",
      " [6.8        3.         5.5        2.1        2.         0.99826293]\n",
      " [5.7        2.5        5.         2.         2.         0.99832967]\n",
      " [5.8        2.8        5.1        2.4        2.         0.99842428]\n",
      " [6.4        3.2        5.3        2.3        2.         0.99832728]\n",
      " [6.5        3.         5.5        1.8        2.         0.99819789]\n",
      " [7.7        3.8        6.7        2.2        2.         0.99839707]\n",
      " [7.7        2.6        6.9        2.3        2.         0.99843807]\n",
      " [6.         2.2        5.         1.5        2.         0.99805007]\n",
      " [6.9        3.2        5.7        2.3        2.         0.99835581]\n",
      " [5.6        2.8        4.9        2.         2.         0.99828475]\n",
      " [7.7        2.8        6.7        2.         2.         0.9983538 ]\n",
      " [6.3        2.7        4.9        1.8        2.         0.99798198]\n",
      " [6.7        3.3        5.7        2.1        2.         0.99831691]\n",
      " [7.2        3.2        6.         1.8        2.         0.99819888]\n",
      " [6.2        2.8        4.8        1.8        2.         0.9979065 ]\n",
      " [6.1        3.         4.9        1.8        2.         0.99796118]\n",
      " [6.4        2.8        5.6        2.1        2.         0.99837295]\n",
      " [7.2        3.         5.8        1.6        2.         0.99801217]\n",
      " [7.4        2.8        6.1        1.9        2.         0.99825094]\n",
      " [7.9        3.8        6.4        2.         2.         0.99820965]\n",
      " [6.4        2.8        5.6        2.2        2.         0.99839792]\n",
      " [6.3        2.8        5.1        1.5        2.         0.99784715]\n",
      " [6.1        2.6        5.6        1.4        2.         0.99818757]\n",
      " [7.7        3.         6.1        2.3        2.         0.99832851]\n",
      " [6.3        3.4        5.6        2.4        2.         0.99842453]\n",
      " [6.4        3.1        5.5        1.8        2.         0.99820877]\n",
      " [6.         3.         4.8        1.8        2.         0.99791431]\n",
      " [6.9        3.1        5.4        2.1        2.         0.99818497]\n",
      " [6.7        3.1        5.6        2.4        2.         0.99839488]\n",
      " [6.9        3.1        5.1        2.3        2.         0.99814012]\n",
      " [5.8        2.7        5.1        1.9        2.         0.99828741]\n",
      " [6.8        3.2        5.9        2.3        2.         0.99841055]\n",
      " [6.7        3.3        5.7        2.5        2.         0.99842575]\n",
      " [6.7        3.         5.2        2.3        2.         0.9982586 ]\n",
      " [6.3        2.5        5.         1.9        2.         0.9981519 ]\n",
      " [6.5        3.         5.2        2.         2.         0.99816233]\n",
      " [6.2        3.4        5.4        2.3        2.         0.9983661 ]\n",
      " [5.9        3.         5.1        1.8        2.         0.99816971]]\n"
     ]
    }
   ],
   "source": [
    "a_o, a_h = feedforward(X,1)\n",
    "print(np.concatenate((X,y,a_o),axis=1))"
   ]
  },
  {
   "cell_type": "code",
   "execution_count": null,
   "metadata": {},
   "outputs": [],
   "source": []
  }
 ],
 "metadata": {
  "kernelspec": {
   "display_name": "Python 3",
   "language": "python",
   "name": "python3"
  },
  "language_info": {
   "codemirror_mode": {
    "name": "ipython",
    "version": 3
   },
   "file_extension": ".py",
   "mimetype": "text/x-python",
   "name": "python",
   "nbconvert_exporter": "python",
   "pygments_lexer": "ipython3",
   "version": "3.7.1"
  }
 },
 "nbformat": 4,
 "nbformat_minor": 2
}
