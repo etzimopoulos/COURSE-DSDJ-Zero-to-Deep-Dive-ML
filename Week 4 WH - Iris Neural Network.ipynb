{
 "cells": [
  {
   "cell_type": "markdown",
   "metadata": {},
   "source": [
    "# Neural Network over Iris Dataset\n",
    "\n",
    "## Import Libraries"
   ]
  },
  {
   "cell_type": "code",
   "execution_count": 1,
   "metadata": {},
   "outputs": [],
   "source": [
    "import numpy as np\n",
    "from matplotlib import pyplot as plt\n",
    "from sklearn import datasets"
   ]
  },
  {
   "cell_type": "markdown",
   "metadata": {},
   "source": [
    "# Load the Iris Data Set"
   ]
  },
  {
   "cell_type": "code",
   "execution_count": 2,
   "metadata": {},
   "outputs": [
    {
     "data": {
      "text/plain": [
       "(150, 4)"
      ]
     },
     "execution_count": 2,
     "metadata": {},
     "output_type": "execute_result"
    }
   ],
   "source": [
    "iris = datasets.load_iris()\n",
    "X = iris.data\n",
    "y= np.atleast_2d(iris.target).T\n",
    "X.shape"
   ]
  },
  {
   "cell_type": "code",
   "execution_count": 3,
   "metadata": {},
   "outputs": [
    {
     "name": "stdout",
     "output_type": "stream",
     "text": [
      "[0 0 0 0 0 0 0 0 0 0 0 0 0 0 0 0 0 0 0 0 0 0 0 0 0 0 0 0 0 0 0 0 0 0 0 0 0\n",
      " 0 0 0 0 0 0 0 0 0 0 0 0 0 1 1 1 1 1 1 1 1 1 1 1 1 1 1 1 1 1 1 1 1 1 1 1 1\n",
      " 1 1 1 1 1 1 1 1 1 1 1 1 1 1 1 1 1 1 1 1 1 1 1 1 1 1 2 2 2 2 2 2 2 2 2 2 2\n",
      " 2 2 2 2 2 2 2 2 2 2 2 2 2 2 2 2 2 2 2 2 2 2 2 2 2 2 2 2 2 2 2 2 2 2 2 2 2\n",
      " 2 2]\n"
     ]
    }
   ],
   "source": [
    "y_n = np.array(y).reshape(-1)\n",
    "print(y_n)"
   ]
  },
  {
   "cell_type": "code",
   "execution_count": 4,
   "metadata": {},
   "outputs": [
    {
     "name": "stdout",
     "output_type": "stream",
     "text": [
      "[0 0 0 0 0 0 0 0 0 0 0 0 0 0 0 0 0 0 0 0 0 0 0 0 0 0 0 0 0 0 0 0 0 0 0 0 0\n",
      " 0 0 0 0 0 0 0 0 0 0 0 0 0 1 1 1 1 1 1 1 1 1 1 1 1 1 1 1 1 1 1 1 1 1 1 1 1\n",
      " 1 1 1 1 1 1 1 1 1 1 1 1 1 1 1 1 1 1 1 1 1 1 1 1 1 1 2 2 2 2 2 2 2 2 2 2 2\n",
      " 2 2 2 2 2 2 2 2 2 2 2 2 2 2 2 2 2 2 2 2 2 2 2 2 2 2 2 2 2 2 2 2 2 2 2 2 2\n",
      " 2 2]\n"
     ]
    }
   ],
   "source": [
    "# Reshape output in array format\n",
    "copy3=np.reshape(y, (150,))\n",
    "print(copy3)"
   ]
  },
  {
   "cell_type": "markdown",
   "metadata": {},
   "source": [
    "# Define Parameters"
   ]
  },
  {
   "cell_type": "code",
   "execution_count": 5,
   "metadata": {},
   "outputs": [],
   "source": [
    "# Learning Rate\n",
    "eta = 0.01\n",
    "\n",
    "# Number of epochs for learning\n",
    "epochs = 2000\n",
    "\n",
    "# Number of Hidden Neurons\n",
    "hidden = 10\n",
    "\n",
    "# Drop out rate probability (drp = 1 means no dropout)\n",
    "drp = 0.5"
   ]
  },
  {
   "cell_type": "markdown",
   "metadata": {},
   "source": [
    "# Define Functions"
   ]
  },
  {
   "cell_type": "code",
   "execution_count": 6,
   "metadata": {},
   "outputs": [],
   "source": [
    "def sigmoid(x, derivative=False):\n",
    "    if derivative:\n",
    "        return x * (1 - x)\n",
    "    return 1 / (1 + np.exp(-x))"
   ]
  },
  {
   "cell_type": "markdown",
   "metadata": {},
   "source": [
    "def softmax(x):\n",
    "    # Compute softmax values for each sets of scores in x.\"\"\"\n",
    "    e_x = np.exp(x - np.max(x))\n",
    "    return e_x / e_x.sum()\n",
    "\n",
    "    # return np.exp(x) / float(sum(np.exp(x)))\n",
    "\n",
    "def softmax_d(y):\n",
    "    #print(\"Input to Softmax Deriv function:\", y)\n",
    "\n",
    "    y_n = np.array(y).reshape(-1)\n",
    "    #print(\"Transformed Input to Softmax Deriv function:\", y_n)\n",
    "\n",
    "    # initialize the 2-D jacobian matrix.\n",
    "    jacobian_m = np.diag(y_n)\n",
    "    print(\"Jacobian matrix created:\",jacobian_m)\n",
    "    \n",
    "    for i in range(len(jacobian_m)):\n",
    "        for j in range(len(jacobian_m)):\n",
    "            if i == j:\n",
    "                jacobian_m[i][j] = y_n[i] * (1-y_n[i])\n",
    "            else: \n",
    "                jacobian_m[i][j] = -y_n[i]*y_n[j]\n",
    "    return jacobian_m"
   ]
  },
  {
   "cell_type": "code",
   "execution_count": 7,
   "metadata": {},
   "outputs": [],
   "source": [
    "def feedforward(X,mode,k=drp):\n",
    "    # When training (mode=\"0\") Drop out applies for the hidden layer outputs a_h\n",
    "    if mode == 0:\n",
    "        #print(\"Testing mode activated\")\n",
    "        z_h = np.dot(X, w01)\n",
    "        a_h = sigmoid(z_h)\n",
    "        #print(\"a_h before drop out:\", a_h)\n",
    "        r = np.random.binomial(size=a_h.shape,n=1,p=k)\n",
    "        a_h *= r\n",
    "        #print(\"a_h AFTER drop out, a_h:\", a_h)\n",
    "        #print(\"\\n\")\n",
    "        z_o = np.dot(a_h, w12)\n",
    "        #a_o = softmax(z_o)\n",
    "        a_o = sigmoid(z_o)\n",
    "    \n",
    "    # When Testing (mode = \"1\") we use the normal weights w12 (not scaled with p)\n",
    "    elif mode == 1:\n",
    "        #print(\"Training mode activated\")\n",
    "        z_h = np.dot(X, w01)\n",
    "        a_h = sigmoid(z_h)\n",
    "        z_o = np.dot(a_h, w12)\n",
    "        #a_o = softmax(z_o)\n",
    "        a_o = sigmoid(z_o)\n",
    "    else:\n",
    "        print(\"Must specify 2nd argument '0' for Training or '1' for Test\")\n",
    "        \n",
    "    return(a_o,a_h)"
   ]
  },
  {
   "cell_type": "markdown",
   "metadata": {},
   "source": [
    "# Initialize the weights"
   ]
  },
  {
   "cell_type": "code",
   "execution_count": 8,
   "metadata": {},
   "outputs": [],
   "source": [
    "w01 = np.random.random((len(X[0]), hidden))\n",
    "w12 = np.random.random((hidden, 1))"
   ]
  },
  {
   "cell_type": "markdown",
   "metadata": {},
   "source": [
    "# Start feeding forward and backpropagate *epochs* times."
   ]
  },
  {
   "cell_type": "code",
   "execution_count": 9,
   "metadata": {},
   "outputs": [],
   "source": [
    "error_total=[]\n",
    "error_total0=[]\n",
    "error_total1=[]\n",
    "error_total2=[]\n",
    "\n",
    "for epoch in range(epochs):\n",
    "    a_o, a_h = feedforward(X,0,drp)\n",
    "     # Calculate the error\n",
    "    a_o_error = ((1 / 2) * (np.power((a_o - y), 2)))\n",
    "\n",
    "    \n",
    "   \n",
    "    a_o_err_y = np.concatenate((a_o_error,y), axis=1)\n",
    "    a_o_err_y0 = a_o_err_y[a_o_err_y[:,1]==0][:,0]\n",
    "    a_o_err_y1 = a_o_err_y[a_o_err_y[:,1]==1][:,0]\n",
    "    a_o_err_y2 = a_o_err_y[a_o_err_y[:,1]==2][:,0]\n",
    "    \n",
    "    error_total = np.append(error_total,sum(a_o_error))\n",
    "    error_total0 = np.append(error_total0,sum(a_o_err_y0))\n",
    "    error_total1 = np.append(error_total1,sum(a_o_err_y1))\n",
    "    error_total2 = np.append(error_total2,sum(a_o_err_y2))\n",
    "\n",
    "    #print(sum(a_o_error))\n",
    "\n",
    "    # Backpropagation\n",
    "    ## Output to Hidden Layer weights\n",
    "    delta_a_o_error = a_o - y\n",
    "    delta_z_o = sigmoid(a_o,derivative=True)\n",
    "    delta_w12 = a_h\n",
    "    delta_output_layer = np.dot(delta_w12.T,(delta_a_o_error * delta_z_o))\n",
    "\n",
    "    ## Hidden to Input Layer weights\n",
    "    delta_a_h = np.dot(delta_a_o_error * delta_z_o, w12.T)\n",
    "    delta_z_h = sigmoid(a_h,derivative=True)\n",
    "    delta_w01 = X\n",
    "    delta_hidden_layer = np.dot(delta_w01.T, delta_a_h * delta_z_h)\n",
    "\n",
    "    # Adjust weights\n",
    "    w01 = w01 - eta * delta_hidden_layer\n",
    "    w12 = w12 - eta * delta_output_layer"
   ]
  },
  {
   "cell_type": "code",
   "execution_count": 10,
   "metadata": {},
   "outputs": [],
   "source": [
    "s = np.array([[0.3], [0.7]])\n",
    "x = np.array([[0],[1]])\n",
    "    # initialize the 2-D jacobian matrix.\n",
    "jacobian_m = np.diag(np.diag(s))"
   ]
  },
  {
   "cell_type": "code",
   "execution_count": 11,
   "metadata": {},
   "outputs": [
    {
     "data": {
      "text/plain": [
       "(2, 1)"
      ]
     },
     "execution_count": 11,
     "metadata": {},
     "output_type": "execute_result"
    }
   ],
   "source": [
    "s.shape"
   ]
  },
  {
   "cell_type": "code",
   "execution_count": 12,
   "metadata": {},
   "outputs": [
    {
     "data": {
      "text/plain": [
       "(2, 1)"
      ]
     },
     "execution_count": 12,
     "metadata": {},
     "output_type": "execute_result"
    }
   ],
   "source": [
    "x.shape"
   ]
  },
  {
   "cell_type": "code",
   "execution_count": 13,
   "metadata": {},
   "outputs": [
    {
     "data": {
      "text/plain": [
       "(1, 1)"
      ]
     },
     "execution_count": 13,
     "metadata": {},
     "output_type": "execute_result"
    }
   ],
   "source": [
    "jacobian_m.shape"
   ]
  },
  {
   "cell_type": "code",
   "execution_count": 14,
   "metadata": {},
   "outputs": [],
   "source": [
    "# s.shape = (1, n) \n",
    "s = np.array([0.3, 0.7])\n",
    "x = np.array([0, 1])\n",
    "    # initialize the 2-D jacobian matrix.\n",
    "jacobian_m = np.diag(s)"
   ]
  },
  {
   "cell_type": "code",
   "execution_count": 15,
   "metadata": {},
   "outputs": [
    {
     "data": {
      "text/plain": [
       "(2,)"
      ]
     },
     "execution_count": 15,
     "metadata": {},
     "output_type": "execute_result"
    }
   ],
   "source": [
    "s.shape"
   ]
  },
  {
   "cell_type": "code",
   "execution_count": 16,
   "metadata": {},
   "outputs": [
    {
     "data": {
      "text/plain": [
       "(2,)"
      ]
     },
     "execution_count": 16,
     "metadata": {},
     "output_type": "execute_result"
    }
   ],
   "source": [
    "x.shape"
   ]
  },
  {
   "cell_type": "code",
   "execution_count": 17,
   "metadata": {},
   "outputs": [
    {
     "data": {
      "text/plain": [
       "(2, 2)"
      ]
     },
     "execution_count": 17,
     "metadata": {},
     "output_type": "execute_result"
    }
   ],
   "source": [
    "jacobian_m.shape"
   ]
  },
  {
   "cell_type": "markdown",
   "metadata": {},
   "source": [
    "# Show final total error, type contribution to error"
   ]
  },
  {
   "cell_type": "code",
   "execution_count": 18,
   "metadata": {},
   "outputs": [
    {
     "name": "stdout",
     "output_type": "stream",
     "text": [
      "Total error: [26.51199666]\n",
      "Type 0 error: 1.0625365162023923\n",
      "Type 1 error: 0.43928052489658265\n",
      "Type 2 error: 25.010179621266794\n"
     ]
    }
   ],
   "source": [
    "print(\"Total error:\",sum(a_o_error))\n",
    "print(\"Type 0 error:\",sum(a_o_err_y0))\n",
    "print(\"Type 1 error:\",sum(a_o_err_y1))\n",
    "print(\"Type 2 error:\",sum(a_o_err_y2))"
   ]
  },
  {
   "cell_type": "markdown",
   "metadata": {},
   "source": [
    "# Plot error after each epoch"
   ]
  },
  {
   "cell_type": "code",
   "execution_count": 19,
   "metadata": {},
   "outputs": [
    {
     "data": {
      "text/plain": [
       "[<matplotlib.lines.Line2D at 0x1f8f765ffd0>]"
      ]
     },
     "execution_count": 19,
     "metadata": {},
     "output_type": "execute_result"
    },
    {
     "data": {
      "image/png": "[encoded data removed]",
      "text/plain": [
       "<Figure size 432x288 with 1 Axes>"
      ]
     },
     "metadata": {
      "needs_background": "light"
     },
     "output_type": "display_data"
    }
   ],
   "source": [
    "plt.plot(error_total)\n",
    "plt.plot(error_total0)\n",
    "plt.plot(error_total1)\n",
    "plt.plot(error_total2)"
   ]
  },
  {
   "cell_type": "markdown",
   "metadata": {},
   "source": [
    "# Show independent, dependent, predicted values"
   ]
  },
  {
   "cell_type": "code",
   "execution_count": 20,
   "metadata": {},
   "outputs": [
    {
     "name": "stdout",
     "output_type": "stream",
     "text": [
      "[[5.1        3.5        1.4        0.2        0.         0.03127367]\n",
      " [4.9        3.         1.4        0.2        0.         0.03360458]\n",
      " [4.7        3.2        1.3        0.2        0.         0.03255013]\n",
      " [4.6        3.1        1.5        0.2        0.         0.03537147]\n",
      " [5.         3.6        1.4        0.2        0.         0.03120616]\n",
      " [5.4        3.9        1.7        0.4        0.         0.03143662]\n",
      " [4.6        3.4        1.4        0.3        0.         0.03311248]\n",
      " [5.         3.4        1.5        0.2        0.         0.03216588]\n",
      " [4.4        2.9        1.4        0.2        0.         0.03717001]\n",
      " [4.9        3.1        1.5        0.1        0.         0.03328854]\n",
      " [5.4        3.7        1.5        0.2        0.         0.03080467]\n",
      " [4.8        3.4        1.6        0.2        0.         0.03343265]\n",
      " [4.8        3.         1.4        0.1        0.         0.03337193]\n",
      " [4.3        3.         1.1        0.1        0.         0.03286625]\n",
      " [5.8        4.         1.2        0.2        0.         0.02998916]\n",
      " [5.7        4.4        1.5        0.4        0.         0.03012893]\n",
      " [5.4        3.9        1.3        0.4        0.         0.0304482 ]\n",
      " [5.1        3.5        1.4        0.3        0.         0.03152883]\n",
      " [5.7        3.8        1.7        0.3        0.         0.03098857]\n",
      " [5.1        3.8        1.5        0.3        0.         0.03118166]\n",
      " [5.4        3.4        1.7        0.2        0.         0.03231147]\n",
      " [5.1        3.7        1.5        0.4        0.         0.03168998]\n",
      " [4.6        3.6        1.         0.2        0.         0.03073229]\n",
      " [5.1        3.3        1.7        0.5        0.         0.03644188]\n",
      " [4.8        3.4        1.9        0.2        0.         0.03722346]\n",
      " [5.         3.         1.6        0.2        0.         0.03529063]\n",
      " [5.         3.4        1.6        0.4        0.         0.03395579]\n",
      " [5.2        3.5        1.5        0.2        0.         0.03146643]\n",
      " [5.2        3.4        1.4        0.2        0.         0.03134652]\n",
      " [4.7        3.2        1.6        0.2        0.         0.0352578 ]\n",
      " [4.8        3.1        1.6        0.2        0.         0.0355571 ]\n",
      " [5.4        3.4        1.5        0.4        0.         0.03200631]\n",
      " [5.2        4.1        1.5        0.1        0.         0.03037588]\n",
      " [5.5        4.2        1.4        0.2        0.         0.03012386]\n",
      " [4.9        3.1        1.5        0.2        0.         0.03391401]\n",
      " [5.         3.2        1.2        0.2        0.         0.03143958]\n",
      " [5.5        3.5        1.3        0.2        0.         0.03058191]\n",
      " [4.9        3.6        1.4        0.1        0.         0.03113429]\n",
      " [4.4        3.         1.3        0.2        0.         0.03480659]\n",
      " [5.1        3.4        1.5        0.2        0.         0.03194064]\n",
      " [5.         3.5        1.3        0.3        0.         0.03133078]\n",
      " [4.5        2.3        1.3        0.3        0.         0.04637898]\n",
      " [4.4        3.2        1.3        0.2        0.         0.03351346]\n",
      " [5.         3.5        1.6        0.6        0.         0.03482157]\n",
      " [5.1        3.8        1.9        0.4        0.         0.03393183]\n",
      " [4.8        3.         1.4        0.3        0.         0.03476936]\n",
      " [5.1        3.8        1.6        0.2        0.         0.03127392]\n",
      " [4.6        3.2        1.4        0.2        0.         0.03360004]\n",
      " [5.3        3.7        1.5        0.2        0.         0.03091386]\n",
      " [5.         3.3        1.4        0.2        0.         0.03199398]\n",
      " [7.         3.2        4.7        1.4        1.         1.        ]\n",
      " [6.4        3.2        4.5        1.5        1.         1.        ]\n",
      " [6.9        3.1        4.9        1.5        1.         1.        ]\n",
      " [5.5        2.3        4.         1.3        1.         1.        ]\n",
      " [6.5        2.8        4.6        1.5        1.         1.        ]\n",
      " [5.7        2.8        4.5        1.3        1.         1.        ]\n",
      " [6.3        3.3        4.7        1.6        1.         1.        ]\n",
      " [4.9        2.4        3.3        1.         1.         0.99999994]\n",
      " [6.6        2.9        4.6        1.3        1.         1.        ]\n",
      " [5.2        2.7        3.9        1.4        1.         1.        ]\n",
      " [5.         2.         3.5        1.         1.         1.        ]\n",
      " [5.9        3.         4.2        1.5        1.         1.        ]\n",
      " [6.         2.2        4.         1.         1.         1.        ]\n",
      " [6.1        2.9        4.7        1.4        1.         1.        ]\n",
      " [5.6        2.9        3.6        1.3        1.         0.99999983]\n",
      " [6.7        3.1        4.4        1.4        1.         0.99999999]\n",
      " [5.6        3.         4.5        1.5        1.         1.        ]\n",
      " [5.8        2.7        4.1        1.         1.         1.        ]\n",
      " [6.2        2.2        4.5        1.5        1.         1.        ]\n",
      " [5.6        2.5        3.9        1.1        1.         1.        ]\n",
      " [5.9        3.2        4.8        1.8        1.         1.        ]\n",
      " [6.1        2.8        4.         1.3        1.         0.99999999]\n",
      " [6.3        2.5        4.9        1.5        1.         1.        ]\n",
      " [6.1        2.8        4.7        1.2        1.         1.        ]\n",
      " [6.4        2.9        4.3        1.3        1.         1.        ]\n",
      " [6.6        3.         4.4        1.4        1.         1.        ]\n",
      " [6.8        2.8        4.8        1.4        1.         1.        ]\n",
      " [6.7        3.         5.         1.7        1.         1.        ]\n",
      " [6.         2.9        4.5        1.5        1.         1.        ]\n",
      " [5.7        2.6        3.5        1.         1.         0.99999829]\n",
      " [5.5        2.4        3.8        1.1        1.         1.        ]\n",
      " [5.5        2.4        3.7        1.         1.         0.99999999]\n",
      " [5.8        2.7        3.9        1.2        1.         0.99999999]\n",
      " [6.         2.7        5.1        1.6        1.         1.        ]\n",
      " [5.4        3.         4.5        1.5        1.         1.        ]\n",
      " [6.         3.4        4.5        1.6        1.         1.        ]\n",
      " [6.7        3.1        4.7        1.5        1.         1.        ]\n",
      " [6.3        2.3        4.4        1.3        1.         1.        ]\n",
      " [5.6        3.         4.1        1.3        1.         1.        ]\n",
      " [5.5        2.5        4.         1.3        1.         1.        ]\n",
      " [5.5        2.6        4.4        1.2        1.         1.        ]\n",
      " [6.1        3.         4.6        1.4        1.         1.        ]\n",
      " [5.8        2.6        4.         1.2        1.         1.        ]\n",
      " [5.         2.3        3.3        1.         1.         0.99999996]\n",
      " [5.6        2.7        4.2        1.3        1.         1.        ]\n",
      " [5.7        3.         4.2        1.2        1.         1.        ]\n",
      " [5.7        2.9        4.2        1.3        1.         1.        ]\n",
      " [6.2        2.9        4.3        1.3        1.         1.        ]\n",
      " [5.1        2.5        3.         1.1        1.         0.99999038]\n",
      " [5.7        2.8        4.1        1.3        1.         1.        ]\n",
      " [6.3        3.3        6.         2.5        2.         1.        ]\n",
      " [5.8        2.7        5.1        1.9        2.         1.        ]\n",
      " [7.1        3.         5.9        2.1        2.         1.        ]\n",
      " [6.3        2.9        5.6        1.8        2.         1.        ]\n",
      " [6.5        3.         5.8        2.2        2.         1.        ]\n",
      " [7.6        3.         6.6        2.1        2.         1.        ]\n",
      " [4.9        2.5        4.5        1.7        2.         1.        ]\n",
      " [7.3        2.9        6.3        1.8        2.         1.        ]\n",
      " [6.7        2.5        5.8        1.8        2.         1.        ]\n",
      " [7.2        3.6        6.1        2.5        2.         1.        ]\n",
      " [6.5        3.2        5.1        2.         2.         1.        ]\n",
      " [6.4        2.7        5.3        1.9        2.         1.        ]\n",
      " [6.8        3.         5.5        2.1        2.         1.        ]\n",
      " [5.7        2.5        5.         2.         2.         1.        ]\n",
      " [5.8        2.8        5.1        2.4        2.         1.        ]\n",
      " [6.4        3.2        5.3        2.3        2.         1.        ]\n",
      " [6.5        3.         5.5        1.8        2.         1.        ]\n",
      " [7.7        3.8        6.7        2.2        2.         1.        ]\n",
      " [7.7        2.6        6.9        2.3        2.         1.        ]\n",
      " [6.         2.2        5.         1.5        2.         1.        ]\n",
      " [6.9        3.2        5.7        2.3        2.         1.        ]\n",
      " [5.6        2.8        4.9        2.         2.         1.        ]\n",
      " [7.7        2.8        6.7        2.         2.         1.        ]\n",
      " [6.3        2.7        4.9        1.8        2.         1.        ]\n",
      " [6.7        3.3        5.7        2.1        2.         1.        ]\n",
      " [7.2        3.2        6.         1.8        2.         1.        ]\n",
      " [6.2        2.8        4.8        1.8        2.         1.        ]\n",
      " [6.1        3.         4.9        1.8        2.         1.        ]\n",
      " [6.4        2.8        5.6        2.1        2.         1.        ]\n",
      " [7.2        3.         5.8        1.6        2.         1.        ]\n",
      " [7.4        2.8        6.1        1.9        2.         1.        ]\n",
      " [7.9        3.8        6.4        2.         2.         1.        ]\n",
      " [6.4        2.8        5.6        2.2        2.         1.        ]\n",
      " [6.3        2.8        5.1        1.5        2.         1.        ]\n",
      " [6.1        2.6        5.6        1.4        2.         1.        ]\n",
      " [7.7        3.         6.1        2.3        2.         1.        ]\n",
      " [6.3        3.4        5.6        2.4        2.         1.        ]\n",
      " [6.4        3.1        5.5        1.8        2.         1.        ]\n",
      " [6.         3.         4.8        1.8        2.         1.        ]\n",
      " [6.9        3.1        5.4        2.1        2.         1.        ]\n",
      " [6.7        3.1        5.6        2.4        2.         1.        ]\n",
      " [6.9        3.1        5.1        2.3        2.         1.        ]\n",
      " [5.8        2.7        5.1        1.9        2.         1.        ]\n",
      " [6.8        3.2        5.9        2.3        2.         1.        ]\n",
      " [6.7        3.3        5.7        2.5        2.         1.        ]\n",
      " [6.7        3.         5.2        2.3        2.         1.        ]\n",
      " [6.3        2.5        5.         1.9        2.         1.        ]\n",
      " [6.5        3.         5.2        2.         2.         1.        ]\n",
      " [6.2        3.4        5.4        2.3        2.         1.        ]\n",
      " [5.9        3.         5.1        1.8        2.         1.        ]]\n"
     ]
    }
   ],
   "source": [
    "a_o, a_h = feedforward(X,1)\n",
    "print(np.concatenate((X,y,a_o),axis=1))"
   ]
  },
  {
   "cell_type": "code",
   "execution_count": null,
   "metadata": {},
   "outputs": [],
   "source": []
  }
 ],
 "metadata": {
  "kernelspec": {
   "display_name": "Python 3",
   "language": "python",
   "name": "python3"
  },
  "language_info": {
   "codemirror_mode": {
    "name": "ipython",
    "version": 3
   },
   "file_extension": ".py",
   "mimetype": "text/x-python",
   "name": "python",
   "nbconvert_exporter": "python",
   "pygments_lexer": "ipython3",
   "version": "3.7.1"
  }
 },
 "nbformat": 4,
 "nbformat_minor": 2
}
