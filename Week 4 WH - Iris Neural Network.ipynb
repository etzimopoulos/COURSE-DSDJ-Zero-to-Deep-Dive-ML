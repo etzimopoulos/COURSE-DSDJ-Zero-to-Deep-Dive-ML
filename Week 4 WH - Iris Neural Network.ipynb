{
 "cells": [
  {
   "cell_type": "markdown",
   "metadata": {},
   "source": [
    "# Neural Network over Iris Dataset\n",
    "\n",
    "## Import Libraries"
   ]
  },
  {
   "cell_type": "code",
   "execution_count": 1,
   "metadata": {},
   "outputs": [],
   "source": [
    "import numpy as np\n",
    "from matplotlib import pyplot as plt\n",
    "from sklearn import datasets"
   ]
  },
  {
   "cell_type": "markdown",
   "metadata": {},
   "source": [
    "# Load the Iris Data Set"
   ]
  },
  {
   "cell_type": "code",
   "execution_count": 4,
   "metadata": {},
   "outputs": [
    {
     "data": {
      "text/plain": [
       "array([[0],\n",
       "       [0],\n",
       "       [0],\n",
       "       [0],\n",
       "       [0],\n",
       "       [0],\n",
       "       [0],\n",
       "       [0],\n",
       "       [0],\n",
       "       [0],\n",
       "       [0],\n",
       "       [0],\n",
       "       [0],\n",
       "       [0],\n",
       "       [0],\n",
       "       [0],\n",
       "       [0],\n",
       "       [0],\n",
       "       [0],\n",
       "       [0],\n",
       "       [0],\n",
       "       [0],\n",
       "       [0],\n",
       "       [0],\n",
       "       [0],\n",
       "       [0],\n",
       "       [0],\n",
       "       [0],\n",
       "       [0],\n",
       "       [0],\n",
       "       [0],\n",
       "       [0],\n",
       "       [0],\n",
       "       [0],\n",
       "       [0],\n",
       "       [0],\n",
       "       [0],\n",
       "       [0],\n",
       "       [0],\n",
       "       [0],\n",
       "       [0],\n",
       "       [0],\n",
       "       [0],\n",
       "       [0],\n",
       "       [0],\n",
       "       [0],\n",
       "       [0],\n",
       "       [0],\n",
       "       [0],\n",
       "       [0],\n",
       "       [1],\n",
       "       [1],\n",
       "       [1],\n",
       "       [1],\n",
       "       [1],\n",
       "       [1],\n",
       "       [1],\n",
       "       [1],\n",
       "       [1],\n",
       "       [1],\n",
       "       [1],\n",
       "       [1],\n",
       "       [1],\n",
       "       [1],\n",
       "       [1],\n",
       "       [1],\n",
       "       [1],\n",
       "       [1],\n",
       "       [1],\n",
       "       [1],\n",
       "       [1],\n",
       "       [1],\n",
       "       [1],\n",
       "       [1],\n",
       "       [1],\n",
       "       [1],\n",
       "       [1],\n",
       "       [1],\n",
       "       [1],\n",
       "       [1],\n",
       "       [1],\n",
       "       [1],\n",
       "       [1],\n",
       "       [1],\n",
       "       [1],\n",
       "       [1],\n",
       "       [1],\n",
       "       [1],\n",
       "       [1],\n",
       "       [1],\n",
       "       [1],\n",
       "       [1],\n",
       "       [1],\n",
       "       [1],\n",
       "       [1],\n",
       "       [1],\n",
       "       [1],\n",
       "       [1],\n",
       "       [1],\n",
       "       [1],\n",
       "       [2],\n",
       "       [2],\n",
       "       [2],\n",
       "       [2],\n",
       "       [2],\n",
       "       [2],\n",
       "       [2],\n",
       "       [2],\n",
       "       [2],\n",
       "       [2],\n",
       "       [2],\n",
       "       [2],\n",
       "       [2],\n",
       "       [2],\n",
       "       [2],\n",
       "       [2],\n",
       "       [2],\n",
       "       [2],\n",
       "       [2],\n",
       "       [2],\n",
       "       [2],\n",
       "       [2],\n",
       "       [2],\n",
       "       [2],\n",
       "       [2],\n",
       "       [2],\n",
       "       [2],\n",
       "       [2],\n",
       "       [2],\n",
       "       [2],\n",
       "       [2],\n",
       "       [2],\n",
       "       [2],\n",
       "       [2],\n",
       "       [2],\n",
       "       [2],\n",
       "       [2],\n",
       "       [2],\n",
       "       [2],\n",
       "       [2],\n",
       "       [2],\n",
       "       [2],\n",
       "       [2],\n",
       "       [2],\n",
       "       [2],\n",
       "       [2],\n",
       "       [2],\n",
       "       [2],\n",
       "       [2],\n",
       "       [2]])"
      ]
     },
     "execution_count": 4,
     "metadata": {},
     "output_type": "execute_result"
    }
   ],
   "source": [
    "iris = datasets.load_iris()\n",
    "X = iris.data\n",
    "y = np.atleast_2d(iris.target).T"
   ]
  },
  {
   "cell_type": "markdown",
   "metadata": {},
   "source": [
    "# Define Functions"
   ]
  },
  {
   "cell_type": "code",
   "execution_count": 5,
   "metadata": {},
   "outputs": [],
   "source": [
    "def sigmoid(x, derivative=False):\n",
    "    if derivative:\n",
    "        return x * (1 - x)\n",
    "    return 1 / (1 + np.exp(-x))"
   ]
  },
  {
   "cell_type": "code",
   "execution_count": 6,
   "metadata": {},
   "outputs": [],
   "source": [
    "def feedforward(X):\n",
    "    z_h = np.dot(X, w01)\n",
    "    a_h = sigmoid(z_h)\n",
    "\n",
    "    z_o = np.dot(a_h, w12)\n",
    "    a_o = sigmoid(z_o)\n",
    "    return(a_o,a_h)"
   ]
  },
  {
   "cell_type": "markdown",
   "metadata": {},
   "source": [
    "# Define Parameters"
   ]
  },
  {
   "cell_type": "code",
   "execution_count": 7,
   "metadata": {},
   "outputs": [],
   "source": [
    "# Learning Rate\n",
    "eta = 0.01\n",
    "\n",
    "# Number of epochs for learning\n",
    "epochs = 1000\n",
    "\n",
    "# Number of Hidden Neurons\n",
    "hidden = 10"
   ]
  },
  {
   "cell_type": "markdown",
   "metadata": {},
   "source": [
    "# Initialize the weights"
   ]
  },
  {
   "cell_type": "code",
   "execution_count": 8,
   "metadata": {},
   "outputs": [],
   "source": [
    "w01 = np.random.random((len(X[0]), hidden))\n",
    "w12 = np.random.random((hidden, 1))"
   ]
  },
  {
   "cell_type": "markdown",
   "metadata": {},
   "source": [
    "# Start feeding forward and backpropagate *epochs* times."
   ]
  },
  {
   "cell_type": "code",
   "execution_count": 9,
   "metadata": {},
   "outputs": [],
   "source": [
    "error_total=[]\n",
    "error_total0=[]\n",
    "error_total1=[]\n",
    "error_total2=[]\n",
    "\n",
    "for epoch in range(epochs):\n",
    "    a_o, a_h = feedforward(X)\n",
    "    \n",
    "    # Calculate the error\n",
    "    a_o_error = ((1 / 2) * (np.power((a_o - y), 2)))\n",
    "\n",
    "    a_o_err_y = np.concatenate((a_o_error,y), axis=1)\n",
    "    a_o_err_y0 = a_o_err_y[a_o_err_y[:,1]==0][:,0]\n",
    "    a_o_err_y1 = a_o_err_y[a_o_err_y[:,1]==1][:,0]\n",
    "    a_o_err_y2 = a_o_err_y[a_o_err_y[:,1]==2][:,0]\n",
    "    \n",
    "    error_total = np.append(error_total,sum(a_o_error))\n",
    "    error_total0 = np.append(error_total0,sum(a_o_err_y0))\n",
    "    error_total1 = np.append(error_total1,sum(a_o_err_y1))\n",
    "    error_total2 = np.append(error_total2,sum(a_o_err_y2))\n",
    "\n",
    "    #print(sum(a_o_error))\n",
    "\n",
    "    # Backpropagation\n",
    "    ## Output to Hidden Layer weights\n",
    "    delta_a_o_error = a_o - y\n",
    "    delta_z_o = sigmoid(a_o,derivative=True)\n",
    "    delta_w12 = a_h\n",
    "    delta_output_layer = np.dot(delta_w12.T,(delta_a_o_error * delta_z_o))\n",
    "\n",
    "    ## Hidden to Input Layer weights\n",
    "    delta_a_h = np.dot(delta_a_o_error * delta_z_o, w12.T)\n",
    "    delta_z_h = sigmoid(a_h,derivative=True)\n",
    "    delta_w01 = X\n",
    "    delta_hidden_layer = np.dot(delta_w01.T, delta_a_h * delta_z_h)\n",
    "\n",
    "    # Adjust weights\n",
    "    w01 = w01 - eta * delta_hidden_layer\n",
    "    w12 = w12 - eta * delta_output_layer"
   ]
  },
  {
   "cell_type": "markdown",
   "metadata": {},
   "source": [
    "# Show final total error, type contribution to error"
   ]
  },
  {
   "cell_type": "code",
   "execution_count": 10,
   "metadata": {},
   "outputs": [
    {
     "name": "stdout",
     "output_type": "stream",
     "text": [
      "Total error: [25.09236335]\n",
      "Type 0 error: 0.03507248316498641\n",
      "Type 1 error: 0.0017079004610694767\n",
      "Type 2 error: 25.05558296492269\n"
     ]
    }
   ],
   "source": [
    "print(\"Total error:\",sum(a_o_error))\n",
    "print(\"Type 0 error:\",sum(a_o_err_y0))\n",
    "print(\"Type 1 error:\",sum(a_o_err_y1))\n",
    "print(\"Type 2 error:\",sum(a_o_err_y2))"
   ]
  },
  {
   "cell_type": "markdown",
   "metadata": {},
   "source": [
    "# Plot error after each epoch"
   ]
  },
  {
   "cell_type": "code",
   "execution_count": 11,
   "metadata": {},
   "outputs": [
    {
     "data": {
      "text/plain": [
       "[<matplotlib.lines.Line2D at 0x203c7690630>]"
      ]
     },
     "execution_count": 11,
     "metadata": {},
     "output_type": "execute_result"
    },
    {
     "data": {
      "image/png": "[encoded data removed]",
      "text/plain": [
       "<Figure size 432x288 with 1 Axes>"
      ]
     },
     "metadata": {},
     "output_type": "display_data"
    }
   ],
   "source": [
    "plt.plot(error_total)\n",
    "plt.plot(error_total0)\n",
    "plt.plot(error_total1)\n",
    "plt.plot(error_total2)"
   ]
  },
  {
   "cell_type": "markdown",
   "metadata": {},
   "source": [
    "# Show independent, dependent, predicted values"
   ]
  },
  {
   "cell_type": "code",
   "execution_count": 12,
   "metadata": {},
   "outputs": [
    {
     "name": "stdout",
     "output_type": "stream",
     "text": [
      "[[5.1        3.5        1.4        0.2        0.         0.03324662]\n",
      " [4.9        3.         1.4        0.2        0.         0.03839982]\n",
      " [4.7        3.2        1.3        0.2        0.         0.03652161]\n",
      " [4.6        3.1        1.5        0.2        0.         0.04267384]\n",
      " [5.         3.6        1.4        0.2        0.         0.03319889]\n",
      " [5.4        3.9        1.7        0.4        0.         0.03448357]\n",
      " [4.6        3.4        1.4        0.3        0.         0.03870485]\n",
      " [5.         3.4        1.5        0.2        0.         0.0356443 ]\n",
      " [4.4        2.9        1.4        0.2        0.         0.04584286]\n",
      " [4.9        3.1        1.5        0.1        0.         0.03760974]\n",
      " [5.4        3.7        1.5        0.2        0.         0.03184192]\n",
      " [4.8        3.4        1.6        0.2        0.         0.0389505 ]\n",
      " [4.8        3.         1.4        0.1        0.         0.0377051 ]\n",
      " [4.3        3.         1.1        0.1        0.         0.03700682]\n",
      " [5.8        4.         1.2        0.2        0.         0.02866611]\n",
      " [5.7        4.4        1.5        0.4        0.         0.02971078]\n",
      " [5.4        3.9        1.3        0.4        0.         0.03091192]\n",
      " [5.1        3.5        1.4        0.3        0.         0.03417842]\n",
      " [5.7        3.8        1.7        0.3        0.         0.03255393]\n",
      " [5.1        3.8        1.5        0.3        0.         0.03347923]\n",
      " [5.4        3.4        1.7        0.2        0.         0.03571449]\n",
      " [5.1        3.7        1.5        0.4        0.         0.03517073]\n",
      " [4.6        3.6        1.         0.2        0.         0.03170017]\n",
      " [5.1        3.3        1.7        0.5        0.         0.04647946]\n",
      " [4.8        3.4        1.9        0.2        0.         0.04708734]\n",
      " [5.         3.         1.6        0.2        0.         0.04168945]\n",
      " [5.         3.4        1.6        0.4        0.         0.04074927]\n",
      " [5.2        3.5        1.5        0.2        0.         0.03375618]\n",
      " [5.2        3.4        1.4        0.2        0.         0.03329984]\n",
      " [4.7        3.2        1.6        0.2        0.         0.04258912]\n",
      " [4.8        3.1        1.6        0.2        0.         0.0427616 ]\n",
      " [5.4        3.4        1.5        0.4        0.         0.03540452]\n",
      " [5.2        4.1        1.5        0.1        0.         0.03051484]\n",
      " [5.5        4.2        1.4        0.2        0.         0.0294638 ]\n",
      " [4.9        3.1        1.5        0.1        0.         0.03760974]\n",
      " [5.         3.2        1.2        0.2        0.         0.03344522]\n",
      " [5.5        3.5        1.3        0.2        0.         0.03090468]\n",
      " [4.9        3.1        1.5        0.1        0.         0.03760974]\n",
      " [4.4        3.         1.3        0.2        0.         0.04150434]\n",
      " [5.1        3.4        1.5        0.2        0.         0.0349853 ]\n",
      " [5.         3.5        1.3        0.3        0.         0.03363441]\n",
      " [4.5        2.3        1.3        0.3        0.         0.05786042]\n",
      " [4.4        3.2        1.3        0.2        0.         0.03910749]\n",
      " [5.         3.5        1.6        0.6        0.         0.04419497]\n",
      " [5.1        3.8        1.9        0.4        0.         0.04172003]\n",
      " [4.8        3.         1.4        0.3        0.         0.0413314 ]\n",
      " [5.1        3.8        1.6        0.2        0.         0.03359805]\n",
      " [4.6        3.2        1.4        0.2        0.         0.0391084 ]\n",
      " [5.3        3.7        1.5        0.2        0.         0.03224157]\n",
      " [5.         3.3        1.4        0.2        0.         0.03505082]\n",
      " [7.         3.2        4.7        1.4        1.         0.99539339]\n",
      " [6.4        3.2        4.5        1.5        1.         0.99660962]\n",
      " [6.9        3.1        4.9        1.5        1.         0.99757524]\n",
      " [5.5        2.3        4.         1.3        1.         0.9974966 ]\n",
      " [6.5        2.8        4.6        1.5        1.         0.99769276]\n",
      " [5.7        2.8        4.5        1.3        1.         0.99790843]\n",
      " [6.3        3.3        4.7        1.6        1.         0.99774961]\n",
      " [4.9        2.4        3.3        1.         1.         0.98787355]\n",
      " [6.6        2.9        4.6        1.3        1.         0.99650868]\n",
      " [5.2        2.7        3.9        1.4        1.         0.99718758]\n",
      " [5.         2.         3.5        1.         1.         0.99515835]\n",
      " [5.9        3.         4.2        1.5        1.         0.99678733]\n",
      " [6.         2.2        4.         1.         1.         0.99443743]\n",
      " [6.1        2.9        4.7        1.4        1.         0.99803102]\n",
      " [5.6        2.9        3.6        1.3        1.         0.98760618]\n",
      " [6.7        3.1        4.4        1.4        1.         0.99414936]\n",
      " [5.6        3.         4.5        1.5        1.         0.9981562 ]\n",
      " [5.8        2.7        4.1        1.         1.         0.99346042]\n",
      " [6.2        2.2        4.5        1.5        1.         0.99836927]\n",
      " [5.6        2.5        3.9        1.1        1.         0.99465918]\n",
      " [5.9        3.2        4.8        1.8        1.         0.99856941]\n",
      " [6.1        2.8        4.         1.3        1.         0.99324484]\n",
      " [6.3        2.5        4.9        1.5        1.         0.99857873]\n",
      " [6.1        2.8        4.7        1.2        1.         0.99771794]\n",
      " [6.4        2.9        4.3        1.3        1.         0.99476111]\n",
      " [6.6        3.         4.4        1.4        1.         0.99526923]\n",
      " [6.8        2.8        4.8        1.4        1.         0.99760556]\n",
      " [6.7        3.         5.         1.7        1.         0.99841697]\n",
      " [6.         2.9        4.5        1.5        1.         0.99789166]\n",
      " [5.7        2.6        3.5        1.         1.         0.97136281]\n",
      " [5.5        2.4        3.8        1.1        1.         0.99463868]\n",
      " [5.5        2.4        3.7        1.         1.         0.99148294]\n",
      " [5.8        2.7        3.9        1.2        1.         0.99319969]\n",
      " [6.         2.7        5.1        1.6        1.         0.99878555]\n",
      " [5.4        3.         4.5        1.5        1.         0.9983007 ]\n",
      " [6.         3.4        4.5        1.6        1.         0.99737724]\n",
      " [6.7        3.1        4.7        1.5        1.         0.9971806 ]\n",
      " [6.3        2.3        4.4        1.3        1.         0.99759571]\n",
      " [5.6        3.         4.1        1.3        1.         0.99582333]\n",
      " [5.5        2.5        4.         1.3        1.         0.99709135]\n",
      " [5.5        2.6        4.4        1.2        1.         0.99792083]\n",
      " [6.1        3.         4.6        1.4        1.         0.99765484]\n",
      " [5.8        2.6        4.         1.2        1.         0.99518   ]\n",
      " [5.         2.3        3.3        1.         1.         0.98814424]\n",
      " [5.6        2.7        4.2        1.3        1.         0.99729566]\n",
      " [5.7        3.         4.2        1.2        1.         0.99550831]\n",
      " [5.7        2.9        4.2        1.3        1.         0.99656932]\n",
      " [6.2        2.9        4.3        1.3        1.         0.99566132]\n",
      " [5.1        2.5        3.         1.1        1.         0.96167222]\n",
      " [5.7        2.8        4.1        1.3        1.         0.99627144]\n",
      " [6.3        3.3        6.         2.5        2.         0.99902376]\n",
      " [5.8        2.7        5.1        1.9        2.         0.99890918]\n",
      " [7.1        3.         5.9        2.1        2.         0.99895453]\n",
      " [6.3        2.9        5.6        1.8        2.         0.99892629]\n",
      " [6.5        3.         5.8        2.2        2.         0.9989911 ]\n",
      " [7.6        3.         6.6        2.1        2.         0.99900984]\n",
      " [4.9        2.5        4.5        1.7        2.         0.99882954]\n",
      " [7.3        2.9        6.3        1.8        2.         0.99896826]\n",
      " [6.7        2.5        5.8        1.8        2.         0.99896618]\n",
      " [7.2        3.6        6.1        2.5        2.         0.99898309]\n",
      " [6.5        3.2        5.1        2.         2.         0.99871828]\n",
      " [6.4        2.7        5.3        1.9        2.         0.99888887]\n",
      " [6.8        3.         5.5        2.1        2.         0.99889955]\n",
      " [5.7        2.5        5.         2.         2.         0.99894015]\n",
      " [5.8        2.8        5.1        2.4        2.         0.99897997]\n",
      " [6.4        3.2        5.3        2.3        2.         0.99891369]\n",
      " [6.5        3.         5.5        1.8        2.         0.99886103]\n",
      " [7.7        3.8        6.7        2.2        2.         0.99898309]\n",
      " [7.7        2.6        6.9        2.3        2.         0.99904231]\n",
      " [6.         2.2        5.         1.5        2.         0.99881519]\n",
      " [6.9        3.2        5.7        2.3        2.         0.99894892]\n",
      " [5.6        2.8        4.9        2.         2.         0.99889054]\n",
      " [7.7        2.8        6.7        2.         2.         0.99901475]\n",
      " [6.3        2.7        4.9        1.8        2.         0.99870156]\n",
      " [6.7        3.3        5.7        2.1        2.         0.99892101]\n",
      " [7.2        3.2        6.         1.8        2.         0.99888362]\n",
      " [6.2        2.8        4.8        1.8        2.         0.99862933]\n",
      " [6.1        3.         4.9        1.8        2.         0.99865896]\n",
      " [6.4        2.8        5.6        2.1        2.         0.99897405]\n",
      " [7.2        3.         5.8        1.6        2.         0.99878086]\n",
      " [7.4        2.8        6.1        1.9        2.         0.99895148]\n",
      " [7.9        3.8        6.4        2.         2.         0.99886841]\n",
      " [6.4        2.8        5.6        2.2        2.         0.99898551]\n",
      " [6.3        2.8        5.1        1.5        2.         0.99861543]\n",
      " [6.1        2.6        5.6        1.4        2.         0.99889967]\n",
      " [7.7        3.         6.1        2.3        2.         0.99897029]\n",
      " [6.3        3.4        5.6        2.4        2.         0.99897345]\n",
      " [6.4        3.1        5.5        1.8        2.         0.99885897]\n",
      " [6.         3.         4.8        1.8        2.         0.99861901]\n",
      " [6.9        3.1        5.4        2.1        2.         0.99883857]\n",
      " [6.7        3.1        5.6        2.4        2.         0.99897016]\n",
      " [6.9        3.1        5.1        2.3        2.         0.99879006]\n",
      " [5.8        2.7        5.1        1.9        2.         0.99890918]\n",
      " [6.8        3.2        5.9        2.3        2.         0.99898489]\n",
      " [6.7        3.3        5.7        2.5        2.         0.99898133]\n",
      " [6.7        3.         5.2        2.3        2.         0.99887898]\n",
      " [6.3        2.5        5.         1.9        2.         0.99884119]\n",
      " [6.5        3.         5.2        2.         2.         0.99881765]\n",
      " [6.2        3.4        5.4        2.3        2.         0.99893226]\n",
      " [5.9        3.         5.1        1.8        2.         0.99881541]]\n"
     ]
    }
   ],
   "source": [
    "a_o, a_h = feedforward(X)\n",
    "print(np.concatenate((X,y,a_o),axis=1))"
   ]
  },
  {
   "cell_type": "code",
   "execution_count": null,
   "metadata": {},
   "outputs": [],
   "source": []
  }
 ],
 "metadata": {
  "kernelspec": {
   "display_name": "Python 3",
   "language": "python",
   "name": "python3"
  },
  "language_info": {
   "codemirror_mode": {
    "name": "ipython",
    "version": 3
   },
   "file_extension": ".py",
   "mimetype": "text/x-python",
   "name": "python",
   "nbconvert_exporter": "python",
   "pygments_lexer": "ipython3",
   "version": "3.7.1"
  }
 },
 "nbformat": 4,
 "nbformat_minor": 2
}
