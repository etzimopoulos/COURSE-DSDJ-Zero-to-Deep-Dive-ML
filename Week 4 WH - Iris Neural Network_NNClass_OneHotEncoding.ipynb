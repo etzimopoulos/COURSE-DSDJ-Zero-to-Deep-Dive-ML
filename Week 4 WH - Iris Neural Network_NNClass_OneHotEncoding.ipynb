{
 "cells": [
  {
   "cell_type": "markdown",
   "metadata": {},
   "source": [
    "# Neural Network over Iris Dataset\n",
    "\n",
    "## Import Libraries"
   ]
  },
  {
   "cell_type": "code",
   "execution_count": 1,
   "metadata": {},
   "outputs": [],
   "source": [
    "import numpy as np\n",
    "from matplotlib import pyplot as plt\n",
    "from sklearn import datasets\n",
    "from numpy import array\n",
    "from numpy import argmax\n",
    "from sklearn.preprocessing import LabelEncoder\n",
    "from sklearn.preprocessing import OneHotEncoder"
   ]
  },
  {
   "cell_type": "markdown",
   "metadata": {},
   "source": [
    "# Load the Iris Data Set"
   ]
  },
  {
   "cell_type": "code",
   "execution_count": 2,
   "metadata": {},
   "outputs": [],
   "source": [
    "iris = datasets.load_iris()\n",
    "X = iris.data\n",
    "y_original = np.atleast_2d(iris.target).T\n",
    "# y_original.shape\n",
    "# print(y)"
   ]
  },
  {
   "cell_type": "code",
   "execution_count": 3,
   "metadata": {},
   "outputs": [
    {
     "name": "stdout",
     "output_type": "stream",
     "text": [
      "[0 0 0 0 0 0 0 0 0 0 0 0 0 0 0 0 0 0 0 0 0 0 0 0 0 0 0 0 0 0 0 0 0 0 0 0 0\n",
      " 0 0 0 0 0 0 0 0 0 0 0 0 0 1 1 1 1 1 1 1 1 1 1 1 1 1 1 1 1 1 1 1 1 1 1 1 1\n",
      " 1 1 1 1 1 1 1 1 1 1 1 1 1 1 1 1 1 1 1 1 1 1 1 1 1 1 2 2 2 2 2 2 2 2 2 2 2\n",
      " 2 2 2 2 2 2 2 2 2 2 2 2 2 2 2 2 2 2 2 2 2 2 2 2 2 2 2 2 2 2 2 2 2 2 2 2 2\n",
      " 2 2]\n"
     ]
    }
   ],
   "source": [
    "# Reshape output in array format to use in Softmax activation function\n",
    "y_n = np.array(y_original).reshape(-1)\n",
    "print(y_n)\n",
    "\n",
    "# Reshape output in array format\n",
    "# copy3=np.reshape(y, (150,))\n",
    "# print(copy3)"
   ]
  },
  {
   "cell_type": "markdown",
   "metadata": {},
   "source": [
    "# One Hot Encoding"
   ]
  },
  {
   "cell_type": "code",
   "execution_count": 4,
   "metadata": {},
   "outputs": [
    {
     "name": "stdout",
     "output_type": "stream",
     "text": [
      "[[1. 0. 0.]\n",
      " [1. 0. 0.]\n",
      " [1. 0. 0.]\n",
      " [1. 0. 0.]\n",
      " [1. 0. 0.]\n",
      " [1. 0. 0.]\n",
      " [1. 0. 0.]\n",
      " [1. 0. 0.]\n",
      " [1. 0. 0.]\n",
      " [1. 0. 0.]\n",
      " [1. 0. 0.]\n",
      " [1. 0. 0.]\n",
      " [1. 0. 0.]\n",
      " [1. 0. 0.]\n",
      " [1. 0. 0.]\n",
      " [1. 0. 0.]\n",
      " [1. 0. 0.]\n",
      " [1. 0. 0.]\n",
      " [1. 0. 0.]\n",
      " [1. 0. 0.]\n",
      " [1. 0. 0.]\n",
      " [1. 0. 0.]\n",
      " [1. 0. 0.]\n",
      " [1. 0. 0.]\n",
      " [1. 0. 0.]\n",
      " [1. 0. 0.]\n",
      " [1. 0. 0.]\n",
      " [1. 0. 0.]\n",
      " [1. 0. 0.]\n",
      " [1. 0. 0.]\n",
      " [1. 0. 0.]\n",
      " [1. 0. 0.]\n",
      " [1. 0. 0.]\n",
      " [1. 0. 0.]\n",
      " [1. 0. 0.]\n",
      " [1. 0. 0.]\n",
      " [1. 0. 0.]\n",
      " [1. 0. 0.]\n",
      " [1. 0. 0.]\n",
      " [1. 0. 0.]\n",
      " [1. 0. 0.]\n",
      " [1. 0. 0.]\n",
      " [1. 0. 0.]\n",
      " [1. 0. 0.]\n",
      " [1. 0. 0.]\n",
      " [1. 0. 0.]\n",
      " [1. 0. 0.]\n",
      " [1. 0. 0.]\n",
      " [1. 0. 0.]\n",
      " [1. 0. 0.]\n",
      " [0. 1. 0.]\n",
      " [0. 1. 0.]\n",
      " [0. 1. 0.]\n",
      " [0. 1. 0.]\n",
      " [0. 1. 0.]\n",
      " [0. 1. 0.]\n",
      " [0. 1. 0.]\n",
      " [0. 1. 0.]\n",
      " [0. 1. 0.]\n",
      " [0. 1. 0.]\n",
      " [0. 1. 0.]\n",
      " [0. 1. 0.]\n",
      " [0. 1. 0.]\n",
      " [0. 1. 0.]\n",
      " [0. 1. 0.]\n",
      " [0. 1. 0.]\n",
      " [0. 1. 0.]\n",
      " [0. 1. 0.]\n",
      " [0. 1. 0.]\n",
      " [0. 1. 0.]\n",
      " [0. 1. 0.]\n",
      " [0. 1. 0.]\n",
      " [0. 1. 0.]\n",
      " [0. 1. 0.]\n",
      " [0. 1. 0.]\n",
      " [0. 1. 0.]\n",
      " [0. 1. 0.]\n",
      " [0. 1. 0.]\n",
      " [0. 1. 0.]\n",
      " [0. 1. 0.]\n",
      " [0. 1. 0.]\n",
      " [0. 1. 0.]\n",
      " [0. 1. 0.]\n",
      " [0. 1. 0.]\n",
      " [0. 1. 0.]\n",
      " [0. 1. 0.]\n",
      " [0. 1. 0.]\n",
      " [0. 1. 0.]\n",
      " [0. 1. 0.]\n",
      " [0. 1. 0.]\n",
      " [0. 1. 0.]\n",
      " [0. 1. 0.]\n",
      " [0. 1. 0.]\n",
      " [0. 1. 0.]\n",
      " [0. 1. 0.]\n",
      " [0. 1. 0.]\n",
      " [0. 1. 0.]\n",
      " [0. 1. 0.]\n",
      " [0. 1. 0.]\n",
      " [0. 1. 0.]\n",
      " [0. 0. 1.]\n",
      " [0. 0. 1.]\n",
      " [0. 0. 1.]\n",
      " [0. 0. 1.]\n",
      " [0. 0. 1.]\n",
      " [0. 0. 1.]\n",
      " [0. 0. 1.]\n",
      " [0. 0. 1.]\n",
      " [0. 0. 1.]\n",
      " [0. 0. 1.]\n",
      " [0. 0. 1.]\n",
      " [0. 0. 1.]\n",
      " [0. 0. 1.]\n",
      " [0. 0. 1.]\n",
      " [0. 0. 1.]\n",
      " [0. 0. 1.]\n",
      " [0. 0. 1.]\n",
      " [0. 0. 1.]\n",
      " [0. 0. 1.]\n",
      " [0. 0. 1.]\n",
      " [0. 0. 1.]\n",
      " [0. 0. 1.]\n",
      " [0. 0. 1.]\n",
      " [0. 0. 1.]\n",
      " [0. 0. 1.]\n",
      " [0. 0. 1.]\n",
      " [0. 0. 1.]\n",
      " [0. 0. 1.]\n",
      " [0. 0. 1.]\n",
      " [0. 0. 1.]\n",
      " [0. 0. 1.]\n",
      " [0. 0. 1.]\n",
      " [0. 0. 1.]\n",
      " [0. 0. 1.]\n",
      " [0. 0. 1.]\n",
      " [0. 0. 1.]\n",
      " [0. 0. 1.]\n",
      " [0. 0. 1.]\n",
      " [0. 0. 1.]\n",
      " [0. 0. 1.]\n",
      " [0. 0. 1.]\n",
      " [0. 0. 1.]\n",
      " [0. 0. 1.]\n",
      " [0. 0. 1.]\n",
      " [0. 0. 1.]\n",
      " [0. 0. 1.]\n",
      " [0. 0. 1.]\n",
      " [0. 0. 1.]\n",
      " [0. 0. 1.]\n",
      " [0. 0. 1.]]\n"
     ]
    },
    {
     "name": "stderr",
     "output_type": "stream",
     "text": [
      "C:\\Users\\etzim\\Anaconda3\\lib\\site-packages\\sklearn\\preprocessing\\_encoders.py:368: FutureWarning: The handling of integer data will change in version 0.22. Currently, the categories are determined based on the range [0, max(values)], while in the future they will be determined based on the unique values.\n",
      "If you want the future behaviour and silence this warning, you can specify \"categories='auto'\".\n",
      "In case you used a LabelEncoder before this OneHotEncoder to convert the categories to integers, then you can now use the OneHotEncoder directly.\n",
      "  warnings.warn(msg, FutureWarning)\n"
     ]
    }
   ],
   "source": [
    "onehot_encoder = OneHotEncoder(sparse=False)\n",
    "y = onehot_encoder.fit_transform(y_original)\n",
    "print(y)"
   ]
  },
  {
   "cell_type": "markdown",
   "metadata": {},
   "source": [
    "# Manual One Hot Encoding"
   ]
  },
  {
   "cell_type": "markdown",
   "metadata": {},
   "source": [
    "# Reshape output in array format\n",
    "# define input string\n",
    "data = 'hello world'\n",
    "print(data)\n",
    "# define universe of possible input values\n",
    "alphabet = 'abcdefghijklmnopqrstuvwxyz '\n",
    "enum = enumerate(alphabet)\n",
    "print(enum, \"\\n\\n\")\n",
    "# define a mapping of chars to integers\n",
    "char_to_int = dict((c, i) for i, c in enumerate(alphabet))\n",
    "print(char_to_int,\"\\n\")\n",
    "int_to_char = dict((i, c) for i, c in enumerate(alphabet))\n",
    "print(int_to_char, \"\\n\")\n",
    "\n",
    "# integer encode input data\n",
    "integer_encoded = [char_to_int[char] for char in data]\n",
    "print(integer_encoded)\n",
    "# one hot encode\n",
    "onehot_encoded = list()\n",
    "for value in integer_encoded:\n",
    "    letter = [0 for _ in range(len(alphabet))]\n",
    "    letter[value] = 1\n",
    "    onehot_encoded.append(letter)\n",
    "print(onehot_encoded)\n",
    "# invert encoding\n",
    "inverted = int_to_char[argmax(onehot_encoded[0])]\n",
    "print(inverted)"
   ]
  },
  {
   "cell_type": "code",
   "execution_count": null,
   "metadata": {},
   "outputs": [],
   "source": []
  },
  {
   "cell_type": "markdown",
   "metadata": {},
   "source": [
    "from numpy import array\n",
    "from numpy import argmax\n",
    "from sklearn.preprocessing import LabelEncoder\n",
    "from sklearn.preprocessing import OneHotEncoder\n",
    "# define example\n",
    "data = ['cold', 'cold', 'warm', 'cold', 'hot', 'hot', 'warm', 'cold', 'warm', 'hot']\n",
    "values = array(data)\n",
    "print(values)\n",
    "# integer encode\n",
    "label_encoder = LabelEncoder()\n",
    "integer_encoded = label_encoder.fit_transform(values)\n",
    "print(integer_encoded)\n",
    "# binary encode\n",
    "onehot_encoder = OneHotEncoder(sparse=False)\n",
    "integer_encoded = integer_encoded.reshape(len(integer_encoded), 1)\n",
    "onehot_encoded = onehot_encoder.fit_transform(integer_encoded)\n",
    "print(onehot_encoded)\n",
    "# invert first example\n",
    "inverted = label_encoder.inverse_transform([argmax(onehot_encoded[0, :])])\n",
    "print(inverted)"
   ]
  },
  {
   "cell_type": "code",
   "execution_count": null,
   "metadata": {},
   "outputs": [],
   "source": []
  },
  {
   "cell_type": "markdown",
   "metadata": {},
   "source": [
    "# Define Parameters"
   ]
  },
  {
   "cell_type": "code",
   "execution_count": 5,
   "metadata": {},
   "outputs": [],
   "source": [
    "# Learning Rate\n",
    "eta = 0.01\n",
    "\n",
    "# Number of epochs for learning\n",
    "epochs = 2000\n",
    "\n",
    "#Input layer\n",
    "inputLayer = X.shape[1]\n",
    "\n",
    "# Number of Hidden Neurons\n",
    "hidden = 10\n",
    "\n",
    "# Drop out rate probability (drp = 1 means no dropout)\n",
    "drp = 1"
   ]
  },
  {
   "cell_type": "markdown",
   "metadata": {},
   "source": [
    "# Define Functions"
   ]
  },
  {
   "cell_type": "code",
   "execution_count": 6,
   "metadata": {},
   "outputs": [],
   "source": [
    "class Neural_Network(object):\n",
    "    def __init__(self, eta, inputL, hiddenL, drp):\n",
    "\n",
    "        # Define NN structure parameters\n",
    "        self.inputLayer = inputL\n",
    "        self.hidden = hiddenL\n",
    "        self.outputLayer = 3\n",
    "        self.eta = eta\n",
    "        self.drp = drp\n",
    "\n",
    "        # Initialise random weights based on NN structure\n",
    "        self.w01 = np.random.random((self.inputLayer, self.hidden))\n",
    "        self.w12 = np.random.random((self.hidden, self.outputLayer))\n",
    "        \n",
    "\n",
    "        # Initialise Weights Learning lists to keep track of weights learning curve\n",
    "        self.w01_list = []\n",
    "        self.w12_list = []\n",
    "        self.w01_curve = []\n",
    "        self.w12_curve = []\n",
    "\n",
    "        # Initialise Error list to keep track of Error learning curve\n",
    "        self.E_o = []\n",
    "        #error_total=[]\n",
    "        self.E_o_type0=[]\n",
    "        self.E_o_type1=[]\n",
    "        self.E_o_type2=[]\n",
    "\n",
    "    def feedforward(self,X,mode):\n",
    "        # ****************************************************************************\n",
    "        # Feedforward FUNCTION\n",
    "        # \n",
    "        # Purpose of this function is to calculate the NN output based on the Input X,\n",
    "        # the given Weights per layer and the activation function for each neuron. The\n",
    "        # function is designed to cater for Dropout feature, which scales the weights\n",
    "        # of the NN during Testing, by probability p, which is a parametrised using \n",
    "        # input variable k. Typical default dropout value is 0.5. For k=1 there is no \n",
    "        # dropout\n",
    "        # \n",
    "        # Paramenters\n",
    "        # X     :Input vector\n",
    "        # mode  :Select \"0\" for Training Mode or Select \"1\" for Testing Mode\n",
    "        # k     :Optional input for the Dropout Hyperparameter, when applicable. If not\n",
    "        #        specified, it is defaulted to NN configuration\n",
    "\n",
    "        # When training (mode=\"0\") Drop out applies for the hidden layer outputs a_h\n",
    "        if mode == 0:\n",
    "            #print(\"Testing mode activated\")\n",
    "            self.z_h = np.dot(X, self.w01)\n",
    "            a_h = self.sigmoid(self.z_h)\n",
    "            \n",
    "            # Dropout term: random noise added to input ah (output of the hidden layer \n",
    "            # but input to the output) with probability \"p\"\n",
    "            r = np.random.binomial(size=a_h.shape,n=1,p=self.drp)\n",
    "            a_h *= r\n",
    "            \n",
    "            self.z_o = np.dot(a_h, self.w12)\n",
    "            a_o = self.sigmoid(self.z_o)\n",
    "            \n",
    "        # When Testing (mode = \"1\") we use the normal weights w12 (not scaled with p)\n",
    "        elif mode == 1:\n",
    "            #print(\"Training mode activated\")\n",
    "            self.z_h = np.dot(X, self.w01)\n",
    "            a_h = self.sigmoid(self.z_h)\n",
    "            self.z_o = np.dot(a_h, self.w12)\n",
    "            a_o = self.sigmoid(self.z_o)\n",
    "\n",
    "        return(a_o,a_h)\n",
    "\n",
    "\n",
    "    def sigmoid(self, x, derivative=False):\n",
    "        if derivative:\n",
    "            return x * (1 - x)\n",
    "        return 1 / (1 + np.exp(-x))\n",
    "\n",
    "\n",
    "    def backprop(self,X,y,a_o,a_h):\n",
    "        # Backpropagation\n",
    "        ## Output to Hidden Layer weights\n",
    "        self.delta_E_o = a_o - y\n",
    "        self.delta_a_o = self.sigmoid(a_o,derivative=True)\n",
    "        self.delta_z_o = a_h\n",
    "        self.delta_E_w12 = np.dot(self.delta_z_o.T,(self.delta_E_o * self.delta_a_o))\n",
    "\n",
    "        ## Hidden to Input Layer weights\n",
    "        self.delta_E_h = np.dot(self.delta_E_o * self.delta_a_o, self.w12.T)\n",
    "        self.delta_a_h = self.sigmoid(a_h,derivative=True)\n",
    "        self.delta_z_h = X\n",
    "        self.delta_E_w01 = np.dot(self.delta_z_h.T, self.delta_E_h * self.delta_a_h)\n",
    "\n",
    "        # Store All weights throughout learning\n",
    "        self.w01_list.append(self.w01)\n",
    "        self.w12_list.append(self.w12)\n",
    "\n",
    "        # Adjust weights\n",
    "        self.w01 = self.w01 - eta * self.delta_E_w01\n",
    "        self.w12 = self.w12 - eta * self.delta_E_w12\n",
    "\n",
    "        \n",
    "    def saveWeights(self):\n",
    "        np.savetxt(\"w1.txt\", self.w01, fmt=\"%s\")\n",
    "        np.savetxt(\"w2.txt\", self.w12, fmt=\"%s\")\n",
    "        # print(\"Input-Hidden Layer weights:\\n\",self.w01)\n",
    "        # print(\"\\nHidden-Output Layer weights:\\n\",self.w12)\n",
    "\n",
    "    def weightsCurve(self):\n",
    "        for i in range(self.w01.shape[0]):\n",
    "            for j in range(self.w01.shape[1]):\n",
    "                for x in range(len(self.w01_list)):\n",
    "                    self.w01_curve.append(self.w01_list[x][i][j])\n",
    "                    #print(\"Weights w[\",x,\"],[\",i,\"],[\",j,\"] stored\")\n",
    "                    #print(w01_list[x][i][j])\n",
    "\n",
    "    def error(self,a_o, y):\n",
    "        a_o_error = ((1 / 2) * (np.power((a_o - y), 2)))\n",
    "        return a_o_error\n",
    "    \n",
    "    def errorCurve(self, error, irisType):\n",
    "        # Error curve function for all Errors types in the Iris data set\n",
    "        # AS Input the function takes two arguments: \"error\" itslef & \"iristType\"\n",
    "        # The 2nd argument has been added for now as an explicit input\n",
    "        # in order to make clear which error curve should be returned.\n",
    "        # In future improvements it can be infered as follows (which is also the \n",
    "        # the definition of the types used)\n",
    "        # a_o_err_y for type iritType=''\n",
    "        # a_o_err_y0 for type iritType = 0\n",
    "        # a_o_err_y1 for type iritType = 1\n",
    "        # a_o_err_y2 for type iritType = 2\n",
    "        if irisType == '':\n",
    "            self.E_o = np.append(self.E_o, sum(error))\n",
    "            return self.E_o\n",
    "        elif irisType == 0:\n",
    "            self.E_o_type0 = np.append(self.E_o_type0, sum(error))\n",
    "            return self.E_o_type0\n",
    "        elif irisType == 1:\n",
    "            self.E_o_type1 = np.append(self.E_o_type1, sum(error))\n",
    "            return self.E_o_type1\n",
    "        elif irisType == 2:\n",
    "            self.E_o_type2 = np.append(self.E_o_type2, sum(error))\n",
    "            return self.E_o_type2\n",
    "        \n",
    "    def train(self,X,y):\n",
    "        a_o, a_h = self.feedforward(X,0)\n",
    "        self.backprop(X,y,a_o,a_h)\n",
    "\n",
    "    def plot(self, E_o):\n",
    "        fig = plt.figure()\n",
    "        plt.plot(E_o)\n",
    "        if self.drp == 1:\n",
    "            fig.suptitle('Error', fontsize=16)\n",
    "        elif self.drp == 0.5:\n",
    "            fig.suptitle('Error with Dropout', fontsize=16)\n",
    "        plt.xlabel('Epochs', fontsize=12)\n",
    "        plt.ylabel('Error achieved', fontsize=12)\n",
    "        if self.drp == 1:\n",
    "            fig.savefig('Error.jpg')\n",
    "        elif self.drp == 0.5:\n",
    "            fig.savefig('Error with Dropout.jpg')\n",
    "        \n",
    "        plt.show()\n",
    "\n",
    "    def predict(self, X):\n",
    "        a_o, a_h = self.feedforward(X,1)\n",
    "        print(\"Minimum Error achieved:\", min(self.E_o)) \n",
    "        print(\"Epochs run:\", epochs)\n",
    "        print(\"Hidden neurons\",self.hidden)\n",
    "        print(\"Learning Rate:\",self.eta)\n",
    "        #np.savetxt(\"Predicted_Output.csv\", a_o, delimiter=\",\")\n",
    "        #print(\"\\nPredicted Output based on trained weights:\")\n",
    "        #print(a_o)\n",
    "        #print(\"\\n\")\n",
    "        \n",
    "    def plotWeights(self, epochs):\n",
    "        fig = plt.figure()\n",
    "        numberOfWeights = self.w01.shape[1]*self.w01.shape[0]\n",
    "        for k in range(numberOfWeights):\n",
    "            t= self.w01_curve[(epochs*k):(epochs*(k+1)-1)]\n",
    "            plt.plot(t)\n",
    "        if self.drp == 1:\n",
    "            fig.suptitle('W01 Weights learning', fontsize=16)\n",
    "        elif self.drp == 0.5:\n",
    "            fig.suptitle('W01 Weights learning WITH dropout', fontsize=16)\n",
    "        plt.xlabel('Epochs', fontsize=12)\n",
    "        plt.ylabel('W01', fontsize=12)\n",
    "        #fig.savefig('W01_curve.jpg')"
   ]
  },
  {
   "cell_type": "markdown",
   "metadata": {},
   "source": [
    "# Start feeding forward and backpropagate *epochs* times."
   ]
  },
  {
   "cell_type": "code",
   "execution_count": 7,
   "metadata": {},
   "outputs": [],
   "source": [
    "\n",
    "# Initiating 2 NNs with the following function and input parameters\n",
    "# Neural_Network(eta, hidden, drp)\n",
    "\n",
    "# Neural Network without Dropout\n",
    "NN1 = Neural_Network(0.01, inputLayer, 10, 1)\n",
    "\n",
    "# Neural Network with Dropout\n",
    "NN2 = Neural_Network(0.01, inputLayer, 10, 0.5)\n",
    "\n",
    "\n",
    "for epoch in range(epochs):\n",
    "    #Forward pass\n",
    "    a_o, a_h  = NN1.feedforward(X,0)\n",
    "    b_o, b_h  = NN2.feedforward(X,0)\n",
    "    \n",
    "    # Calculate the error and sub-type errors for NN1\n",
    "    a_o_error = NN1.error(a_o, y)\n",
    "    # Split out type 0, 1 and 2 errors in separate variables         \n",
    "    a_o_err_y = np.concatenate((a_o_error,y), axis=1)\n",
    "    a_o_err_y0 = a_o_err_y[a_o_err_y[:,1]==0][:,0]\n",
    "    a_o_err_y1 = a_o_err_y[a_o_err_y[:,1]==1][:,0]\n",
    "    a_o_err_y2 = a_o_err_y[a_o_err_y[:,1]==2][:,0]\n",
    "   \n",
    "    # Calculate the error and sub-type errors for NN1\n",
    "    b_o_error = NN2.error(b_o,y)\n",
    "    # Split out type 0, 1 and 2 errors in separate variables         \n",
    "    b_o_err_y = np.concatenate((b_o_error,y), axis=1)\n",
    "    b_o_err_y0 = b_o_err_y[b_o_err_y[:,1]==0][:,0]\n",
    "    b_o_err_y1 = b_o_err_y[b_o_err_y[:,1]==1][:,0]\n",
    "    b_o_err_y2 = b_o_err_y[b_o_err_y[:,1]==2][:,0]\n",
    "    \n",
    "    \n",
    "    # Build NN1 error curve while learning\n",
    "    E_o_1 = NN1.errorCurve(a_o_error,'')    \n",
    "    E_o_1_type0 = NN1.errorCurve(a_o_err_y0,0)\n",
    "    E_o_1_type1 = NN1.errorCurve(a_o_err_y1,1)\n",
    "    E_o_1_type2 = NN1.errorCurve(a_o_err_y2,2)\n",
    "    \n",
    "    # Build NN2 error curve while learning\n",
    "    E_o_2 = NN2.errorCurve(b_o_error,'')    \n",
    "    E_o_2_type0 = NN2.errorCurve(b_o_err_y0,0)\n",
    "    E_o_2_type1 = NN2.errorCurve(b_o_err_y1,1)\n",
    "    E_o_2_type2 = NN2.errorCurve(b_o_err_y2,2)\n",
    "    \n",
    "    \n",
    "    # Build error curve while learning\n",
    "    E = [E_o_1, E_o_2]\n",
    "    \n",
    "    # Train Neural Networks and construct weights learning curve as it learns\n",
    "    NN1.train(X, y)\n",
    "    NN1.weightsCurve\n",
    "\n",
    "    NN2.train(X, y)\n",
    "    NN2.weightsCurve\n",
    "\n",
    "\n"
   ]
  },
  {
   "cell_type": "markdown",
   "metadata": {},
   "source": [
    "## NN - Predict and Plot"
   ]
  },
  {
   "cell_type": "code",
   "execution_count": 8,
   "metadata": {},
   "outputs": [
    {
     "data": {
      "image/png": "[encoded data removed]",
      "text/plain": [
       "<Figure size 432x288 with 1 Axes>"
      ]
     },
     "metadata": {
      "needs_background": "light"
     },
     "output_type": "display_data"
    },
    {
     "name": "stdout",
     "output_type": "stream",
     "text": [
      "Minimum Error achieved: 0.1820807123572643\n",
      "Epochs run: 2000\n",
      "Hidden neurons 10\n",
      "Learning Rate: 0.01\n"
     ]
    },
    {
     "data": {
      "image/png": "[encoded data removed]",
      "text/plain": [
       "<Figure size 432x288 with 1 Axes>"
      ]
     },
     "metadata": {
      "needs_background": "light"
     },
     "output_type": "display_data"
    }
   ],
   "source": [
    "# Neural Network without Dropout\n",
    "NN1.plot(E_o_1)\n",
    "NN1.predict(X)\n",
    "\n",
    "# Build Weights curve using wxx_list and plot weights\n",
    "NN1.weightsCurve()\n",
    "NN1.plotWeights(epochs)\n"
   ]
  },
  {
   "cell_type": "markdown",
   "metadata": {},
   "source": [
    "## NN with Dropout"
   ]
  },
  {
   "cell_type": "code",
   "execution_count": 9,
   "metadata": {},
   "outputs": [
    {
     "data": {
      "image/png": "[encoded data removed]",
      "text/plain": [
       "<Figure size 432x288 with 1 Axes>"
      ]
     },
     "metadata": {
      "needs_background": "light"
     },
     "output_type": "display_data"
    },
    {
     "name": "stdout",
     "output_type": "stream",
     "text": [
      "Minimum Error achieved: 4.815357141609997\n",
      "Epochs run: 2000\n",
      "Hidden neurons 10\n",
      "Learning Rate: 0.01\n"
     ]
    },
    {
     "data": {
      "image/png": "[encoded data removed]",
      "text/plain": [
       "<Figure size 432x288 with 1 Axes>"
      ]
     },
     "metadata": {
      "needs_background": "light"
     },
     "output_type": "display_data"
    }
   ],
   "source": [
    "# Neural Network WITH Dropout\n",
    "NN2.plot(E_o_2)\n",
    "NN2.predict(X)\n",
    "\n",
    "# Build Weights curve using wxx_list and plot weights\n",
    "NN2.weightsCurve()\n",
    "NN2.plotWeights(epochs)\n"
   ]
  },
  {
   "cell_type": "code",
   "execution_count": null,
   "metadata": {},
   "outputs": [],
   "source": []
  },
  {
   "cell_type": "code",
   "execution_count": null,
   "metadata": {},
   "outputs": [],
   "source": []
  },
  {
   "cell_type": "markdown",
   "metadata": {},
   "source": [
    "# Show final total error, type contribution to error"
   ]
  },
  {
   "cell_type": "code",
   "execution_count": 10,
   "metadata": {},
   "outputs": [
    {
     "name": "stdout",
     "output_type": "stream",
     "text": [
      "Total error: [ 0.18703728 14.58116163  7.64442827]\n",
      "Type 0 error: 0\n",
      "Type 1 error: 0\n",
      "Type 2 error: 0\n"
     ]
    }
   ],
   "source": [
    "print(\"Total error:\",sum(a_o_error))\n",
    "print(\"Type 0 error:\",sum(a_o_err_y0))\n",
    "print(\"Type 1 error:\",sum(a_o_err_y1))\n",
    "print(\"Type 2 error:\",sum(a_o_err_y2))"
   ]
  },
  {
   "cell_type": "markdown",
   "metadata": {},
   "source": [
    "# Plot NN1 error"
   ]
  },
  {
   "cell_type": "code",
   "execution_count": 11,
   "metadata": {},
   "outputs": [
    {
     "data": {
      "text/plain": [
       "[<matplotlib.lines.Line2D at 0x15cda685278>]"
      ]
     },
     "execution_count": 11,
     "metadata": {},
     "output_type": "execute_result"
    },
    {
     "data": {
      "image/png": "[encoded data removed]",
      "text/plain": [
       "<Figure size 432x288 with 1 Axes>"
      ]
     },
     "metadata": {
      "needs_background": "light"
     },
     "output_type": "display_data"
    }
   ],
   "source": [
    "plt.plot(E_o_1)\n",
    "plt.plot(E_o_1_type0)\n",
    "plt.plot(E_o_1_type1)\n",
    "plt.plot(E_o_1_type2)"
   ]
  },
  {
   "cell_type": "markdown",
   "metadata": {},
   "source": []
  },
  {
   "cell_type": "code",
   "execution_count": null,
   "metadata": {},
   "outputs": [],
   "source": []
  },
  {
   "cell_type": "markdown",
   "metadata": {},
   "source": [
    "# NN1 - Show independent, dependent, predicted values"
   ]
  },
  {
   "cell_type": "code",
   "execution_count": 12,
   "metadata": {},
   "outputs": [],
   "source": [
    "a_o, a_h = NN1.feedforward(X,1)\n",
    "#print(np.concatenate((X,y,a_o),axis=1))"
   ]
  },
  {
   "cell_type": "markdown",
   "metadata": {},
   "source": [
    "# Plot NN2 error"
   ]
  },
  {
   "cell_type": "code",
   "execution_count": 13,
   "metadata": {},
   "outputs": [
    {
     "data": {
      "text/plain": [
       "[<matplotlib.lines.Line2D at 0x15cda6ec208>]"
      ]
     },
     "execution_count": 13,
     "metadata": {},
     "output_type": "execute_result"
    },
    {
     "data": {
      "image/png": "[encoded data removed]",
      "text/plain": [
       "<Figure size 432x288 with 1 Axes>"
      ]
     },
     "metadata": {
      "needs_background": "light"
     },
     "output_type": "display_data"
    }
   ],
   "source": [
    "plt.plot(E_o_2)\n",
    "plt.plot(E_o_2_type0)\n",
    "plt.plot(E_o_2_type1)\n",
    "plt.plot(E_o_2_type2)"
   ]
  },
  {
   "cell_type": "markdown",
   "metadata": {},
   "source": [
    "# NN1 - Show independent, dependent, predicted values"
   ]
  },
  {
   "cell_type": "code",
   "execution_count": 14,
   "metadata": {},
   "outputs": [],
   "source": [
    "a_o_2, a_h_2 = NN2.feedforward(X,1)\n",
    "#print(np.concatenate((X,y,a_o_2),axis=1))"
   ]
  },
  {
   "cell_type": "markdown",
   "metadata": {},
   "source": [
    "# Plot Error Diff"
   ]
  },
  {
   "cell_type": "code",
   "execution_count": 19,
   "metadata": {},
   "outputs": [
    {
     "data": {
      "text/plain": [
       "[<matplotlib.lines.Line2D at 0x15cdaa86128>]"
      ]
     },
     "execution_count": 19,
     "metadata": {},
     "output_type": "execute_result"
    },
    {
     "data": {
      "image/png": "[encoded data removed]",
      "text/plain": [
       "<Figure size 432x288 with 1 Axes>"
      ]
     },
     "metadata": {
      "needs_background": "light"
     },
     "output_type": "display_data"
    }
   ],
   "source": [
    "#plt.plot(E)\n",
    "\n",
    "plt.plot(E_o_2)\n",
    "plt.plot(E_o_1)"
   ]
  },
  {
   "cell_type": "code",
   "execution_count": null,
   "metadata": {},
   "outputs": [],
   "source": []
  },
  {
   "cell_type": "markdown",
   "metadata": {},
   "source": [
    "# Save all NN weights"
   ]
  },
  {
   "cell_type": "code",
   "execution_count": 16,
   "metadata": {},
   "outputs": [],
   "source": [
    "# Save ALL Weights used for prediction\n",
    "#NN1.saveWeights()\n",
    "#NN2.saveWeights()\n"
   ]
  },
  {
   "cell_type": "code",
   "execution_count": null,
   "metadata": {},
   "outputs": [],
   "source": []
  },
  {
   "cell_type": "code",
   "execution_count": null,
   "metadata": {},
   "outputs": [],
   "source": []
  },
  {
   "cell_type": "code",
   "execution_count": null,
   "metadata": {},
   "outputs": [],
   "source": []
  }
 ],
 "metadata": {
  "kernelspec": {
   "display_name": "Python 3",
   "language": "python",
   "name": "python3"
  },
  "language_info": {
   "codemirror_mode": {
    "name": "ipython",
    "version": 3
   },
   "file_extension": ".py",
   "mimetype": "text/x-python",
   "name": "python",
   "nbconvert_exporter": "python",
   "pygments_lexer": "ipython3",
   "version": "3.7.1"
  }
 },
 "nbformat": 4,
 "nbformat_minor": 2
}
