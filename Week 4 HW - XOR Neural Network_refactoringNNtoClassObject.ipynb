{
 "cells": [
  {
   "cell_type": "markdown",
   "metadata": {},
   "source": [
    "# Import Libraries"
   ]
  },
  {
   "cell_type": "code",
   "execution_count": 1,
   "metadata": {},
   "outputs": [],
   "source": [
    "import numpy as np\n",
    "from matplotlib import pyplot as plt"
   ]
  },
  {
   "cell_type": "markdown",
   "metadata": {},
   "source": [
    "# Define the XOR Data Set"
   ]
  },
  {
   "cell_type": "code",
   "execution_count": 2,
   "metadata": {},
   "outputs": [],
   "source": [
    "\n",
    "X = np.array([\n",
    "    [1, 1, 1],\n",
    "    [1, 0, 1],\n",
    "    [0, 1, 1],\n",
    "    [0, 0, 1],\n",
    "])\n",
    "\n",
    "y = np.array([[0],\n",
    "              [1],\n",
    "              [1],\n",
    "              [0]\n",
    "             ])"
   ]
  },
  {
   "cell_type": "markdown",
   "metadata": {},
   "source": [
    "# Define Parameters"
   ]
  },
  {
   "cell_type": "code",
   "execution_count": 3,
   "metadata": {},
   "outputs": [],
   "source": [
    "# Number of epochs for learning\n",
    "epochs = 1000\n",
    "\n",
    "# Learning Rate\n",
    "eta = 3\n",
    "\n",
    "# Number of Hidden Neurons\n",
    "hidden = 10\n",
    "\n",
    "# Drop out rate probability (drp = 1 means no dropout)\n",
    "drp = 1"
   ]
  },
  {
   "cell_type": "markdown",
   "metadata": {},
   "source": [
    "# Define NN Class and Functions"
   ]
  },
  {
   "cell_type": "code",
   "execution_count": 4,
   "metadata": {},
   "outputs": [],
   "source": [
    "class Neural_Network(object):\n",
    "    def __init__(self, eta, hidden, drp):\n",
    "\n",
    "        # Define NN structure parameters\n",
    "        self.inputLayer = 3\n",
    "        self.hidden = hidden\n",
    "        self.outputLayer = 1\n",
    "        self.eta = eta\n",
    "        self.drp = drp\n",
    "\n",
    "        # Initialise random weights based on NN structure\n",
    "        self.w01 = np.random.random((self.inputLayer, self.hidden))\n",
    "        self.w12 = np.random.random((self.hidden, self.outputLayer))\n",
    "        \n",
    "\n",
    "        # Initialise Weights Learning lists to keep track of weights learning curve\n",
    "        self.w01_list = []\n",
    "        self.w12_list = []\n",
    "        self.w01_curve = []\n",
    "        self.w12_curve = []\n",
    "\n",
    "        # Initialise Error function\n",
    "        self.E_o = []\n",
    "\n",
    "    def feedforward(self,X,mode,k=drp):\n",
    "        # ****************************************************************************\n",
    "        # Feedforward FUNCTION\n",
    "        # \n",
    "        # Purpose of this function is to calculate the NN output based on the Input X,\n",
    "        # the given Weights per layer and the activation function for each neuron. The\n",
    "        # function is designed to cater for Dropout feature, which scales the weights\n",
    "        # of the NN during Testing, by probability p, which is a parametrised using \n",
    "        # input variable k. Typical default dropout value is 0.5. For k=1 there is no \n",
    "        # dropout\n",
    "        # \n",
    "        # Paramenters\n",
    "        # X     :Input vector\n",
    "        # mode  :Select \"0\" for Training Mode or Select \"1\" for Testing Mode\n",
    "        # k     :Optional input for the Dropout Hyperparameter, when applicable. If not\n",
    "        #        specified, it is defaulted to NN configuration\n",
    "\n",
    "        # When training (mode=\"0\") Drop out applies for the hidden layer outputs a_h\n",
    "        if mode == 0:\n",
    "            #print(\"Testing mode activated\")\n",
    "            self.z_h = np.dot(X, self.w01)\n",
    "            a_h = self.sigmoid(self.z_h)\n",
    "            #print(\"a_h before drop out:\", a_h)\n",
    "            r = np.random.binomial(size=a_h.shape,n=1,p=k)\n",
    "            a_h *= r\n",
    "            #print(\"a_h AFTER drop out, a_h:\", a_h)\n",
    "            #print(\"\\n\")\n",
    "            self.z_o = np.dot(a_h, self.w12)\n",
    "            a_o = self.sigmoid(self.z_o)\n",
    "\n",
    "        # When Testing (mode = \"1\") we use the normal weights w12 (not scaled with p)\n",
    "        elif mode == 1:\n",
    "            #print(\"Training mode activated\")\n",
    "            self.z_h = np.dot(X, self.w01)\n",
    "            a_h = self.sigmoid(self.z_h)\n",
    "            self.z_o = np.dot(a_h, self.w12)\n",
    "            a_o = self.sigmoid(self.z_o)\n",
    "\n",
    "        return(a_o,a_h)\n",
    "\n",
    "\n",
    "    def sigmoid(self, x, derivative=False):\n",
    "        if derivative:\n",
    "            return x * (1 - x)\n",
    "        return 1 / (1 + np.exp(-x))\n",
    "\n",
    "\n",
    "    def backprop(self,X,y,a_o,a_h):\n",
    "        # Backpropagation\n",
    "        ## Output to Hidden Layer weights\n",
    "        self.delta_E_o = a_o - y\n",
    "        self.delta_a_o = self.sigmoid(a_o,derivative=True)\n",
    "        self.delta_z_o = a_h\n",
    "        self.delta_E_w12 = np.dot(self.delta_z_o.T,(self.delta_E_o * self.delta_a_o))\n",
    "\n",
    "        ## Hidden to Input Layer weights\n",
    "        self.delta_E_h = np.dot(self.delta_E_o * self.delta_a_o, self.w12.T)\n",
    "        self.delta_a_h = self.sigmoid(a_h,derivative=True)\n",
    "        self.delta_z_h = X\n",
    "        self.delta_E_w01 = np.dot(self.delta_z_h.T, self.delta_E_h * self.delta_a_h)\n",
    "\n",
    "        # Store All weights throughout learning\n",
    "        self.w01_list.append(self.w01)\n",
    "        self.w12_list.append(self.w12)\n",
    "\n",
    "        # Adjust weights\n",
    "        self.w01 = self.w01 - eta * self.delta_E_w01\n",
    "        self.w12 = self.w12 - eta * self.delta_E_w12\n",
    "\n",
    "        \n",
    "    def saveWeights(self):\n",
    "        np.savetxt(\"w1.txt\", self.w01, fmt=\"%s\")\n",
    "        np.savetxt(\"w2.txt\", self.w12, fmt=\"%s\")\n",
    "        # print(\"Input-Hidden Layer weights:\\n\",self.w01)\n",
    "        # print(\"\\nHidden-Output Layer weights:\\n\",self.w12)\n",
    "\n",
    "    def weightsCurve(self):\n",
    "        for i in range(self.w01.shape[0]):\n",
    "            for j in range(self.w01.shape[1]):\n",
    "                for x in range(len(self.w01_list)):\n",
    "                    self.w01_curve.append(self.w01_list[x][i][j])\n",
    "                    #print(\"Weights w[\",x,\"],[\",i,\"],[\",j,\"] stored\")\n",
    "                    #print(w01_list[x][i][j])\n",
    "\n",
    "    def errorCurve(self, a_o_error):\n",
    "        self.E_o = np.append(self.E_o, sum(a_o_error))\n",
    "        return self.E_o\n",
    "    \n",
    "   # def returnWeights(self):\n",
    "   #    return self.w01, self.w02, self.w01_list, self.w02_list \n",
    "\n",
    "    def train(self,X,y,drp):\n",
    "        a_o, a_h = self.feedforward(X,0,drp)\n",
    "        self.backprop(X,y,a_o,a_h)\n",
    "\n",
    "    def plot(self, E_o):\n",
    "        print(\"Minimum Error achieved:\", min(E_o)) \n",
    "        print(\"Epochs run:\", epochs)\n",
    "        print(\"Hidden neurons\",self.hidden)\n",
    "        print(\"Learning Rate:\",self.eta)\n",
    "        fig = plt.figure()\n",
    "        plt.plot(E_o)\n",
    "        fig.suptitle('Error', fontsize=16)\n",
    "        plt.xlabel('Epochs', fontsize=12)\n",
    "        plt.ylabel('Error achieved', fontsize=12)\n",
    "        fig.savefig('Error.jpg')\n",
    "        plt.show()\n",
    "\n",
    "    def predict(self, X):\n",
    "        a_o, a_h = self.feedforward(X,1)\n",
    "        np.savetxt(\"Predicted_Output.csv\", a_o, delimiter=\",\")\n",
    "        print(\"Predicted Output based on trained weights:\")\n",
    "        print(a_o)\n",
    "        print(\"\\n\")\n",
    "        \n",
    "    def plotWeights(self, epochs):\n",
    "        fig = plt.figure()\n",
    "        numberOfWeights = self.w01.shape[1]*self.w01.shape[0]\n",
    "        for k in range(numberOfWeights):\n",
    "            t= self.w01_curve[(epochs*k):(epochs*(k+1)-1)]\n",
    "            plt.plot(t)\n",
    "\n",
    "        fig.suptitle('W01 Weights learning', fontsize=16)\n",
    "        plt.xlabel('Epochs', fontsize=12)\n",
    "        plt.ylabel('W01', fontsize=12)\n",
    "        fig.savefig('W01_curve.jpg')"
   ]
  },
  {
   "cell_type": "code",
   "execution_count": null,
   "metadata": {},
   "outputs": [],
   "source": []
  },
  {
   "cell_type": "code",
   "execution_count": 5,
   "metadata": {},
   "outputs": [],
   "source": [
    "# Alternative implementation for Masking drop out feature\n",
    "\n",
    "#test = np.random.rand(*a_h.shape) < drp\n",
    "#test.shape\n",
    "#a_h*test"
   ]
  },
  {
   "cell_type": "code",
   "execution_count": null,
   "metadata": {},
   "outputs": [],
   "source": []
  },
  {
   "cell_type": "markdown",
   "metadata": {},
   "source": [
    "\n",
    "\n",
    "\n"
   ]
  },
  {
   "cell_type": "markdown",
   "metadata": {},
   "source": [
    "## Start feeding forward and backpropagate *epochs* times."
   ]
  },
  {
   "cell_type": "code",
   "execution_count": 6,
   "metadata": {},
   "outputs": [
    {
     "name": "stdout",
     "output_type": "stream",
     "text": [
      "Predicted Output based on trained weights:\n",
      "[[0.02369877]\n",
      " [0.97626084]\n",
      " [0.97635654]\n",
      " [0.02765509]]\n",
      "\n",
      "\n",
      "Minimum Error achieved: 0.0012262609905644467\n",
      "Epochs run: 1000\n",
      "Hidden neurons 10\n",
      "Learning Rate: 3\n"
     ]
    },
    {
     "data": {
      "image/png": "[encoded data removed]",
      "text/plain": [
       "<Figure size 432x288 with 1 Axes>"
      ]
     },
     "metadata": {
      "needs_background": "light"
     },
     "output_type": "display_data"
    },
    {
     "data": {
      "image/png": "[encoded data removed]",
      "text/plain": [
       "<Figure size 432x288 with 1 Axes>"
      ]
     },
     "metadata": {
      "needs_background": "light"
     },
     "output_type": "display_data"
    }
   ],
   "source": [
    "\n",
    "# Initiating 2 NNs with the following function and input parameters\n",
    "# Neural_Network(eta, hidden, drp)\n",
    "NN = Neural_Network(eta, hidden, drp)\n",
    "for epoch in range(epochs):\n",
    "    #Forward pass\n",
    "    a_o, a_h  = NN.feedforward(X,0, drp)\n",
    "    \n",
    "    # Calculate the error\n",
    "    a_o_error = ((1 / 2) * (np.power((a_o - y), 2)))\n",
    "    \n",
    "    # Build error curve while learning\n",
    "    E_o = NN.errorCurve(a_o_error)\n",
    "    \n",
    "    # Train Neural Network and construct weights learning curve as it learns\n",
    "    NN.train(X, y, drp)\n",
    "    NN.weightsCurve\n",
    "\n",
    "# Run prediction based on learned weights and Plot Error curve\n",
    "NN.predict(X)\n",
    "NN.plot(E_o)\n",
    "\n",
    "# Save Weights used for prediction\n",
    "NN.saveWeights()\n",
    "# Plot Weights curve throughout learning\n",
    "NN.plotWeights(epochs)\n",
    "\n"
   ]
  },
  {
   "cell_type": "markdown",
   "metadata": {},
   "source": [
    "# Initialize variables"
   ]
  },
  {
   "cell_type": "code",
   "execution_count": 7,
   "metadata": {},
   "outputs": [],
   "source": [
    "#a_h_r"
   ]
  },
  {
   "cell_type": "markdown",
   "metadata": {},
   "source": [
    "### Plotting weights as the NN learns"
   ]
  },
  {
   "cell_type": "markdown",
   "metadata": {},
   "source": [
    "fig = plt.figure()\n",
    "numberOfWeights = w01.shape[1]*w01.shape[0]\n",
    "for k in range(numberOfWeights):\n",
    "    t= w01_curve[(epochs*k):(epochs*(k+1)-1)]\n",
    "    plt.plot(t)\n",
    "\n",
    "fig.suptitle('W01 Weights learning', fontsize=16)\n",
    "plt.xlabel('Epochs', fontsize=12)\n",
    "plt.ylabel('W01', fontsize=12)\n",
    "fig.savefig('W01_curve.jpg')"
   ]
  },
  {
   "cell_type": "markdown",
   "metadata": {},
   "source": [
    "## Final trained Weights"
   ]
  }
 ],
 "metadata": {
  "kernelspec": {
   "display_name": "Python 3",
   "language": "python",
   "name": "python3"
  },
  "language_info": {
   "codemirror_mode": {
    "name": "ipython",
    "version": 3
   },
   "file_extension": ".py",
   "mimetype": "text/x-python",
   "name": "python",
   "nbconvert_exporter": "python",
   "pygments_lexer": "ipython3",
   "version": "3.7.1"
  }
 },
 "nbformat": 4,
 "nbformat_minor": 2
}
