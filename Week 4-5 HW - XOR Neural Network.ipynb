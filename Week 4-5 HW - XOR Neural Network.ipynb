{
 "cells": [
  {
   "cell_type": "markdown",
   "metadata": {},
   "source": [
    "# Import Libraries"
   ]
  },
  {
   "cell_type": "code",
   "execution_count": 2,
   "metadata": {},
   "outputs": [],
   "source": [
    "import numpy as np\n",
    "from matplotlib import pyplot as plt\n",
    "from numpy import genfromtxt"
   ]
  },
  {
   "cell_type": "markdown",
   "metadata": {},
   "source": [
    "# Define the XOR Data Set"
   ]
  },
  {
   "cell_type": "code",
   "execution_count": 3,
   "metadata": {},
   "outputs": [
    {
     "data": {
      "text/plain": [
       "(4, 3)"
      ]
     },
     "execution_count": 3,
     "metadata": {},
     "output_type": "execute_result"
    }
   ],
   "source": [
    "\n",
    "X = np.array([\n",
    "    [1, 1, 1],\n",
    "    [1, 0, 1],\n",
    "    [0, 1, 1],\n",
    "    [0, 0, 1],\n",
    "])\n",
    "\n",
    "y = np.array([[0],\n",
    "              [1],\n",
    "              [1],\n",
    "              [0]\n",
    "             ])\n",
    "\n",
    "X.shape"
   ]
  },
  {
   "cell_type": "markdown",
   "metadata": {},
   "source": [
    "# Define Parameters"
   ]
  },
  {
   "cell_type": "code",
   "execution_count": 3,
   "metadata": {},
   "outputs": [],
   "source": [
    "# Learning Rate\n",
    "eta = 3\n",
    "\n",
    "# Number of epochs for learning\n",
    "epochs = 1000\n",
    "\n",
    "# Number of Hidden Neurons\n",
    "hidden = 15\n",
    "\n",
    "# Drop out rate probability (drp = 1 means no dropout)\n",
    "drp = 1"
   ]
  },
  {
   "cell_type": "markdown",
   "metadata": {},
   "source": [
    "# Define Functions"
   ]
  },
  {
   "cell_type": "code",
   "execution_count": 4,
   "metadata": {},
   "outputs": [],
   "source": [
    "def sigmoid(x, derivative=False):\n",
    "    if derivative:\n",
    "        return x * (1 - x)\n",
    "    return 1 / (1 + np.exp(-x))"
   ]
  },
  {
   "cell_type": "code",
   "execution_count": 5,
   "metadata": {},
   "outputs": [],
   "source": [
    "def feedforward(X,mode,k=drp):\n",
    "    # When training (mode=\"0\") Drop out applies for the hidden layer outputs a_h\n",
    "    if mode == 0:\n",
    "        #print(\"Testing mode activated\")\n",
    "        z_h = np.dot(X, w01)\n",
    "        a_h = sigmoid(z_h)\n",
    "        #print(\"a_h before drop out:\", a_h)\n",
    "        r = np.random.binomial(size=a_h.shape,n=1,p=k)\n",
    "        a_h *= r\n",
    "        #print(\"a_h AFTER drop out, a_h:\", a_h)\n",
    "        #print(\"\\n\")\n",
    "        z_o = np.dot(a_h, w12)\n",
    "        a_o = sigmoid(z_o)\n",
    "    \n",
    "    # When Testing (mode = \"1\") we use the normal weights w12 (not scaled with p)\n",
    "    elif mode == 1:\n",
    "        #print(\"Training mode activated\")\n",
    "        z_h = np.dot(X, w01)\n",
    "        a_h = sigmoid(z_h)\n",
    "        z_o = np.dot(a_h, w12)\n",
    "        a_o = sigmoid(z_o)\n",
    "    else:\n",
    "        print(\"Must specify 2nd argument '0' for Training or '1' for Test\")\n",
    "        \n",
    "    return(a_o,a_h)"
   ]
  },
  {
   "cell_type": "code",
   "execution_count": 6,
   "metadata": {},
   "outputs": [],
   "source": [
    "#test = np.random.rand(*a_h.shape) < drp"
   ]
  },
  {
   "cell_type": "code",
   "execution_count": 7,
   "metadata": {},
   "outputs": [],
   "source": [
    "#test.shape\n",
    "#a_h*test"
   ]
  },
  {
   "cell_type": "code",
   "execution_count": null,
   "metadata": {},
   "outputs": [],
   "source": []
  },
  {
   "cell_type": "markdown",
   "metadata": {},
   "source": [
    "\n",
    "\n",
    "\n"
   ]
  },
  {
   "cell_type": "markdown",
   "metadata": {},
   "source": [
    "# Initialize the weights"
   ]
  },
  {
   "cell_type": "code",
   "execution_count": 8,
   "metadata": {},
   "outputs": [],
   "source": [
    "w01 = np.random.random((len(X[0]), hidden))\n",
    "w12 = np.random.random((hidden, 1))\n",
    "\n",
    "w01_list = []\n",
    "w12_list = []\n",
    "#r = np.random.binomial(size=a_h.shape, n=1, p= 0.5)\n",
    "#r.shape\n",
    "#w12.shape\n"
   ]
  },
  {
   "cell_type": "markdown",
   "metadata": {},
   "source": [
    "## Start feeding forward and backpropagate *epochs* times."
   ]
  },
  {
   "cell_type": "code",
   "execution_count": 9,
   "metadata": {},
   "outputs": [],
   "source": [
    "E_o = []\n",
    "for epoch in range(epochs):\n",
    "    if drp == 0.5:\n",
    "        a_o, a_h = feedforward(X,0,drp)\n",
    "\n",
    "        # Calculate the error\n",
    "        a_o_error = ((1 / 2) * (np.power((a_o - y), 2)))\n",
    "        #print(\"******** Error after \", epoch, \"epochs is \", sum(a_o_error), \"*********\")\n",
    "        #print(sum(a_o_error))\n",
    "        E_o = np.append(E_o, sum(a_o_error))\n",
    "\n",
    "\n",
    "        # Backpropagation\n",
    "        ## Output to Hidden Layer weights\n",
    "        delta_E_o = a_o - y\n",
    "        delta_a_o = sigmoid(a_o,derivative=True)\n",
    "        delta_z_o = a_h\n",
    "        delta_E_w12 = np.dot(delta_z_o.T,(delta_E_o * delta_a_o))\n",
    "\n",
    "\n",
    "        ## Hidden to Input Layer weights\n",
    "        delta_E_h = np.dot(delta_E_o * delta_a_o, w12.T)\n",
    "        delta_a_h = sigmoid(a_h,derivative=True)\n",
    "        delta_z_h = X\n",
    "        delta_E_w01 = np.dot(delta_z_h.T, delta_E_h * delta_a_h)\n",
    "\n",
    "\n",
    "        # Store All weights throughout learning\n",
    "        w01_list.append(w01)\n",
    "        w12_list.append(w12)\n",
    "\n",
    "        # Adjust weights\n",
    "        w01 = w01 - eta * delta_E_w01\n",
    "        w12 = w12 - eta * delta_E_w12\n",
    "        \n",
    "    elif drp == 1:\n",
    "        a_o, a_h = feedforward(X,0,drp)\n",
    "    \n",
    "        # Calculate the error\n",
    "        a_o_error = ((1 / 2) * (np.power((a_o - y), 2)))\n",
    "        #print(\"******** Error after \", epoch, \"epochs is \", sum(a_o_error), \"*********\")\n",
    "        #print(sum(a_o_error))\n",
    "        E_o = np.append(E_o, sum(a_o_error))\n",
    "\n",
    "\n",
    "        # Backpropagation\n",
    "        ## Output to Hidden Layer weights\n",
    "        delta_E_o = a_o - y\n",
    "        delta_a_o = sigmoid(a_o,derivative=True)\n",
    "        delta_z_o = a_h\n",
    "        delta_E_w12 = np.dot(delta_z_o.T,(delta_E_o * delta_a_o))\n",
    "\n",
    "\n",
    "        ## Hidden to Input Layer weights\n",
    "        delta_E_h = np.dot(delta_E_o * delta_a_o, w12.T)\n",
    "        delta_a_h = sigmoid(a_h,derivative=True)\n",
    "        delta_z_h = X\n",
    "        delta_E_w01 = np.dot(delta_z_h.T, delta_E_h * delta_a_h)\n",
    "\n",
    "\n",
    "        # Store All weights throughout learning\n",
    "        w01_list.append(w01)\n",
    "        w12_list.append(w12)\n",
    "\n",
    "        # Adjust weights\n",
    "        w01 = w01 - eta * delta_E_w01\n",
    "        w12 = w12 - eta * delta_E_w12\n"
   ]
  },
  {
   "cell_type": "code",
   "execution_count": 10,
   "metadata": {},
   "outputs": [],
   "source": [
    "#a_h_r"
   ]
  },
  {
   "cell_type": "markdown",
   "metadata": {},
   "source": [
    "# Checking dimensions across calculations"
   ]
  },
  {
   "cell_type": "code",
   "execution_count": 11,
   "metadata": {},
   "outputs": [
    {
     "name": "stdout",
     "output_type": "stream",
     "text": [
      "\n",
      "E_o dimension is  (4, 1)\n",
      "delta_a_o dimension is  (4, 1)\n",
      "delta_z_o dimension is  (4, 15)\n",
      "delta_E_o times delta_a_o dimension is  (4, 1)\n",
      "delta_z_o Transpose dimension is (15, 4)\n",
      "Output layer dimension is  (15, 1)\n",
      "\n",
      "delta_E_o times delta_a_o dimension is  (4, 1)\n",
      "w12 Transpose dimension is (1, 15)\n",
      "delta_E_h dimension is  (4, 15)\n",
      "delta_a_h dimension is  (4, 15)\n",
      "delta_z_h dimension is  (4, 3)\n",
      "Hidden Layer dimension is  (3, 15)\n"
     ]
    }
   ],
   "source": [
    "    print(\"\")\n",
    "    print(\"E_o dimension is \", delta_E_o.shape)\n",
    "    print(\"delta_a_o dimension is \", delta_a_o.shape)\n",
    "    print(\"delta_z_o dimension is \", delta_z_o.shape)\n",
    "    print(\"delta_E_o times delta_a_o dimension is \", (delta_E_o * delta_a_o).shape)\n",
    "    print(\"delta_z_o Transpose dimension is\", (delta_z_o.T).shape)\n",
    "    print(\"Output layer dimension is \", delta_E_w12.shape)\n",
    "    print(\"\")\n",
    "    print(\"delta_E_o times delta_a_o dimension is \", (delta_E_o * delta_a_o).shape)\n",
    "    print(\"w12 Transpose dimension is\", (w12.T).shape)    \n",
    "    print(\"delta_E_h dimension is \", delta_E_h.shape)\n",
    "    print(\"delta_a_h dimension is \", delta_a_h.shape)\n",
    "    print(\"delta_z_h dimension is \", delta_z_h.shape)\n",
    "    print(\"Hidden Layer dimension is \", delta_E_w01.shape)"
   ]
  },
  {
   "cell_type": "code",
   "execution_count": 12,
   "metadata": {},
   "outputs": [],
   "source": [
    "#a_h.shape\n",
    "#r.shape\n",
    "#r = np.random.binomial(size=a_h.shape,n=1,p=drp)\n",
    "#r"
   ]
  },
  {
   "cell_type": "markdown",
   "metadata": {},
   "source": [
    "# Neural Network weights"
   ]
  },
  {
   "cell_type": "markdown",
   "metadata": {},
   "source": [
    "### Iterating through Epochs and storing learned weights evolution"
   ]
  },
  {
   "cell_type": "code",
   "execution_count": 13,
   "metadata": {},
   "outputs": [],
   "source": [
    "w01_curve = []\n",
    "for i in range(w01.shape[0]):\n",
    "    for j in range(w01.shape[1]):\n",
    "        for x in range(len(w01_list)):\n",
    "            #print(w01_list[x][i][j])\n",
    "            w01_curve.append(w01_list[x][i][j])\n",
    "            #print(\"Weights w[\",x,\"],[\",i,\"],[\",j,\"] stored\")"
   ]
  },
  {
   "cell_type": "markdown",
   "metadata": {},
   "source": [
    "### Plotting weights as the NN learns"
   ]
  },
  {
   "cell_type": "code",
   "execution_count": 14,
   "metadata": {},
   "outputs": [
    {
     "data": {
      "image/png": "[encoded data removed]",
      "text/plain": [
       "<Figure size 432x288 with 1 Axes>"
      ]
     },
     "metadata": {
      "needs_background": "light"
     },
     "output_type": "display_data"
    }
   ],
   "source": [
    "fig = plt.figure()\n",
    "numberOfWeights = w01.shape[1]*w01.shape[0]\n",
    "for k in range(numberOfWeights):\n",
    "    t= w01_curve[(epochs*k):(epochs*(k+1)-1)]\n",
    "    plt.plot(t)\n",
    "\n",
    "fig.suptitle('W01 Weights learning', fontsize=16)\n",
    "plt.xlabel('Epochs', fontsize=12)\n",
    "plt.ylabel('W01', fontsize=12)\n",
    "fig.savefig('W01_curve.jpg')"
   ]
  },
  {
   "cell_type": "markdown",
   "metadata": {},
   "source": [
    "## Final trained Weights"
   ]
  },
  {
   "cell_type": "code",
   "execution_count": 15,
   "metadata": {},
   "outputs": [
    {
     "name": "stdout",
     "output_type": "stream",
     "text": [
      "Input-Hidden Layer weights w01:\n",
      " [[-3.62485704  0.29506528 -0.5484893  -0.60415023 -0.10239088 -0.88671445\n",
      "   2.75101858  0.09502483 -4.38193778  0.16129685  0.05769467 -6.02019688\n",
      "   0.7259811  -0.06262242  0.07728307]\n",
      " [-3.66457065 -0.94826493 -0.03427328  0.0764973  -0.36650163 -0.02488276\n",
      "   2.78485217 -0.20238911  6.05589063 -1.05048375 -0.58413045  4.36360138\n",
      "   0.72680157 -1.15367893  0.08394448]\n",
      " [ 0.49382271 -0.75744938 -0.83558439 -0.74599764 -0.72756477 -0.62587847\n",
      "   0.19455263 -0.91030713  1.90723517 -0.61035798 -0.69813898 -1.91171274\n",
      "  -1.28000134 -0.13459013 -1.21992949]]\n",
      "\n",
      "Hidden-Output Layer weights w12:\n",
      " [[-3.74052286]\n",
      " [ 0.80230023]\n",
      " [ 0.65283133]\n",
      " [ 0.66970899]\n",
      " [ 0.48075652]\n",
      " [ 1.11343533]\n",
      " [ 2.84160307]\n",
      " [ 0.23329604]\n",
      " [-7.79820181]\n",
      " [ 1.05154062]\n",
      " [ 0.56697829]\n",
      " [ 8.3520716 ]\n",
      " [-0.85050116]\n",
      " [ 1.26068494]\n",
      " [ 0.00839936]]\n"
     ]
    }
   ],
   "source": [
    "print(\"Input-Hidden Layer weights w01:\\n\",w01)\n",
    "print(\"\\nHidden-Output Layer weights w12:\\n\",w12)\n"
   ]
  },
  {
   "cell_type": "code",
   "execution_count": null,
   "metadata": {},
   "outputs": [],
   "source": []
  },
  {
   "cell_type": "markdown",
   "metadata": {},
   "source": [
    "\n",
    "# Error curve - Plot & Save"
   ]
  },
  {
   "cell_type": "code",
   "execution_count": 16,
   "metadata": {},
   "outputs": [
    {
     "name": "stdout",
     "output_type": "stream",
     "text": [
      "Minimum Error achieved: 0.0009261539471569205\n",
      "Epochs run: 1000\n",
      "Hidden neurons 15\n",
      "Learning Rate: 3\n"
     ]
    },
    {
     "data": {
      "image/png": "[encoded data removed]",
      "text/plain": [
       "<Figure size 432x288 with 1 Axes>"
      ]
     },
     "metadata": {
      "needs_background": "light"
     },
     "output_type": "display_data"
    }
   ],
   "source": [
    "\n",
    "if drp == 1: \n",
    "    print(\"Minimum Error achieved:\", min(E_o)) \n",
    "    print(\"Epochs run:\", epochs)\n",
    "    print(\"Hidden neurons\",hidden)\n",
    "    print(\"Learning Rate:\",eta)\n",
    "    np.savetxt(\"Error_nD.csv\", E_o, delimiter=\",\")\n",
    "    fig = plt.figure()\n",
    "    plt.plot(E_o)\n",
    "    fig.suptitle('Error without Dropout', fontsize=16)\n",
    "    plt.xlabel('Epochs', fontsize=12)\n",
    "    plt.ylabel('Error', fontsize=12)\n",
    "    fig.savefig('Error_nD.jpg')\n",
    "    plt.show()\n",
    "\n",
    "elif drp == 0.5:\n",
    "    print(\"Minimum Error achieved:\", min(E_o)) \n",
    "    print(\"Epochs run:\", epochs)\n",
    "    print(\"Hidden neurons\",hidden)\n",
    "    print(\"Learning Rate:\",eta)\n",
    "    np.savetxt(\"Error_D.csv\", E_o, delimiter=\",\")\n",
    "    fig = plt.figure()\n",
    "    plt.plot(E_o)\n",
    "    fig.suptitle('Error with Dropout', fontsize=16)\n",
    "    plt.xlabel('Epochs', fontsize=12)\n",
    "    plt.ylabel('Error', fontsize=12)\n",
    "    fig.savefig('Error_D.jpg')\n",
    "    plt.show()\n",
    "\n",
    "else: \n",
    "    print(\"No valid value for Drop out Hyperparameter\")"
   ]
  },
  {
   "cell_type": "markdown",
   "metadata": {},
   "source": [
    "# Testing Run: Learned XOR Output"
   ]
  },
  {
   "cell_type": "code",
   "execution_count": 17,
   "metadata": {},
   "outputs": [],
   "source": [
    "if drp == 1:\n",
    "    a_o, a_h = feedforward(X,1)\n",
    "    np.savetxt(\"Predicted_Output_nD.csv\", a_o, delimiter=\",\")\n",
    "    #print(\"Predicted output:\", a_o)\n",
    "elif drp == 0.5:\n",
    "    a_o, a_h = feedforward(X,1)\n",
    "    np.savetxt(\"Predicted_Output_D.csv\", a_o, delimiter=\",\")\n",
    "    #print(\"Predicted output:\", a_o)\n"
   ]
  },
  {
   "cell_type": "code",
   "execution_count": 18,
   "metadata": {},
   "outputs": [
    {
     "data": {
      "image/png": "[encoded data removed]",
      "text/plain": [
       "<Figure size 432x288 with 1 Axes>"
      ]
     },
     "metadata": {
      "needs_background": "light"
     },
     "output_type": "display_data"
    },
    {
     "name": "stdout",
     "output_type": "stream",
     "text": [
      "Error without Dropoff 0.0009261539471569205\n",
      "Predicted output without Dropoff: [0.02639537 0.97818882 0.97823913 0.01427657]\n",
      "\n",
      "Error with Dropoff 0.0012944173002587592\n",
      "Predicted output with Dropoff: [0.01426725 0.99360783 0.99988146 0.00220748]\n"
     ]
    }
   ],
   "source": [
    "\n",
    "Error_nD = genfromtxt('Error_nD.csv', delimiter=',') \n",
    "Error_D = genfromtxt('Error_D.csv', delimiter=',')\n",
    "Pred_nD = genfromtxt('Predicted_Output_nD.csv', delimiter=',')\n",
    "Pred_D = genfromtxt('Predicted_Output_D.csv', delimiter=',')\n",
    "\n",
    "\n",
    "fig = plt.figure()\n",
    "plt.plot(Error_D)\n",
    "plt.plot(Error_nD)\n",
    "fig.suptitle('Error Diff', fontsize=16)\n",
    "plt.xlabel('Epochs', fontsize=12)\n",
    "plt.ylabel('Error achieved', fontsize=12)\n",
    "fig.savefig('Error Diff.jpg')\n",
    "plt.show()\n",
    "\n",
    "print(\"Error without Dropoff\", min(Error_nD))\n",
    "print(\"Predicted output without Dropoff:\", Pred_nD)\n",
    "print(\"\\nError with Dropoff\", min(Error_D))\n",
    "print(\"Predicted output with Dropoff:\", Pred_D)"
   ]
  },
  {
   "cell_type": "code",
   "execution_count": null,
   "metadata": {},
   "outputs": [],
   "source": []
  },
  {
   "cell_type": "code",
   "execution_count": null,
   "metadata": {},
   "outputs": [],
   "source": []
  }
 ],
 "metadata": {
  "kernelspec": {
   "display_name": "Python 3",
   "language": "python",
   "name": "python3"
  },
  "language_info": {
   "codemirror_mode": {
    "name": "ipython",
    "version": 3
   },
   "file_extension": ".py",
   "mimetype": "text/x-python",
   "name": "python",
   "nbconvert_exporter": "python",
   "pygments_lexer": "ipython3",
   "version": "3.7.1"
  }
 },
 "nbformat": 4,
 "nbformat_minor": 2
}
